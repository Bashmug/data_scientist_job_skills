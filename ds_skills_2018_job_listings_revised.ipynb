{
  "cells": [
    {
      "metadata": {
        "_uuid": "3cc4560c97d2f56e2309aa6c2fc576bc834eb02d"
      },
      "cell_type": "markdown",
      "source": "# The Most in Demand Skills for Data Scientists\n## What are employers looking for?\n## By Jeff Hale\n\nI'm going to explore which skills and software for Data Scientists are in demand in the US in October 2018 by looking at online job listing sites. I'll be using plotly and pandas to make interactive visualizations for this project.\n\n### See [this Medium article](https://towardsdatascience.com/the-most-in-demand-skills-for-data-scientists-4a4a8db896db) for discussion.\n\n\nThis notebook includes additional analyses not in the Medium article and presents the findings in a slightly different order."
    },
    {
      "metadata": {
        "_uuid": "f8ccb48393bd4151b192d6759775ae6636fc1be1"
      },
      "cell_type": "markdown",
      "source": "# Please upvote this Kaggle kernel if you find it helpful."
    },
    {
      "metadata": {
        "trusted": true,
        "_uuid": "63cce2f9932a50b80dc1f7a5775a3cf30602767a"
      },
      "cell_type": "code",
      "source": "# import the usual frameworks\nimport pandas as pd\nimport numpy as np\nimport matplotlib.pyplot as plt\nimport seaborn as sns\nimport collections\nimport warnings\n\nfrom IPython.core.display import display, HTML\nfrom sklearn.preprocessing import MinMaxScaler\n    \n# import plotly \nimport plotly\nimport plotly.figure_factory as ff\nimport plotly.graph_objs as go\nimport plotly.offline as py\nimport plotly.tools as tls\n\n# for color scales in plotly\nimport colorlover as cl \n\n# configure things\nwarnings.filterwarnings('ignore')\n\npd.options.display.float_format = '{:,.2f}'.format  \npd.options.display.max_columns = 999\n\npy.init_notebook_mode(connected=True)\n\n%load_ext autoreload\n%autoreload 2\n%matplotlib inline",
      "execution_count": 1,
      "outputs": [
        {
          "output_type": "display_data",
          "data": {
            "text/html": "<script>requirejs.config({paths: { 'plotly': ['https://cdn.plot.ly/plotly-latest.min']},});if(!window.Plotly) {{require(['plotly'],function(plotly) {window.Plotly=plotly;});}}</script>",
            "text/vnd.plotly.v1+html": "<script>requirejs.config({paths: { 'plotly': ['https://cdn.plot.ly/plotly-latest.min']},});if(!window.Plotly) {{require(['plotly'],function(plotly) {window.Plotly=plotly;});}}</script>"
          },
          "metadata": {}
        }
      ]
    },
    {
      "metadata": {
        "_uuid": "61968c9262527481986afc842ea78cd50a1d3b92"
      },
      "cell_type": "markdown",
      "source": "List package versions for reproducibility."
    },
    {
      "metadata": {
        "trusted": true,
        "_uuid": "cbc451d8817fa38fc0d3a79ea409e7d66b2d07b2"
      },
      "cell_type": "code",
      "source": "#!pip list\n# !pwd\n# !ls",
      "execution_count": 2,
      "outputs": []
    },
    {
      "metadata": {
        "_uuid": "a51d1e2caf8428c5bb2114fa25af699be182d4d1"
      },
      "cell_type": "markdown",
      "source": "# Part 1: Data Science Software"
    },
    {
      "metadata": {
        "_uuid": "5b673c2193aa65245cc37f8982a85180df4efef1"
      },
      "cell_type": "markdown",
      "source": "Read in the data from the csv. The Google sheet that holds the data is available [here](https://docs.google.com/spreadsheets/d/1lac1H2IgCDCs9LLTQL6yb6MUPN1u4C5fJv_6YjipIaM/edit?usp=sharing)."
    },
    {
      "metadata": {
        "trusted": true,
        "_uuid": "67884aef7dfed88cbe70307aed22813b0029f3fa"
      },
      "cell_type": "code",
      "source": "df = pd.read_csv(\n    '../input/ds-job-listing-technology/ds_job_listing_software.csv',\n    usecols=['Keyword','LinkedIn', 'Indeed', 'SimplyHired', 'Monster'],\n    skiprows=0,\n    nrows=37, \n    thousands=',',\n    index_col=0,\n   \n)\ndf",
      "execution_count": 3,
      "outputs": [
        {
          "output_type": "execute_result",
          "execution_count": 3,
          "data": {
            "text/plain": "              LinkedIn  Indeed  SimplyHired  Monster\nKeyword                                             \nPython            6347    3818         2888     2544\nR                 4553    3106         2393     2365\nSQL               3879    2628         2056     1841\nSpark             2169    1551         1167     1062\nHadoop            2142    1578         1164     1200\nJava              1944    1377         1059     1002\nSAS               1713    1134          910      978\nTableau           1216    1012          780      744\nHive              1182     830          637      619\nScala             1040     739          589      520\nC++               1024     765          580      439\nAWS                947     791          607      467\nTensorFlow         844     661          501      385\nMatlab             806     677          544      419\nC                  795     492          384      523\nExcel              701     569          438      397\nLinux              601     517          364      303\nNoSQL              598     436          387      362\nAzure              578     416          285      272\nScikit-learn       474     402          294      212\nSPSS               452     330          273      202\nPandas             421     330          282      175\nNumpy              387     257          232      152\nPig                367     296          231      256\nD3                 353     149          113       95\nKeras              329     253          205      131\nJavascript         328     245          214      224\nC#                 324     245          182      219\nPerl               309     258          202      198\nHbase              302     219          167      138\nDocker             290     240          148      194\nGit                282     261          186      145\nMySQL              278     233          187      121\nMongoDB            251     196          165      116\nCassandra          236     174          146      136\nPyTorch            214     143          131       98\nCaffe              206     149          113       96",
            "text/html": "<div>\n<style scoped>\n    .dataframe tbody tr th:only-of-type {\n        vertical-align: middle;\n    }\n\n    .dataframe tbody tr th {\n        vertical-align: top;\n    }\n\n    .dataframe thead th {\n        text-align: right;\n    }\n</style>\n<table border=\"1\" class=\"dataframe\">\n  <thead>\n    <tr style=\"text-align: right;\">\n      <th></th>\n      <th>LinkedIn</th>\n      <th>Indeed</th>\n      <th>SimplyHired</th>\n      <th>Monster</th>\n    </tr>\n    <tr>\n      <th>Keyword</th>\n      <th></th>\n      <th></th>\n      <th></th>\n      <th></th>\n    </tr>\n  </thead>\n  <tbody>\n    <tr>\n      <th>Python</th>\n      <td>6347</td>\n      <td>3818</td>\n      <td>2888</td>\n      <td>2544</td>\n    </tr>\n    <tr>\n      <th>R</th>\n      <td>4553</td>\n      <td>3106</td>\n      <td>2393</td>\n      <td>2365</td>\n    </tr>\n    <tr>\n      <th>SQL</th>\n      <td>3879</td>\n      <td>2628</td>\n      <td>2056</td>\n      <td>1841</td>\n    </tr>\n    <tr>\n      <th>Spark</th>\n      <td>2169</td>\n      <td>1551</td>\n      <td>1167</td>\n      <td>1062</td>\n    </tr>\n    <tr>\n      <th>Hadoop</th>\n      <td>2142</td>\n      <td>1578</td>\n      <td>1164</td>\n      <td>1200</td>\n    </tr>\n    <tr>\n      <th>Java</th>\n      <td>1944</td>\n      <td>1377</td>\n      <td>1059</td>\n      <td>1002</td>\n    </tr>\n    <tr>\n      <th>SAS</th>\n      <td>1713</td>\n      <td>1134</td>\n      <td>910</td>\n      <td>978</td>\n    </tr>\n    <tr>\n      <th>Tableau</th>\n      <td>1216</td>\n      <td>1012</td>\n      <td>780</td>\n      <td>744</td>\n    </tr>\n    <tr>\n      <th>Hive</th>\n      <td>1182</td>\n      <td>830</td>\n      <td>637</td>\n      <td>619</td>\n    </tr>\n    <tr>\n      <th>Scala</th>\n      <td>1040</td>\n      <td>739</td>\n      <td>589</td>\n      <td>520</td>\n    </tr>\n    <tr>\n      <th>C++</th>\n      <td>1024</td>\n      <td>765</td>\n      <td>580</td>\n      <td>439</td>\n    </tr>\n    <tr>\n      <th>AWS</th>\n      <td>947</td>\n      <td>791</td>\n      <td>607</td>\n      <td>467</td>\n    </tr>\n    <tr>\n      <th>TensorFlow</th>\n      <td>844</td>\n      <td>661</td>\n      <td>501</td>\n      <td>385</td>\n    </tr>\n    <tr>\n      <th>Matlab</th>\n      <td>806</td>\n      <td>677</td>\n      <td>544</td>\n      <td>419</td>\n    </tr>\n    <tr>\n      <th>C</th>\n      <td>795</td>\n      <td>492</td>\n      <td>384</td>\n      <td>523</td>\n    </tr>\n    <tr>\n      <th>Excel</th>\n      <td>701</td>\n      <td>569</td>\n      <td>438</td>\n      <td>397</td>\n    </tr>\n    <tr>\n      <th>Linux</th>\n      <td>601</td>\n      <td>517</td>\n      <td>364</td>\n      <td>303</td>\n    </tr>\n    <tr>\n      <th>NoSQL</th>\n      <td>598</td>\n      <td>436</td>\n      <td>387</td>\n      <td>362</td>\n    </tr>\n    <tr>\n      <th>Azure</th>\n      <td>578</td>\n      <td>416</td>\n      <td>285</td>\n      <td>272</td>\n    </tr>\n    <tr>\n      <th>Scikit-learn</th>\n      <td>474</td>\n      <td>402</td>\n      <td>294</td>\n      <td>212</td>\n    </tr>\n    <tr>\n      <th>SPSS</th>\n      <td>452</td>\n      <td>330</td>\n      <td>273</td>\n      <td>202</td>\n    </tr>\n    <tr>\n      <th>Pandas</th>\n      <td>421</td>\n      <td>330</td>\n      <td>282</td>\n      <td>175</td>\n    </tr>\n    <tr>\n      <th>Numpy</th>\n      <td>387</td>\n      <td>257</td>\n      <td>232</td>\n      <td>152</td>\n    </tr>\n    <tr>\n      <th>Pig</th>\n      <td>367</td>\n      <td>296</td>\n      <td>231</td>\n      <td>256</td>\n    </tr>\n    <tr>\n      <th>D3</th>\n      <td>353</td>\n      <td>149</td>\n      <td>113</td>\n      <td>95</td>\n    </tr>\n    <tr>\n      <th>Keras</th>\n      <td>329</td>\n      <td>253</td>\n      <td>205</td>\n      <td>131</td>\n    </tr>\n    <tr>\n      <th>Javascript</th>\n      <td>328</td>\n      <td>245</td>\n      <td>214</td>\n      <td>224</td>\n    </tr>\n    <tr>\n      <th>C#</th>\n      <td>324</td>\n      <td>245</td>\n      <td>182</td>\n      <td>219</td>\n    </tr>\n    <tr>\n      <th>Perl</th>\n      <td>309</td>\n      <td>258</td>\n      <td>202</td>\n      <td>198</td>\n    </tr>\n    <tr>\n      <th>Hbase</th>\n      <td>302</td>\n      <td>219</td>\n      <td>167</td>\n      <td>138</td>\n    </tr>\n    <tr>\n      <th>Docker</th>\n      <td>290</td>\n      <td>240</td>\n      <td>148</td>\n      <td>194</td>\n    </tr>\n    <tr>\n      <th>Git</th>\n      <td>282</td>\n      <td>261</td>\n      <td>186</td>\n      <td>145</td>\n    </tr>\n    <tr>\n      <th>MySQL</th>\n      <td>278</td>\n      <td>233</td>\n      <td>187</td>\n      <td>121</td>\n    </tr>\n    <tr>\n      <th>MongoDB</th>\n      <td>251</td>\n      <td>196</td>\n      <td>165</td>\n      <td>116</td>\n    </tr>\n    <tr>\n      <th>Cassandra</th>\n      <td>236</td>\n      <td>174</td>\n      <td>146</td>\n      <td>136</td>\n    </tr>\n    <tr>\n      <th>PyTorch</th>\n      <td>214</td>\n      <td>143</td>\n      <td>131</td>\n      <td>98</td>\n    </tr>\n    <tr>\n      <th>Caffe</th>\n      <td>206</td>\n      <td>149</td>\n      <td>113</td>\n      <td>96</td>\n    </tr>\n  </tbody>\n</table>\n</div>"
          },
          "metadata": {}
        }
      ]
    },
    {
      "metadata": {
        "_uuid": "2efed23760fc48120850205f09170ea06425e8ab"
      },
      "cell_type": "markdown",
      "source": "Cool. We used the read_csv parameters to give us just what we wanted."
    },
    {
      "metadata": {
        "_uuid": "6a35c07272b9af75048aea3f0a95bf8bc1a49fcc"
      },
      "cell_type": "markdown",
      "source": "## Basic Data Exploration\nLet's see what the data look like."
    },
    {
      "metadata": {
        "trusted": true,
        "_uuid": "6f695d4e451c4b72f84221cd417e90d5b36423c3"
      },
      "cell_type": "code",
      "source": "df.info()",
      "execution_count": 4,
      "outputs": [
        {
          "output_type": "stream",
          "text": "<class 'pandas.core.frame.DataFrame'>\nIndex: 37 entries, Python to Caffe\nData columns (total 4 columns):\nLinkedIn       37 non-null int64\nIndeed         37 non-null int64\nSimplyHired    37 non-null int64\nMonster        37 non-null int64\ndtypes: int64(4)\nmemory usage: 1.4+ KB\n",
          "name": "stdout"
        }
      ]
    },
    {
      "metadata": {
        "trusted": true,
        "_uuid": "188e43ec51292691ccd9c270fc710c183155aa83"
      },
      "cell_type": "code",
      "source": "df.describe()",
      "execution_count": 5,
      "outputs": [
        {
          "output_type": "execute_result",
          "execution_count": 5,
          "data": {
            "text/plain": "       LinkedIn   Indeed  SimplyHired  Monster\ncount     37.00    37.00        37.00    37.00\nmean   1,050.86   742.62       573.08   522.97\nstd    1,318.87   841.80       642.14   601.95\nmin      206.00   143.00       113.00    95.00\n25%      324.00   245.00       187.00   152.00\n50%      578.00   416.00       294.00   272.00\n75%    1,040.00   791.00       607.00   523.00\nmax    6,347.00 3,818.00     2,888.00 2,544.00",
            "text/html": "<div>\n<style scoped>\n    .dataframe tbody tr th:only-of-type {\n        vertical-align: middle;\n    }\n\n    .dataframe tbody tr th {\n        vertical-align: top;\n    }\n\n    .dataframe thead th {\n        text-align: right;\n    }\n</style>\n<table border=\"1\" class=\"dataframe\">\n  <thead>\n    <tr style=\"text-align: right;\">\n      <th></th>\n      <th>LinkedIn</th>\n      <th>Indeed</th>\n      <th>SimplyHired</th>\n      <th>Monster</th>\n    </tr>\n  </thead>\n  <tbody>\n    <tr>\n      <th>count</th>\n      <td>37.00</td>\n      <td>37.00</td>\n      <td>37.00</td>\n      <td>37.00</td>\n    </tr>\n    <tr>\n      <th>mean</th>\n      <td>1,050.86</td>\n      <td>742.62</td>\n      <td>573.08</td>\n      <td>522.97</td>\n    </tr>\n    <tr>\n      <th>std</th>\n      <td>1,318.87</td>\n      <td>841.80</td>\n      <td>642.14</td>\n      <td>601.95</td>\n    </tr>\n    <tr>\n      <th>min</th>\n      <td>206.00</td>\n      <td>143.00</td>\n      <td>113.00</td>\n      <td>95.00</td>\n    </tr>\n    <tr>\n      <th>25%</th>\n      <td>324.00</td>\n      <td>245.00</td>\n      <td>187.00</td>\n      <td>152.00</td>\n    </tr>\n    <tr>\n      <th>50%</th>\n      <td>578.00</td>\n      <td>416.00</td>\n      <td>294.00</td>\n      <td>272.00</td>\n    </tr>\n    <tr>\n      <th>75%</th>\n      <td>1,040.00</td>\n      <td>791.00</td>\n      <td>607.00</td>\n      <td>523.00</td>\n    </tr>\n    <tr>\n      <th>max</th>\n      <td>6,347.00</td>\n      <td>3,818.00</td>\n      <td>2,888.00</td>\n      <td>2,544.00</td>\n    </tr>\n  </tbody>\n</table>\n</div>"
          },
          "metadata": {}
        }
      ]
    },
    {
      "metadata": {
        "_uuid": "dd216c2c67ba8314486aa5562fbb846e9486f6d6"
      },
      "cell_type": "markdown",
      "source": "# Scale and Aggregate \nScale each column. For each column we'll use MinMaxScaler to subtract the minumum and divide by the original max - original min."
    },
    {
      "metadata": {
        "trusted": true,
        "_uuid": "f944fc186de0a8c87a4c8b25820b67015a74f07d"
      },
      "cell_type": "code",
      "source": "scale = MinMaxScaler()\nscaled_df = pd.DataFrame(\n    scale.fit_transform(df), \n    columns = df.columns,\n    index = df.index)    ",
      "execution_count": 6,
      "outputs": []
    },
    {
      "metadata": {
        "trusted": true,
        "_uuid": "32087e32a256978e32480d8dd3472eeba8d93020"
      },
      "cell_type": "code",
      "source": "scaled_df.head()",
      "execution_count": 7,
      "outputs": [
        {
          "output_type": "execute_result",
          "execution_count": 7,
          "data": {
            "text/plain": "         LinkedIn  Indeed  SimplyHired  Monster\nKeyword                                        \nPython       1.00    1.00         1.00     1.00\nR            0.71    0.81         0.82     0.93\nSQL          0.60    0.68         0.70     0.71\nSpark        0.32    0.38         0.38     0.39\nHadoop       0.32    0.39         0.38     0.45",
            "text/html": "<div>\n<style scoped>\n    .dataframe tbody tr th:only-of-type {\n        vertical-align: middle;\n    }\n\n    .dataframe tbody tr th {\n        vertical-align: top;\n    }\n\n    .dataframe thead th {\n        text-align: right;\n    }\n</style>\n<table border=\"1\" class=\"dataframe\">\n  <thead>\n    <tr style=\"text-align: right;\">\n      <th></th>\n      <th>LinkedIn</th>\n      <th>Indeed</th>\n      <th>SimplyHired</th>\n      <th>Monster</th>\n    </tr>\n    <tr>\n      <th>Keyword</th>\n      <th></th>\n      <th></th>\n      <th></th>\n      <th></th>\n    </tr>\n  </thead>\n  <tbody>\n    <tr>\n      <th>Python</th>\n      <td>1.00</td>\n      <td>1.00</td>\n      <td>1.00</td>\n      <td>1.00</td>\n    </tr>\n    <tr>\n      <th>R</th>\n      <td>0.71</td>\n      <td>0.81</td>\n      <td>0.82</td>\n      <td>0.93</td>\n    </tr>\n    <tr>\n      <th>SQL</th>\n      <td>0.60</td>\n      <td>0.68</td>\n      <td>0.70</td>\n      <td>0.71</td>\n    </tr>\n    <tr>\n      <th>Spark</th>\n      <td>0.32</td>\n      <td>0.38</td>\n      <td>0.38</td>\n      <td>0.39</td>\n    </tr>\n    <tr>\n      <th>Hadoop</th>\n      <td>0.32</td>\n      <td>0.39</td>\n      <td>0.38</td>\n      <td>0.45</td>\n    </tr>\n  </tbody>\n</table>\n</div>"
          },
          "metadata": {}
        }
      ]
    },
    {
      "metadata": {
        "_uuid": "8bd561749462d763ff108126921bbb545938210f"
      },
      "cell_type": "markdown",
      "source": "### Scaled Online Job Listings"
    },
    {
      "metadata": {
        "_uuid": "fafe1b35d8e942ff10003ca89116a118df9aaa63"
      },
      "cell_type": "markdown",
      "source": "Let's make a combined score for the large sites by taking the mean of the LinkedIn, Indeed, Monster, and SimplyHired scores."
    },
    {
      "metadata": {
        "trusted": true,
        "_uuid": "e41bf73e70f224b631d6fef29a6d8c6530d92029"
      },
      "cell_type": "code",
      "source": "scaled_df['combined'] = scaled_df[[\"LinkedIn\", \"Indeed\", \"SimplyHired\", \"Monster\"]].mean(axis = 1)\nscaled_df.head()",
      "execution_count": 8,
      "outputs": [
        {
          "output_type": "execute_result",
          "execution_count": 8,
          "data": {
            "text/plain": "         LinkedIn  Indeed  SimplyHired  Monster  combined\nKeyword                                                  \nPython       1.00    1.00         1.00     1.00      1.00\nR            0.71    0.81         0.82     0.93      0.82\nSQL          0.60    0.68         0.70     0.71      0.67\nSpark        0.32    0.38         0.38     0.39      0.37\nHadoop       0.32    0.39         0.38     0.45      0.38",
            "text/html": "<div>\n<style scoped>\n    .dataframe tbody tr th:only-of-type {\n        vertical-align: middle;\n    }\n\n    .dataframe tbody tr th {\n        vertical-align: top;\n    }\n\n    .dataframe thead th {\n        text-align: right;\n    }\n</style>\n<table border=\"1\" class=\"dataframe\">\n  <thead>\n    <tr style=\"text-align: right;\">\n      <th></th>\n      <th>LinkedIn</th>\n      <th>Indeed</th>\n      <th>SimplyHired</th>\n      <th>Monster</th>\n      <th>combined</th>\n    </tr>\n    <tr>\n      <th>Keyword</th>\n      <th></th>\n      <th></th>\n      <th></th>\n      <th></th>\n      <th></th>\n    </tr>\n  </thead>\n  <tbody>\n    <tr>\n      <th>Python</th>\n      <td>1.00</td>\n      <td>1.00</td>\n      <td>1.00</td>\n      <td>1.00</td>\n      <td>1.00</td>\n    </tr>\n    <tr>\n      <th>R</th>\n      <td>0.71</td>\n      <td>0.81</td>\n      <td>0.82</td>\n      <td>0.93</td>\n      <td>0.82</td>\n    </tr>\n    <tr>\n      <th>SQL</th>\n      <td>0.60</td>\n      <td>0.68</td>\n      <td>0.70</td>\n      <td>0.71</td>\n      <td>0.67</td>\n    </tr>\n    <tr>\n      <th>Spark</th>\n      <td>0.32</td>\n      <td>0.38</td>\n      <td>0.38</td>\n      <td>0.39</td>\n      <td>0.37</td>\n    </tr>\n    <tr>\n      <th>Hadoop</th>\n      <td>0.32</td>\n      <td>0.39</td>\n      <td>0.38</td>\n      <td>0.45</td>\n      <td>0.38</td>\n    </tr>\n  </tbody>\n</table>\n</div>"
          },
          "metadata": {}
        }
      ]
    },
    {
      "metadata": {
        "_uuid": "372a8d1b52a467085646d0ab8f30f9b38be7c400"
      },
      "cell_type": "markdown",
      "source": "# Charts with Plotly\nLet's make interactive charts with plotly. "
    },
    {
      "metadata": {
        "_uuid": "c66e3583207d91b3632eaccdfbf152b83f0add03"
      },
      "cell_type": "markdown",
      "source": "## Let's look at the top 10 by site\nBased on the top 10 on LinkedIn, the largest site."
    },
    {
      "metadata": {
        "trusted": true,
        "_uuid": "fa17ad56fb616660eb49ea597e2e3e6c6a68b21c"
      },
      "cell_type": "code",
      "source": "num_sites = 8\n\ny_linkedin = scaled_df.iloc[:num_sites, 0]\ny_indeed = scaled_df.iloc[:num_sites, 1]\ny_monster = scaled_df.iloc[:num_sites, 2]\ny_simply = scaled_df.iloc[:num_sites, 3]\n\ny_linkedin",
      "execution_count": 9,
      "outputs": [
        {
          "output_type": "execute_result",
          "execution_count": 9,
          "data": {
            "text/plain": "Keyword\nPython    1.00\nR         0.71\nSQL       0.60\nSpark     0.32\nHadoop    0.32\nJava      0.28\nSAS       0.25\nTableau   0.16\nName: LinkedIn, dtype: float64"
          },
          "metadata": {}
        }
      ]
    },
    {
      "metadata": {
        "trusted": true,
        "_uuid": "93ad1bee74529e9a881b5df207cd5636b573b51d"
      },
      "cell_type": "code",
      "source": "indeed = go.Bar(x=scaled_df.index, y=y_indeed, name = \"Indeed\")\nsimply = go.Bar(x=scaled_df.index, y=y_simply, name=\"SimplyHired\")\nmonster = go.Bar(x=scaled_df.index, y=y_monster, name=\"Monster\")\nlinked = go.Bar(x=scaled_df.index, y=y_linkedin, name=\"LinkedIn\")\n\ndata = [linked, indeed, simply, monster]\n\nlayout = go.Layout(\n    barmode='group',\n    title=\"Top Software in Job Listings for Data Scientists\",\n    xaxis={'title': 'Software'},\n    yaxis={'title': \"Scaled Listings\", 'separatethousands': True,\n    }\n)\n\nfig = go.Figure(data=data, layout=layout)\npy.iplot(fig)",
      "execution_count": 10,
      "outputs": [
        {
          "output_type": "display_data",
          "data": {
            "application/vnd.plotly.v1+json": {
              "data": [
                {
                  "name": "LinkedIn",
                  "x": [
                    "Python",
                    "R",
                    "SQL",
                    "Spark",
                    "Hadoop",
                    "Java",
                    "SAS",
                    "Tableau",
                    "Hive",
                    "Scala",
                    "C++",
                    "AWS",
                    "TensorFlow",
                    "Matlab",
                    "C",
                    "Excel",
                    "Linux",
                    "NoSQL",
                    "Azure",
                    "Scikit-learn",
                    "SPSS",
                    "Pandas",
                    "Numpy",
                    "Pig",
                    "D3",
                    "Keras",
                    "Javascript",
                    "C# ",
                    "Perl",
                    "Hbase",
                    "Docker",
                    "Git",
                    "MySQL",
                    "MongoDB",
                    "Cassandra",
                    "PyTorch",
                    "Caffe"
                  ],
                  "y": [
                    1,
                    0.7078651685393259,
                    0.5981110568311351,
                    0.3196547793518971,
                    0.3152581012864355,
                    0.28301579547305006,
                    0.24539977202410032,
                    0.16446832763393585
                  ],
                  "type": "bar",
                  "uid": "0510bc36-d088-11e8-a165-11ced18b9a9b"
                },
                {
                  "name": "Indeed",
                  "x": [
                    "Python",
                    "R",
                    "SQL",
                    "Spark",
                    "Hadoop",
                    "Java",
                    "SAS",
                    "Tableau",
                    "Hive",
                    "Scala",
                    "C++",
                    "AWS",
                    "TensorFlow",
                    "Matlab",
                    "C",
                    "Excel",
                    "Linux",
                    "NoSQL",
                    "Azure",
                    "Scikit-learn",
                    "SPSS",
                    "Pandas",
                    "Numpy",
                    "Pig",
                    "D3",
                    "Keras",
                    "Javascript",
                    "C# ",
                    "Perl",
                    "Hbase",
                    "Docker",
                    "Git",
                    "MySQL",
                    "MongoDB",
                    "Cassandra",
                    "PyTorch",
                    "Caffe"
                  ],
                  "y": [
                    0.9999999999999999,
                    0.8062585034013605,
                    0.6761904761904762,
                    0.3831292517006803,
                    0.3904761904761905,
                    0.3357823129251701,
                    0.2696598639455782,
                    0.23646258503401363
                  ],
                  "type": "bar",
                  "uid": "0510c0a0-d088-11e8-a165-11ced18b9a9b"
                },
                {
                  "name": "SimplyHired",
                  "x": [
                    "Python",
                    "R",
                    "SQL",
                    "Spark",
                    "Hadoop",
                    "Java",
                    "SAS",
                    "Tableau",
                    "Hive",
                    "Scala",
                    "C++",
                    "AWS",
                    "TensorFlow",
                    "Matlab",
                    "C",
                    "Excel",
                    "Linux",
                    "NoSQL",
                    "Azure",
                    "Scikit-learn",
                    "SPSS",
                    "Pandas",
                    "Numpy",
                    "Pig",
                    "D3",
                    "Keras",
                    "Javascript",
                    "C# ",
                    "Perl",
                    "Hbase",
                    "Docker",
                    "Git",
                    "MySQL",
                    "MongoDB",
                    "Cassandra",
                    "PyTorch",
                    "Caffe"
                  ],
                  "y": [
                    1,
                    0.9269089424254798,
                    0.7129440587995101,
                    0.39485504287464274,
                    0.45120457329522257,
                    0.37035524703960804,
                    0.36055532870559415,
                    0.26500612494895875
                  ],
                  "type": "bar",
                  "uid": "0510c1a4-d088-11e8-a165-11ced18b9a9b"
                },
                {
                  "name": "Monster",
                  "x": [
                    "Python",
                    "R",
                    "SQL",
                    "Spark",
                    "Hadoop",
                    "Java",
                    "SAS",
                    "Tableau",
                    "Hive",
                    "Scala",
                    "C++",
                    "AWS",
                    "TensorFlow",
                    "Matlab",
                    "C",
                    "Excel",
                    "Linux",
                    "NoSQL",
                    "Azure",
                    "Scikit-learn",
                    "SPSS",
                    "Pandas",
                    "Numpy",
                    "Pig",
                    "D3",
                    "Keras",
                    "Javascript",
                    "C# ",
                    "Perl",
                    "Hbase",
                    "Docker",
                    "Git",
                    "MySQL",
                    "MongoDB",
                    "Cassandra",
                    "PyTorch",
                    "Caffe"
                  ],
                  "y": [
                    1,
                    0.8216216216216216,
                    0.7001801801801801,
                    0.3798198198198198,
                    0.37873873873873876,
                    0.34090090090090086,
                    0.28720720720720716,
                    0.24036036036036038
                  ],
                  "type": "bar",
                  "uid": "0510c258-d088-11e8-a165-11ced18b9a9b"
                }
              ],
              "layout": {
                "barmode": "group",
                "title": "Top Software in Job Listings for Data Scientists",
                "xaxis": {
                  "title": "Software"
                },
                "yaxis": {
                  "separatethousands": true,
                  "title": "Scaled Listings"
                }
              }
            },
            "text/html": "<div id=\"07c20214-6ffd-44f5-b93b-b57ebac66e50\" style=\"height: 525px; width: 100%;\" class=\"plotly-graph-div\"></div><script type=\"text/javascript\">require([\"plotly\"], function(Plotly) { window.PLOTLYENV=window.PLOTLYENV || {};window.PLOTLYENV.BASE_URL=\"https://plot.ly\";Plotly.newPlot(\"07c20214-6ffd-44f5-b93b-b57ebac66e50\", [{\"name\": \"LinkedIn\", \"x\": [\"Python\", \"R\", \"SQL\", \"Spark\", \"Hadoop\", \"Java\", \"SAS\", \"Tableau\", \"Hive\", \"Scala\", \"C++\", \"AWS\", \"TensorFlow\", \"Matlab\", \"C\", \"Excel\", \"Linux\", \"NoSQL\", \"Azure\", \"Scikit-learn\", \"SPSS\", \"Pandas\", \"Numpy\", \"Pig\", \"D3\", \"Keras\", \"Javascript\", \"C# \", \"Perl\", \"Hbase\", \"Docker\", \"Git\", \"MySQL\", \"MongoDB\", \"Cassandra\", \"PyTorch\", \"Caffe\"], \"y\": [1.0, 0.7078651685393259, 0.5981110568311351, 0.3196547793518971, 0.3152581012864355, 0.28301579547305006, 0.24539977202410032, 0.16446832763393585], \"type\": \"bar\", \"uid\": \"0510bc36-d088-11e8-a165-11ced18b9a9b\"}, {\"name\": \"Indeed\", \"x\": [\"Python\", \"R\", \"SQL\", \"Spark\", \"Hadoop\", \"Java\", \"SAS\", \"Tableau\", \"Hive\", \"Scala\", \"C++\", \"AWS\", \"TensorFlow\", \"Matlab\", \"C\", \"Excel\", \"Linux\", \"NoSQL\", \"Azure\", \"Scikit-learn\", \"SPSS\", \"Pandas\", \"Numpy\", \"Pig\", \"D3\", \"Keras\", \"Javascript\", \"C# \", \"Perl\", \"Hbase\", \"Docker\", \"Git\", \"MySQL\", \"MongoDB\", \"Cassandra\", \"PyTorch\", \"Caffe\"], \"y\": [0.9999999999999999, 0.8062585034013605, 0.6761904761904762, 0.3831292517006803, 0.3904761904761905, 0.3357823129251701, 0.2696598639455782, 0.23646258503401363], \"type\": \"bar\", \"uid\": \"0510c0a0-d088-11e8-a165-11ced18b9a9b\"}, {\"name\": \"SimplyHired\", \"x\": [\"Python\", \"R\", \"SQL\", \"Spark\", \"Hadoop\", \"Java\", \"SAS\", \"Tableau\", \"Hive\", \"Scala\", \"C++\", \"AWS\", \"TensorFlow\", \"Matlab\", \"C\", \"Excel\", \"Linux\", \"NoSQL\", \"Azure\", \"Scikit-learn\", \"SPSS\", \"Pandas\", \"Numpy\", \"Pig\", \"D3\", \"Keras\", \"Javascript\", \"C# \", \"Perl\", \"Hbase\", \"Docker\", \"Git\", \"MySQL\", \"MongoDB\", \"Cassandra\", \"PyTorch\", \"Caffe\"], \"y\": [1.0, 0.9269089424254798, 0.7129440587995101, 0.39485504287464274, 0.45120457329522257, 0.37035524703960804, 0.36055532870559415, 0.26500612494895875], \"type\": \"bar\", \"uid\": \"0510c1a4-d088-11e8-a165-11ced18b9a9b\"}, {\"name\": \"Monster\", \"x\": [\"Python\", \"R\", \"SQL\", \"Spark\", \"Hadoop\", \"Java\", \"SAS\", \"Tableau\", \"Hive\", \"Scala\", \"C++\", \"AWS\", \"TensorFlow\", \"Matlab\", \"C\", \"Excel\", \"Linux\", \"NoSQL\", \"Azure\", \"Scikit-learn\", \"SPSS\", \"Pandas\", \"Numpy\", \"Pig\", \"D3\", \"Keras\", \"Javascript\", \"C# \", \"Perl\", \"Hbase\", \"Docker\", \"Git\", \"MySQL\", \"MongoDB\", \"Cassandra\", \"PyTorch\", \"Caffe\"], \"y\": [1.0, 0.8216216216216216, 0.7001801801801801, 0.3798198198198198, 0.37873873873873876, 0.34090090090090086, 0.28720720720720716, 0.24036036036036038], \"type\": \"bar\", \"uid\": \"0510c258-d088-11e8-a165-11ced18b9a9b\"}], {\"barmode\": \"group\", \"title\": \"Top Software in Job Listings for Data Scientists\", \"xaxis\": {\"title\": \"Software\"}, \"yaxis\": {\"separatethousands\": true, \"title\": \"Scaled Listings\"}}, {\"showLink\": true, \"linkText\": \"Export to plot.ly\"})});</script>",
            "text/vnd.plotly.v1+html": "<div id=\"07c20214-6ffd-44f5-b93b-b57ebac66e50\" style=\"height: 525px; width: 100%;\" class=\"plotly-graph-div\"></div><script type=\"text/javascript\">require([\"plotly\"], function(Plotly) { window.PLOTLYENV=window.PLOTLYENV || {};window.PLOTLYENV.BASE_URL=\"https://plot.ly\";Plotly.newPlot(\"07c20214-6ffd-44f5-b93b-b57ebac66e50\", [{\"name\": \"LinkedIn\", \"x\": [\"Python\", \"R\", \"SQL\", \"Spark\", \"Hadoop\", \"Java\", \"SAS\", \"Tableau\", \"Hive\", \"Scala\", \"C++\", \"AWS\", \"TensorFlow\", \"Matlab\", \"C\", \"Excel\", \"Linux\", \"NoSQL\", \"Azure\", \"Scikit-learn\", \"SPSS\", \"Pandas\", \"Numpy\", \"Pig\", \"D3\", \"Keras\", \"Javascript\", \"C# \", \"Perl\", \"Hbase\", \"Docker\", \"Git\", \"MySQL\", \"MongoDB\", \"Cassandra\", \"PyTorch\", \"Caffe\"], \"y\": [1.0, 0.7078651685393259, 0.5981110568311351, 0.3196547793518971, 0.3152581012864355, 0.28301579547305006, 0.24539977202410032, 0.16446832763393585], \"type\": \"bar\", \"uid\": \"0510bc36-d088-11e8-a165-11ced18b9a9b\"}, {\"name\": \"Indeed\", \"x\": [\"Python\", \"R\", \"SQL\", \"Spark\", \"Hadoop\", \"Java\", \"SAS\", \"Tableau\", \"Hive\", \"Scala\", \"C++\", \"AWS\", \"TensorFlow\", \"Matlab\", \"C\", \"Excel\", \"Linux\", \"NoSQL\", \"Azure\", \"Scikit-learn\", \"SPSS\", \"Pandas\", \"Numpy\", \"Pig\", \"D3\", \"Keras\", \"Javascript\", \"C# \", \"Perl\", \"Hbase\", \"Docker\", \"Git\", \"MySQL\", \"MongoDB\", \"Cassandra\", \"PyTorch\", \"Caffe\"], \"y\": [0.9999999999999999, 0.8062585034013605, 0.6761904761904762, 0.3831292517006803, 0.3904761904761905, 0.3357823129251701, 0.2696598639455782, 0.23646258503401363], \"type\": \"bar\", \"uid\": \"0510c0a0-d088-11e8-a165-11ced18b9a9b\"}, {\"name\": \"SimplyHired\", \"x\": [\"Python\", \"R\", \"SQL\", \"Spark\", \"Hadoop\", \"Java\", \"SAS\", \"Tableau\", \"Hive\", \"Scala\", \"C++\", \"AWS\", \"TensorFlow\", \"Matlab\", \"C\", \"Excel\", \"Linux\", \"NoSQL\", \"Azure\", \"Scikit-learn\", \"SPSS\", \"Pandas\", \"Numpy\", \"Pig\", \"D3\", \"Keras\", \"Javascript\", \"C# \", \"Perl\", \"Hbase\", \"Docker\", \"Git\", \"MySQL\", \"MongoDB\", \"Cassandra\", \"PyTorch\", \"Caffe\"], \"y\": [1.0, 0.9269089424254798, 0.7129440587995101, 0.39485504287464274, 0.45120457329522257, 0.37035524703960804, 0.36055532870559415, 0.26500612494895875], \"type\": \"bar\", \"uid\": \"0510c1a4-d088-11e8-a165-11ced18b9a9b\"}, {\"name\": \"Monster\", \"x\": [\"Python\", \"R\", \"SQL\", \"Spark\", \"Hadoop\", \"Java\", \"SAS\", \"Tableau\", \"Hive\", \"Scala\", \"C++\", \"AWS\", \"TensorFlow\", \"Matlab\", \"C\", \"Excel\", \"Linux\", \"NoSQL\", \"Azure\", \"Scikit-learn\", \"SPSS\", \"Pandas\", \"Numpy\", \"Pig\", \"D3\", \"Keras\", \"Javascript\", \"C# \", \"Perl\", \"Hbase\", \"Docker\", \"Git\", \"MySQL\", \"MongoDB\", \"Cassandra\", \"PyTorch\", \"Caffe\"], \"y\": [1.0, 0.8216216216216216, 0.7001801801801801, 0.3798198198198198, 0.37873873873873876, 0.34090090090090086, 0.28720720720720716, 0.24036036036036038], \"type\": \"bar\", \"uid\": \"0510c258-d088-11e8-a165-11ced18b9a9b\"}], {\"barmode\": \"group\", \"title\": \"Top Software in Job Listings for Data Scientists\", \"xaxis\": {\"title\": \"Software\"}, \"yaxis\": {\"separatethousands\": true, \"title\": \"Scaled Listings\"}}, {\"showLink\": true, \"linkText\": \"Export to plot.ly\"})});</script>"
          },
          "metadata": {}
        }
      ]
    },
    {
      "metadata": {
        "_uuid": "fef5e195064713dda6c91d417c92aef1f00c80e0"
      },
      "cell_type": "markdown",
      "source": "Let's clean things up for publication"
    },
    {
      "metadata": {
        "trusted": true,
        "_uuid": "80b5fc2b470b95ade030b09016c07d72eb3a5b59"
      },
      "cell_type": "code",
      "source": "p_s_df = scaled_df * 100\np_s_df = p_s_df.round(2)\np_s_df.columns = ['LinkedIn', 'Indeed', 'SimplyHired', 'Monster', 'Score']\np_s_df = p_s_df.sort_values(by=['Score'], ascending = False)\np_s_df.head()",
      "execution_count": 11,
      "outputs": [
        {
          "output_type": "execute_result",
          "execution_count": 11,
          "data": {
            "text/plain": "         LinkedIn  Indeed  SimplyHired  Monster  Score\nKeyword                                               \nPython     100.00  100.00       100.00   100.00 100.00\nR           70.79   80.63        82.16    92.69  81.57\nSQL         59.81   67.62        70.02    71.29  67.19\nHadoop      31.53   39.05        37.87    45.12  38.39\nSpark       31.97   38.31        37.98    39.49  36.94",
            "text/html": "<div>\n<style scoped>\n    .dataframe tbody tr th:only-of-type {\n        vertical-align: middle;\n    }\n\n    .dataframe tbody tr th {\n        vertical-align: top;\n    }\n\n    .dataframe thead th {\n        text-align: right;\n    }\n</style>\n<table border=\"1\" class=\"dataframe\">\n  <thead>\n    <tr style=\"text-align: right;\">\n      <th></th>\n      <th>LinkedIn</th>\n      <th>Indeed</th>\n      <th>SimplyHired</th>\n      <th>Monster</th>\n      <th>Score</th>\n    </tr>\n    <tr>\n      <th>Keyword</th>\n      <th></th>\n      <th></th>\n      <th></th>\n      <th></th>\n      <th></th>\n    </tr>\n  </thead>\n  <tbody>\n    <tr>\n      <th>Python</th>\n      <td>100.00</td>\n      <td>100.00</td>\n      <td>100.00</td>\n      <td>100.00</td>\n      <td>100.00</td>\n    </tr>\n    <tr>\n      <th>R</th>\n      <td>70.79</td>\n      <td>80.63</td>\n      <td>82.16</td>\n      <td>92.69</td>\n      <td>81.57</td>\n    </tr>\n    <tr>\n      <th>SQL</th>\n      <td>59.81</td>\n      <td>67.62</td>\n      <td>70.02</td>\n      <td>71.29</td>\n      <td>67.19</td>\n    </tr>\n    <tr>\n      <th>Hadoop</th>\n      <td>31.53</td>\n      <td>39.05</td>\n      <td>37.87</td>\n      <td>45.12</td>\n      <td>38.39</td>\n    </tr>\n    <tr>\n      <th>Spark</th>\n      <td>31.97</td>\n      <td>38.31</td>\n      <td>37.98</td>\n      <td>39.49</td>\n      <td>36.94</td>\n    </tr>\n  </tbody>\n</table>\n</div>"
          },
          "metadata": {}
        }
      ]
    },
    {
      "metadata": {
        "_uuid": "57169cbec7924db5176478a7b34056a3a926d4f8"
      },
      "cell_type": "markdown",
      "source": "Let's rename Microsoft Office. Otherwise it gets cut off."
    },
    {
      "metadata": {
        "trusted": true,
        "_uuid": "3151b8b5358fcfcf2b0d89b3239cf5e3c6bd9877"
      },
      "cell_type": "code",
      "source": "p_s_df.rename(index = {'Microsoft Office': 'MS Office'}, inplace = True)\np_s_df",
      "execution_count": 12,
      "outputs": [
        {
          "output_type": "execute_result",
          "execution_count": 12,
          "data": {
            "text/plain": "              LinkedIn  Indeed  SimplyHired  Monster  Score\nKeyword                                                    \nPython          100.00  100.00       100.00   100.00 100.00\nR                70.79   80.63        82.16    92.69  81.57\nSQL              59.81   67.62        70.02    71.29  67.19\nHadoop           31.53   39.05        37.87    45.12  38.39\nSpark            31.97   38.31        37.98    39.49  36.94\nJava             28.30   33.58        34.09    37.04  33.25\nSAS              24.54   26.97        28.72    36.06  29.07\nTableau          16.45   23.65        24.04    26.50  22.66\nHive             15.89   18.69        18.88    21.40  18.72\nScala            13.58   16.22        17.15    17.35  16.08\nAWS              12.07   17.63        17.80    15.19  15.67\nC++              13.32   16.93        16.83    14.05  15.28\nMatlab            9.77   14.53        15.53    13.23  13.27\nTensorFlow       10.39   14.10        13.98    11.84  12.58\nC                 9.59    9.50         9.77    17.48  11.58\nExcel             8.06   11.59        11.71    12.33  10.92\nNoSQL             6.38    7.97         9.87    10.90   8.78\nLinux             6.43   10.18         9.05     8.49   8.54\nAzure             6.06    7.43         6.20     7.23   6.73\nScikit-learn      4.36    7.05         6.52     4.78   5.68\nSPSS              4.01    5.09         5.77     4.37   4.81\nPandas            3.50    5.09         6.09     3.27   4.49\nPig               2.62    4.16         4.25     6.57   4.40\nJavascript        1.99    2.78         3.64     5.27   3.42\nNumpy             2.95    3.10         4.29     2.33   3.17\nC#                1.92    2.78         2.49     5.06   3.06\nPerl              1.68    3.13         3.21     4.21   3.05\nKeras             2.00    2.99         3.32     1.47   2.45\nDocker            1.37    2.64         1.26     4.04   2.33\nGit               1.24    3.21         2.63     2.04   2.28\nMySQL             1.17    2.45         2.67     1.06   1.84\nHbase             1.56    2.07         1.95     1.76   1.83\nMongoDB           0.73    1.44         1.87     0.86   1.23\nCassandra         0.49    0.84         1.19     1.67   1.05\nD3                2.39    0.16         0.00     0.00   0.64\nPyTorch           0.13    0.00         0.65     0.12   0.23\nCaffe             0.00    0.16         0.00     0.04   0.05",
            "text/html": "<div>\n<style scoped>\n    .dataframe tbody tr th:only-of-type {\n        vertical-align: middle;\n    }\n\n    .dataframe tbody tr th {\n        vertical-align: top;\n    }\n\n    .dataframe thead th {\n        text-align: right;\n    }\n</style>\n<table border=\"1\" class=\"dataframe\">\n  <thead>\n    <tr style=\"text-align: right;\">\n      <th></th>\n      <th>LinkedIn</th>\n      <th>Indeed</th>\n      <th>SimplyHired</th>\n      <th>Monster</th>\n      <th>Score</th>\n    </tr>\n    <tr>\n      <th>Keyword</th>\n      <th></th>\n      <th></th>\n      <th></th>\n      <th></th>\n      <th></th>\n    </tr>\n  </thead>\n  <tbody>\n    <tr>\n      <th>Python</th>\n      <td>100.00</td>\n      <td>100.00</td>\n      <td>100.00</td>\n      <td>100.00</td>\n      <td>100.00</td>\n    </tr>\n    <tr>\n      <th>R</th>\n      <td>70.79</td>\n      <td>80.63</td>\n      <td>82.16</td>\n      <td>92.69</td>\n      <td>81.57</td>\n    </tr>\n    <tr>\n      <th>SQL</th>\n      <td>59.81</td>\n      <td>67.62</td>\n      <td>70.02</td>\n      <td>71.29</td>\n      <td>67.19</td>\n    </tr>\n    <tr>\n      <th>Hadoop</th>\n      <td>31.53</td>\n      <td>39.05</td>\n      <td>37.87</td>\n      <td>45.12</td>\n      <td>38.39</td>\n    </tr>\n    <tr>\n      <th>Spark</th>\n      <td>31.97</td>\n      <td>38.31</td>\n      <td>37.98</td>\n      <td>39.49</td>\n      <td>36.94</td>\n    </tr>\n    <tr>\n      <th>Java</th>\n      <td>28.30</td>\n      <td>33.58</td>\n      <td>34.09</td>\n      <td>37.04</td>\n      <td>33.25</td>\n    </tr>\n    <tr>\n      <th>SAS</th>\n      <td>24.54</td>\n      <td>26.97</td>\n      <td>28.72</td>\n      <td>36.06</td>\n      <td>29.07</td>\n    </tr>\n    <tr>\n      <th>Tableau</th>\n      <td>16.45</td>\n      <td>23.65</td>\n      <td>24.04</td>\n      <td>26.50</td>\n      <td>22.66</td>\n    </tr>\n    <tr>\n      <th>Hive</th>\n      <td>15.89</td>\n      <td>18.69</td>\n      <td>18.88</td>\n      <td>21.40</td>\n      <td>18.72</td>\n    </tr>\n    <tr>\n      <th>Scala</th>\n      <td>13.58</td>\n      <td>16.22</td>\n      <td>17.15</td>\n      <td>17.35</td>\n      <td>16.08</td>\n    </tr>\n    <tr>\n      <th>AWS</th>\n      <td>12.07</td>\n      <td>17.63</td>\n      <td>17.80</td>\n      <td>15.19</td>\n      <td>15.67</td>\n    </tr>\n    <tr>\n      <th>C++</th>\n      <td>13.32</td>\n      <td>16.93</td>\n      <td>16.83</td>\n      <td>14.05</td>\n      <td>15.28</td>\n    </tr>\n    <tr>\n      <th>Matlab</th>\n      <td>9.77</td>\n      <td>14.53</td>\n      <td>15.53</td>\n      <td>13.23</td>\n      <td>13.27</td>\n    </tr>\n    <tr>\n      <th>TensorFlow</th>\n      <td>10.39</td>\n      <td>14.10</td>\n      <td>13.98</td>\n      <td>11.84</td>\n      <td>12.58</td>\n    </tr>\n    <tr>\n      <th>C</th>\n      <td>9.59</td>\n      <td>9.50</td>\n      <td>9.77</td>\n      <td>17.48</td>\n      <td>11.58</td>\n    </tr>\n    <tr>\n      <th>Excel</th>\n      <td>8.06</td>\n      <td>11.59</td>\n      <td>11.71</td>\n      <td>12.33</td>\n      <td>10.92</td>\n    </tr>\n    <tr>\n      <th>NoSQL</th>\n      <td>6.38</td>\n      <td>7.97</td>\n      <td>9.87</td>\n      <td>10.90</td>\n      <td>8.78</td>\n    </tr>\n    <tr>\n      <th>Linux</th>\n      <td>6.43</td>\n      <td>10.18</td>\n      <td>9.05</td>\n      <td>8.49</td>\n      <td>8.54</td>\n    </tr>\n    <tr>\n      <th>Azure</th>\n      <td>6.06</td>\n      <td>7.43</td>\n      <td>6.20</td>\n      <td>7.23</td>\n      <td>6.73</td>\n    </tr>\n    <tr>\n      <th>Scikit-learn</th>\n      <td>4.36</td>\n      <td>7.05</td>\n      <td>6.52</td>\n      <td>4.78</td>\n      <td>5.68</td>\n    </tr>\n    <tr>\n      <th>SPSS</th>\n      <td>4.01</td>\n      <td>5.09</td>\n      <td>5.77</td>\n      <td>4.37</td>\n      <td>4.81</td>\n    </tr>\n    <tr>\n      <th>Pandas</th>\n      <td>3.50</td>\n      <td>5.09</td>\n      <td>6.09</td>\n      <td>3.27</td>\n      <td>4.49</td>\n    </tr>\n    <tr>\n      <th>Pig</th>\n      <td>2.62</td>\n      <td>4.16</td>\n      <td>4.25</td>\n      <td>6.57</td>\n      <td>4.40</td>\n    </tr>\n    <tr>\n      <th>Javascript</th>\n      <td>1.99</td>\n      <td>2.78</td>\n      <td>3.64</td>\n      <td>5.27</td>\n      <td>3.42</td>\n    </tr>\n    <tr>\n      <th>Numpy</th>\n      <td>2.95</td>\n      <td>3.10</td>\n      <td>4.29</td>\n      <td>2.33</td>\n      <td>3.17</td>\n    </tr>\n    <tr>\n      <th>C#</th>\n      <td>1.92</td>\n      <td>2.78</td>\n      <td>2.49</td>\n      <td>5.06</td>\n      <td>3.06</td>\n    </tr>\n    <tr>\n      <th>Perl</th>\n      <td>1.68</td>\n      <td>3.13</td>\n      <td>3.21</td>\n      <td>4.21</td>\n      <td>3.05</td>\n    </tr>\n    <tr>\n      <th>Keras</th>\n      <td>2.00</td>\n      <td>2.99</td>\n      <td>3.32</td>\n      <td>1.47</td>\n      <td>2.45</td>\n    </tr>\n    <tr>\n      <th>Docker</th>\n      <td>1.37</td>\n      <td>2.64</td>\n      <td>1.26</td>\n      <td>4.04</td>\n      <td>2.33</td>\n    </tr>\n    <tr>\n      <th>Git</th>\n      <td>1.24</td>\n      <td>3.21</td>\n      <td>2.63</td>\n      <td>2.04</td>\n      <td>2.28</td>\n    </tr>\n    <tr>\n      <th>MySQL</th>\n      <td>1.17</td>\n      <td>2.45</td>\n      <td>2.67</td>\n      <td>1.06</td>\n      <td>1.84</td>\n    </tr>\n    <tr>\n      <th>Hbase</th>\n      <td>1.56</td>\n      <td>2.07</td>\n      <td>1.95</td>\n      <td>1.76</td>\n      <td>1.83</td>\n    </tr>\n    <tr>\n      <th>MongoDB</th>\n      <td>0.73</td>\n      <td>1.44</td>\n      <td>1.87</td>\n      <td>0.86</td>\n      <td>1.23</td>\n    </tr>\n    <tr>\n      <th>Cassandra</th>\n      <td>0.49</td>\n      <td>0.84</td>\n      <td>1.19</td>\n      <td>1.67</td>\n      <td>1.05</td>\n    </tr>\n    <tr>\n      <th>D3</th>\n      <td>2.39</td>\n      <td>0.16</td>\n      <td>0.00</td>\n      <td>0.00</td>\n      <td>0.64</td>\n    </tr>\n    <tr>\n      <th>PyTorch</th>\n      <td>0.13</td>\n      <td>0.00</td>\n      <td>0.65</td>\n      <td>0.12</td>\n      <td>0.23</td>\n    </tr>\n    <tr>\n      <th>Caffe</th>\n      <td>0.00</td>\n      <td>0.16</td>\n      <td>0.00</td>\n      <td>0.04</td>\n      <td>0.05</td>\n    </tr>\n  </tbody>\n</table>\n</div>"
          },
          "metadata": {}
        }
      ]
    },
    {
      "metadata": {
        "_uuid": "07672e4e0256898f58fcbdc9b6b1978aea93fba9"
      },
      "cell_type": "markdown",
      "source": "## Let's look at the top 20 scores"
    },
    {
      "metadata": {
        "trusted": true,
        "_uuid": "69239eba4a40cbf40d380c7bfd06026417ce635d"
      },
      "cell_type": "code",
      "source": "p_s_df_20 = p_s_df.iloc[:20,:]\np_s_df_20",
      "execution_count": 13,
      "outputs": [
        {
          "output_type": "execute_result",
          "execution_count": 13,
          "data": {
            "text/plain": "              LinkedIn  Indeed  SimplyHired  Monster  Score\nKeyword                                                    \nPython          100.00  100.00       100.00   100.00 100.00\nR                70.79   80.63        82.16    92.69  81.57\nSQL              59.81   67.62        70.02    71.29  67.19\nHadoop           31.53   39.05        37.87    45.12  38.39\nSpark            31.97   38.31        37.98    39.49  36.94\nJava             28.30   33.58        34.09    37.04  33.25\nSAS              24.54   26.97        28.72    36.06  29.07\nTableau          16.45   23.65        24.04    26.50  22.66\nHive             15.89   18.69        18.88    21.40  18.72\nScala            13.58   16.22        17.15    17.35  16.08\nAWS              12.07   17.63        17.80    15.19  15.67\nC++              13.32   16.93        16.83    14.05  15.28\nMatlab            9.77   14.53        15.53    13.23  13.27\nTensorFlow       10.39   14.10        13.98    11.84  12.58\nC                 9.59    9.50         9.77    17.48  11.58\nExcel             8.06   11.59        11.71    12.33  10.92\nNoSQL             6.38    7.97         9.87    10.90   8.78\nLinux             6.43   10.18         9.05     8.49   8.54\nAzure             6.06    7.43         6.20     7.23   6.73\nScikit-learn      4.36    7.05         6.52     4.78   5.68",
            "text/html": "<div>\n<style scoped>\n    .dataframe tbody tr th:only-of-type {\n        vertical-align: middle;\n    }\n\n    .dataframe tbody tr th {\n        vertical-align: top;\n    }\n\n    .dataframe thead th {\n        text-align: right;\n    }\n</style>\n<table border=\"1\" class=\"dataframe\">\n  <thead>\n    <tr style=\"text-align: right;\">\n      <th></th>\n      <th>LinkedIn</th>\n      <th>Indeed</th>\n      <th>SimplyHired</th>\n      <th>Monster</th>\n      <th>Score</th>\n    </tr>\n    <tr>\n      <th>Keyword</th>\n      <th></th>\n      <th></th>\n      <th></th>\n      <th></th>\n      <th></th>\n    </tr>\n  </thead>\n  <tbody>\n    <tr>\n      <th>Python</th>\n      <td>100.00</td>\n      <td>100.00</td>\n      <td>100.00</td>\n      <td>100.00</td>\n      <td>100.00</td>\n    </tr>\n    <tr>\n      <th>R</th>\n      <td>70.79</td>\n      <td>80.63</td>\n      <td>82.16</td>\n      <td>92.69</td>\n      <td>81.57</td>\n    </tr>\n    <tr>\n      <th>SQL</th>\n      <td>59.81</td>\n      <td>67.62</td>\n      <td>70.02</td>\n      <td>71.29</td>\n      <td>67.19</td>\n    </tr>\n    <tr>\n      <th>Hadoop</th>\n      <td>31.53</td>\n      <td>39.05</td>\n      <td>37.87</td>\n      <td>45.12</td>\n      <td>38.39</td>\n    </tr>\n    <tr>\n      <th>Spark</th>\n      <td>31.97</td>\n      <td>38.31</td>\n      <td>37.98</td>\n      <td>39.49</td>\n      <td>36.94</td>\n    </tr>\n    <tr>\n      <th>Java</th>\n      <td>28.30</td>\n      <td>33.58</td>\n      <td>34.09</td>\n      <td>37.04</td>\n      <td>33.25</td>\n    </tr>\n    <tr>\n      <th>SAS</th>\n      <td>24.54</td>\n      <td>26.97</td>\n      <td>28.72</td>\n      <td>36.06</td>\n      <td>29.07</td>\n    </tr>\n    <tr>\n      <th>Tableau</th>\n      <td>16.45</td>\n      <td>23.65</td>\n      <td>24.04</td>\n      <td>26.50</td>\n      <td>22.66</td>\n    </tr>\n    <tr>\n      <th>Hive</th>\n      <td>15.89</td>\n      <td>18.69</td>\n      <td>18.88</td>\n      <td>21.40</td>\n      <td>18.72</td>\n    </tr>\n    <tr>\n      <th>Scala</th>\n      <td>13.58</td>\n      <td>16.22</td>\n      <td>17.15</td>\n      <td>17.35</td>\n      <td>16.08</td>\n    </tr>\n    <tr>\n      <th>AWS</th>\n      <td>12.07</td>\n      <td>17.63</td>\n      <td>17.80</td>\n      <td>15.19</td>\n      <td>15.67</td>\n    </tr>\n    <tr>\n      <th>C++</th>\n      <td>13.32</td>\n      <td>16.93</td>\n      <td>16.83</td>\n      <td>14.05</td>\n      <td>15.28</td>\n    </tr>\n    <tr>\n      <th>Matlab</th>\n      <td>9.77</td>\n      <td>14.53</td>\n      <td>15.53</td>\n      <td>13.23</td>\n      <td>13.27</td>\n    </tr>\n    <tr>\n      <th>TensorFlow</th>\n      <td>10.39</td>\n      <td>14.10</td>\n      <td>13.98</td>\n      <td>11.84</td>\n      <td>12.58</td>\n    </tr>\n    <tr>\n      <th>C</th>\n      <td>9.59</td>\n      <td>9.50</td>\n      <td>9.77</td>\n      <td>17.48</td>\n      <td>11.58</td>\n    </tr>\n    <tr>\n      <th>Excel</th>\n      <td>8.06</td>\n      <td>11.59</td>\n      <td>11.71</td>\n      <td>12.33</td>\n      <td>10.92</td>\n    </tr>\n    <tr>\n      <th>NoSQL</th>\n      <td>6.38</td>\n      <td>7.97</td>\n      <td>9.87</td>\n      <td>10.90</td>\n      <td>8.78</td>\n    </tr>\n    <tr>\n      <th>Linux</th>\n      <td>6.43</td>\n      <td>10.18</td>\n      <td>9.05</td>\n      <td>8.49</td>\n      <td>8.54</td>\n    </tr>\n    <tr>\n      <th>Azure</th>\n      <td>6.06</td>\n      <td>7.43</td>\n      <td>6.20</td>\n      <td>7.23</td>\n      <td>6.73</td>\n    </tr>\n    <tr>\n      <th>Scikit-learn</th>\n      <td>4.36</td>\n      <td>7.05</td>\n      <td>6.52</td>\n      <td>4.78</td>\n      <td>5.68</td>\n    </tr>\n  </tbody>\n</table>\n</div>"
          },
          "metadata": {}
        }
      ]
    },
    {
      "metadata": {
        "_uuid": "30556737b79e9589651ccd456d3e0f16ece650f8"
      },
      "cell_type": "markdown",
      "source": "## Let's make a bar chart of the top 20 combined scores"
    },
    {
      "metadata": {
        "trusted": true,
        "_uuid": "9d576434ed8784736ccac0f71a89a7bf01b47431"
      },
      "cell_type": "code",
      "source": "cmax=200\ncmin=50\ncolor_s = np.linspace(cmin, cmax, 20)\n\ndata = [\n    go.Bar(\n        x=p_s_df_20.index,          \n        y=p_s_df_20['Score'],\n        marker=dict(\n            colorscale='Jet',\n            color=color_s,\n        ),\n    )\n]\n\nlayout = {\n    'title': 'Top 20 Technology Skills in Data Scientist Job Listings',\n    #'xaxis': {'title': 'Technology'},\n    'yaxis': {'title': \"Score\"}\n}\n\nfig = go.Figure(data=data, layout=layout)\npy.iplot(fig)",
      "execution_count": 14,
      "outputs": [
        {
          "output_type": "display_data",
          "data": {
            "application/vnd.plotly.v1+json": {
              "data": [
                {
                  "marker": {
                    "color": [
                      50,
                      57.89473684210526,
                      65.78947368421052,
                      73.68421052631578,
                      81.57894736842105,
                      89.47368421052632,
                      97.36842105263158,
                      105.26315789473685,
                      113.15789473684211,
                      121.05263157894737,
                      128.94736842105263,
                      136.8421052631579,
                      144.73684210526315,
                      152.6315789473684,
                      160.5263157894737,
                      168.42105263157896,
                      176.31578947368422,
                      184.21052631578948,
                      192.10526315789474,
                      200
                    ],
                    "colorscale": "Jet"
                  },
                  "x": [
                    "Python",
                    "R",
                    "SQL",
                    "Hadoop",
                    "Spark",
                    "Java",
                    "SAS",
                    "Tableau",
                    "Hive",
                    "Scala",
                    "AWS",
                    "C++",
                    "Matlab",
                    "TensorFlow",
                    "C",
                    "Excel",
                    "NoSQL",
                    "Linux",
                    "Azure",
                    "Scikit-learn"
                  ],
                  "y": [
                    100,
                    81.57,
                    67.19,
                    38.39,
                    36.94,
                    33.25,
                    29.07,
                    22.66,
                    18.72,
                    16.08,
                    15.67,
                    15.28,
                    13.27,
                    12.58,
                    11.58,
                    10.92,
                    8.78,
                    8.54,
                    6.73,
                    5.68
                  ],
                  "type": "bar",
                  "uid": "05404ed8-d088-11e8-a165-11ced18b9a9b"
                }
              ],
              "layout": {
                "title": "Top 20 Technology Skills in Data Scientist Job Listings",
                "yaxis": {
                  "title": "Score"
                }
              }
            },
            "text/html": "<div id=\"ac5a5008-6eb8-4a2c-88c6-6ff1ac1e0b42\" style=\"height: 525px; width: 100%;\" class=\"plotly-graph-div\"></div><script type=\"text/javascript\">require([\"plotly\"], function(Plotly) { window.PLOTLYENV=window.PLOTLYENV || {};window.PLOTLYENV.BASE_URL=\"https://plot.ly\";Plotly.newPlot(\"ac5a5008-6eb8-4a2c-88c6-6ff1ac1e0b42\", [{\"marker\": {\"color\": [50.0, 57.89473684210526, 65.78947368421052, 73.68421052631578, 81.57894736842105, 89.47368421052632, 97.36842105263158, 105.26315789473685, 113.15789473684211, 121.05263157894737, 128.94736842105263, 136.8421052631579, 144.73684210526315, 152.6315789473684, 160.5263157894737, 168.42105263157896, 176.31578947368422, 184.21052631578948, 192.10526315789474, 200.0], \"colorscale\": \"Jet\"}, \"x\": [\"Python\", \"R\", \"SQL\", \"Hadoop\", \"Spark\", \"Java\", \"SAS\", \"Tableau\", \"Hive\", \"Scala\", \"AWS\", \"C++\", \"Matlab\", \"TensorFlow\", \"C\", \"Excel\", \"NoSQL\", \"Linux\", \"Azure\", \"Scikit-learn\"], \"y\": [100.0, 81.57, 67.19, 38.39, 36.94, 33.25, 29.07, 22.66, 18.72, 16.08, 15.67, 15.28, 13.27, 12.58, 11.58, 10.92, 8.78, 8.54, 6.73, 5.68], \"type\": \"bar\", \"uid\": \"05404ed8-d088-11e8-a165-11ced18b9a9b\"}], {\"title\": \"Top 20 Technology Skills in Data Scientist Job Listings\", \"yaxis\": {\"title\": \"Score\"}}, {\"showLink\": true, \"linkText\": \"Export to plot.ly\"})});</script>",
            "text/vnd.plotly.v1+html": "<div id=\"ac5a5008-6eb8-4a2c-88c6-6ff1ac1e0b42\" style=\"height: 525px; width: 100%;\" class=\"plotly-graph-div\"></div><script type=\"text/javascript\">require([\"plotly\"], function(Plotly) { window.PLOTLYENV=window.PLOTLYENV || {};window.PLOTLYENV.BASE_URL=\"https://plot.ly\";Plotly.newPlot(\"ac5a5008-6eb8-4a2c-88c6-6ff1ac1e0b42\", [{\"marker\": {\"color\": [50.0, 57.89473684210526, 65.78947368421052, 73.68421052631578, 81.57894736842105, 89.47368421052632, 97.36842105263158, 105.26315789473685, 113.15789473684211, 121.05263157894737, 128.94736842105263, 136.8421052631579, 144.73684210526315, 152.6315789473684, 160.5263157894737, 168.42105263157896, 176.31578947368422, 184.21052631578948, 192.10526315789474, 200.0], \"colorscale\": \"Jet\"}, \"x\": [\"Python\", \"R\", \"SQL\", \"Hadoop\", \"Spark\", \"Java\", \"SAS\", \"Tableau\", \"Hive\", \"Scala\", \"AWS\", \"C++\", \"Matlab\", \"TensorFlow\", \"C\", \"Excel\", \"NoSQL\", \"Linux\", \"Azure\", \"Scikit-learn\"], \"y\": [100.0, 81.57, 67.19, 38.39, 36.94, 33.25, 29.07, 22.66, 18.72, 16.08, 15.67, 15.28, 13.27, 12.58, 11.58, 10.92, 8.78, 8.54, 6.73, 5.68], \"type\": \"bar\", \"uid\": \"05404ed8-d088-11e8-a165-11ced18b9a9b\"}], {\"title\": \"Top 20 Technology Skills in Data Scientist Job Listings\", \"yaxis\": {\"title\": \"Score\"}}, {\"showLink\": true, \"linkText\": \"Export to plot.ly\"})});</script>"
          },
          "metadata": {}
        }
      ]
    },
    {
      "metadata": {
        "_uuid": "c1e407a4480f89e066b7431758e92f3c9267cfb8"
      },
      "cell_type": "markdown",
      "source": "## Let's make a bar chart of all the combined scores"
    },
    {
      "metadata": {
        "trusted": true,
        "_uuid": "6d5178a41350e25cb8e436c467fa7ed7f9459a50"
      },
      "cell_type": "code",
      "source": "cmax=200\ncmin=50\ncolor_s = np.linspace(cmin, cmax, 44)\n\ndata = [\n    go.Bar(\n        x=p_s_df.index,          \n        y=p_s_df['Score'],\n        marker=dict(\n            colorscale='Jet',\n            #cauto=True,\n            color=color_s,\n        ),\n        # text=p_s_df['Score'],\n        # textposition='outside',\n        # textfont=dict(size=10)\n    )\n]\n\nlayout = {\n    'title': 'Technology Skills in Data Scientist Job Listings',\n    #'xaxis': {'tickmode': 'linear'},\n    'yaxis': {'title': \"Score\"}\n}\n\nfig = go.Figure(data=data, layout=layout)\npy.iplot(fig)",
      "execution_count": 15,
      "outputs": [
        {
          "output_type": "display_data",
          "data": {
            "application/vnd.plotly.v1+json": {
              "data": [
                {
                  "marker": {
                    "color": [
                      50,
                      53.48837209302326,
                      56.97674418604651,
                      60.46511627906977,
                      63.95348837209302,
                      67.44186046511628,
                      70.93023255813954,
                      74.4186046511628,
                      77.90697674418604,
                      81.3953488372093,
                      84.88372093023256,
                      88.37209302325581,
                      91.86046511627907,
                      95.34883720930233,
                      98.83720930232559,
                      102.32558139534883,
                      105.81395348837209,
                      109.30232558139535,
                      112.7906976744186,
                      116.27906976744185,
                      119.76744186046511,
                      123.25581395348837,
                      126.74418604651163,
                      130.2325581395349,
                      133.72093023255815,
                      137.2093023255814,
                      140.69767441860466,
                      144.18604651162792,
                      147.67441860465118,
                      151.16279069767444,
                      154.65116279069767,
                      158.13953488372093,
                      161.62790697674419,
                      165.11627906976744,
                      168.6046511627907,
                      172.09302325581393,
                      175.5813953488372,
                      179.06976744186048,
                      182.5581395348837,
                      186.04651162790697,
                      189.53488372093022,
                      193.02325581395348,
                      196.51162790697674,
                      200
                    ],
                    "colorscale": "Jet"
                  },
                  "x": [
                    "Python",
                    "R",
                    "SQL",
                    "Hadoop",
                    "Spark",
                    "Java",
                    "SAS",
                    "Tableau",
                    "Hive",
                    "Scala",
                    "AWS",
                    "C++",
                    "Matlab",
                    "TensorFlow",
                    "C",
                    "Excel",
                    "NoSQL",
                    "Linux",
                    "Azure",
                    "Scikit-learn",
                    "SPSS",
                    "Pandas",
                    "Pig",
                    "Javascript",
                    "Numpy",
                    "C# ",
                    "Perl",
                    "Keras",
                    "Docker",
                    "Git",
                    "MySQL",
                    "Hbase",
                    "MongoDB",
                    "Cassandra",
                    "D3",
                    "PyTorch",
                    "Caffe"
                  ],
                  "y": [
                    100,
                    81.57,
                    67.19,
                    38.39,
                    36.94,
                    33.25,
                    29.07,
                    22.66,
                    18.72,
                    16.08,
                    15.67,
                    15.28,
                    13.27,
                    12.58,
                    11.58,
                    10.92,
                    8.78,
                    8.54,
                    6.73,
                    5.68,
                    4.81,
                    4.49,
                    4.4,
                    3.42,
                    3.17,
                    3.06,
                    3.05,
                    2.45,
                    2.33,
                    2.28,
                    1.84,
                    1.83,
                    1.23,
                    1.05,
                    0.64,
                    0.23,
                    0.05
                  ],
                  "type": "bar",
                  "uid": "054c4fb2-d088-11e8-a165-11ced18b9a9b"
                }
              ],
              "layout": {
                "title": "Technology Skills in Data Scientist Job Listings",
                "yaxis": {
                  "title": "Score"
                }
              }
            },
            "text/html": "<div id=\"bb1cd92e-16c0-442b-8efe-e3ff254ae332\" style=\"height: 525px; width: 100%;\" class=\"plotly-graph-div\"></div><script type=\"text/javascript\">require([\"plotly\"], function(Plotly) { window.PLOTLYENV=window.PLOTLYENV || {};window.PLOTLYENV.BASE_URL=\"https://plot.ly\";Plotly.newPlot(\"bb1cd92e-16c0-442b-8efe-e3ff254ae332\", [{\"marker\": {\"color\": [50.0, 53.48837209302326, 56.97674418604651, 60.46511627906977, 63.95348837209302, 67.44186046511628, 70.93023255813954, 74.4186046511628, 77.90697674418604, 81.3953488372093, 84.88372093023256, 88.37209302325581, 91.86046511627907, 95.34883720930233, 98.83720930232559, 102.32558139534883, 105.81395348837209, 109.30232558139535, 112.7906976744186, 116.27906976744185, 119.76744186046511, 123.25581395348837, 126.74418604651163, 130.2325581395349, 133.72093023255815, 137.2093023255814, 140.69767441860466, 144.18604651162792, 147.67441860465118, 151.16279069767444, 154.65116279069767, 158.13953488372093, 161.62790697674419, 165.11627906976744, 168.6046511627907, 172.09302325581393, 175.5813953488372, 179.06976744186048, 182.5581395348837, 186.04651162790697, 189.53488372093022, 193.02325581395348, 196.51162790697674, 200.0], \"colorscale\": \"Jet\"}, \"x\": [\"Python\", \"R\", \"SQL\", \"Hadoop\", \"Spark\", \"Java\", \"SAS\", \"Tableau\", \"Hive\", \"Scala\", \"AWS\", \"C++\", \"Matlab\", \"TensorFlow\", \"C\", \"Excel\", \"NoSQL\", \"Linux\", \"Azure\", \"Scikit-learn\", \"SPSS\", \"Pandas\", \"Pig\", \"Javascript\", \"Numpy\", \"C# \", \"Perl\", \"Keras\", \"Docker\", \"Git\", \"MySQL\", \"Hbase\", \"MongoDB\", \"Cassandra\", \"D3\", \"PyTorch\", \"Caffe\"], \"y\": [100.0, 81.57, 67.19, 38.39, 36.94, 33.25, 29.07, 22.66, 18.72, 16.08, 15.67, 15.28, 13.27, 12.58, 11.58, 10.92, 8.78, 8.54, 6.73, 5.68, 4.81, 4.49, 4.4, 3.42, 3.17, 3.06, 3.05, 2.45, 2.33, 2.28, 1.84, 1.83, 1.23, 1.05, 0.64, 0.23, 0.05], \"type\": \"bar\", \"uid\": \"054c4fb2-d088-11e8-a165-11ced18b9a9b\"}], {\"title\": \"Technology Skills in Data Scientist Job Listings\", \"yaxis\": {\"title\": \"Score\"}}, {\"showLink\": true, \"linkText\": \"Export to plot.ly\"})});</script>",
            "text/vnd.plotly.v1+html": "<div id=\"bb1cd92e-16c0-442b-8efe-e3ff254ae332\" style=\"height: 525px; width: 100%;\" class=\"plotly-graph-div\"></div><script type=\"text/javascript\">require([\"plotly\"], function(Plotly) { window.PLOTLYENV=window.PLOTLYENV || {};window.PLOTLYENV.BASE_URL=\"https://plot.ly\";Plotly.newPlot(\"bb1cd92e-16c0-442b-8efe-e3ff254ae332\", [{\"marker\": {\"color\": [50.0, 53.48837209302326, 56.97674418604651, 60.46511627906977, 63.95348837209302, 67.44186046511628, 70.93023255813954, 74.4186046511628, 77.90697674418604, 81.3953488372093, 84.88372093023256, 88.37209302325581, 91.86046511627907, 95.34883720930233, 98.83720930232559, 102.32558139534883, 105.81395348837209, 109.30232558139535, 112.7906976744186, 116.27906976744185, 119.76744186046511, 123.25581395348837, 126.74418604651163, 130.2325581395349, 133.72093023255815, 137.2093023255814, 140.69767441860466, 144.18604651162792, 147.67441860465118, 151.16279069767444, 154.65116279069767, 158.13953488372093, 161.62790697674419, 165.11627906976744, 168.6046511627907, 172.09302325581393, 175.5813953488372, 179.06976744186048, 182.5581395348837, 186.04651162790697, 189.53488372093022, 193.02325581395348, 196.51162790697674, 200.0], \"colorscale\": \"Jet\"}, \"x\": [\"Python\", \"R\", \"SQL\", \"Hadoop\", \"Spark\", \"Java\", \"SAS\", \"Tableau\", \"Hive\", \"Scala\", \"AWS\", \"C++\", \"Matlab\", \"TensorFlow\", \"C\", \"Excel\", \"NoSQL\", \"Linux\", \"Azure\", \"Scikit-learn\", \"SPSS\", \"Pandas\", \"Pig\", \"Javascript\", \"Numpy\", \"C# \", \"Perl\", \"Keras\", \"Docker\", \"Git\", \"MySQL\", \"Hbase\", \"MongoDB\", \"Cassandra\", \"D3\", \"PyTorch\", \"Caffe\"], \"y\": [100.0, 81.57, 67.19, 38.39, 36.94, 33.25, 29.07, 22.66, 18.72, 16.08, 15.67, 15.28, 13.27, 12.58, 11.58, 10.92, 8.78, 8.54, 6.73, 5.68, 4.81, 4.49, 4.4, 3.42, 3.17, 3.06, 3.05, 2.45, 2.33, 2.28, 1.84, 1.83, 1.23, 1.05, 0.64, 0.23, 0.05], \"type\": \"bar\", \"uid\": \"054c4fb2-d088-11e8-a165-11ced18b9a9b\"}], {\"title\": \"Technology Skills in Data Scientist Job Listings\", \"yaxis\": {\"title\": \"Score\"}}, {\"showLink\": true, \"linkText\": \"Export to plot.ly\"})});</script>"
          },
          "metadata": {}
        }
      ]
    },
    {
      "metadata": {
        "_uuid": "ce3f275fc41e0bff659d58b4fb57f4f6336de284"
      },
      "cell_type": "markdown",
      "source": "## % of job listings with software skills\n"
    },
    {
      "metadata": {
        "_uuid": "5315e524a0b30fb5df46c5a13646d0ae4c533d9c"
      },
      "cell_type": "markdown",
      "source": "Total \"data scientist\" listings."
    },
    {
      "metadata": {
        "trusted": true,
        "_uuid": "b50693e6adf15b645fb674c955e15f2bfe7fc563"
      },
      "cell_type": "code",
      "source": "total_ds = {\n    'LinkedIn': 8610,\n    'Indeed': 5138,\n    'SimplyHired': 3829,\n    'Monster': 3746,\n}",
      "execution_count": 16,
      "outputs": []
    },
    {
      "metadata": {
        "trusted": true,
        "_uuid": "64203a8d1b4b103fa730e3a23e48545cb161b3a2"
      },
      "cell_type": "code",
      "source": "for key, value in total_ds.items():\n    df[key + \" %\"] = df[key] / value * 100\ndf",
      "execution_count": 17,
      "outputs": [
        {
          "output_type": "execute_result",
          "execution_count": 17,
          "data": {
            "text/plain": "              LinkedIn  Indeed  SimplyHired  Monster  LinkedIn %  Indeed %  \\\nKeyword                                                                      \nPython            6347    3818         2888     2544       73.72     74.31   \nR                 4553    3106         2393     2365       52.88     60.45   \nSQL               3879    2628         2056     1841       45.05     51.15   \nSpark             2169    1551         1167     1062       25.19     30.19   \nHadoop            2142    1578         1164     1200       24.88     30.71   \nJava              1944    1377         1059     1002       22.58     26.80   \nSAS               1713    1134          910      978       19.90     22.07   \nTableau           1216    1012          780      744       14.12     19.70   \nHive              1182     830          637      619       13.73     16.15   \nScala             1040     739          589      520       12.08     14.38   \nC++               1024     765          580      439       11.89     14.89   \nAWS                947     791          607      467       11.00     15.40   \nTensorFlow         844     661          501      385        9.80     12.86   \nMatlab             806     677          544      419        9.36     13.18   \nC                  795     492          384      523        9.23      9.58   \nExcel              701     569          438      397        8.14     11.07   \nLinux              601     517          364      303        6.98     10.06   \nNoSQL              598     436          387      362        6.95      8.49   \nAzure              578     416          285      272        6.71      8.10   \nScikit-learn       474     402          294      212        5.51      7.82   \nSPSS               452     330          273      202        5.25      6.42   \nPandas             421     330          282      175        4.89      6.42   \nNumpy              387     257          232      152        4.49      5.00   \nPig                367     296          231      256        4.26      5.76   \nD3                 353     149          113       95        4.10      2.90   \nKeras              329     253          205      131        3.82      4.92   \nJavascript         328     245          214      224        3.81      4.77   \nC#                 324     245          182      219        3.76      4.77   \nPerl               309     258          202      198        3.59      5.02   \nHbase              302     219          167      138        3.51      4.26   \nDocker             290     240          148      194        3.37      4.67   \nGit                282     261          186      145        3.28      5.08   \nMySQL              278     233          187      121        3.23      4.53   \nMongoDB            251     196          165      116        2.92      3.81   \nCassandra          236     174          146      136        2.74      3.39   \nPyTorch            214     143          131       98        2.49      2.78   \nCaffe              206     149          113       96        2.39      2.90   \n\n              SimplyHired %  Monster %  \nKeyword                                 \nPython                75.42      67.91  \nR                     62.50      63.13  \nSQL                   53.70      49.15  \nSpark                 30.48      28.35  \nHadoop                30.40      32.03  \nJava                  27.66      26.75  \nSAS                   23.77      26.11  \nTableau               20.37      19.86  \nHive                  16.64      16.52  \nScala                 15.38      13.88  \nC++                   15.15      11.72  \nAWS                   15.85      12.47  \nTensorFlow            13.08      10.28  \nMatlab                14.21      11.19  \nC                     10.03      13.96  \nExcel                 11.44      10.60  \nLinux                  9.51       8.09  \nNoSQL                 10.11       9.66  \nAzure                  7.44       7.26  \nScikit-learn           7.68       5.66  \nSPSS                   7.13       5.39  \nPandas                 7.36       4.67  \nNumpy                  6.06       4.06  \nPig                    6.03       6.83  \nD3                     2.95       2.54  \nKeras                  5.35       3.50  \nJavascript             5.59       5.98  \nC#                     4.75       5.85  \nPerl                   5.28       5.29  \nHbase                  4.36       3.68  \nDocker                 3.87       5.18  \nGit                    4.86       3.87  \nMySQL                  4.88       3.23  \nMongoDB                4.31       3.10  \nCassandra              3.81       3.63  \nPyTorch                3.42       2.62  \nCaffe                  2.95       2.56  ",
            "text/html": "<div>\n<style scoped>\n    .dataframe tbody tr th:only-of-type {\n        vertical-align: middle;\n    }\n\n    .dataframe tbody tr th {\n        vertical-align: top;\n    }\n\n    .dataframe thead th {\n        text-align: right;\n    }\n</style>\n<table border=\"1\" class=\"dataframe\">\n  <thead>\n    <tr style=\"text-align: right;\">\n      <th></th>\n      <th>LinkedIn</th>\n      <th>Indeed</th>\n      <th>SimplyHired</th>\n      <th>Monster</th>\n      <th>LinkedIn %</th>\n      <th>Indeed %</th>\n      <th>SimplyHired %</th>\n      <th>Monster %</th>\n    </tr>\n    <tr>\n      <th>Keyword</th>\n      <th></th>\n      <th></th>\n      <th></th>\n      <th></th>\n      <th></th>\n      <th></th>\n      <th></th>\n      <th></th>\n    </tr>\n  </thead>\n  <tbody>\n    <tr>\n      <th>Python</th>\n      <td>6347</td>\n      <td>3818</td>\n      <td>2888</td>\n      <td>2544</td>\n      <td>73.72</td>\n      <td>74.31</td>\n      <td>75.42</td>\n      <td>67.91</td>\n    </tr>\n    <tr>\n      <th>R</th>\n      <td>4553</td>\n      <td>3106</td>\n      <td>2393</td>\n      <td>2365</td>\n      <td>52.88</td>\n      <td>60.45</td>\n      <td>62.50</td>\n      <td>63.13</td>\n    </tr>\n    <tr>\n      <th>SQL</th>\n      <td>3879</td>\n      <td>2628</td>\n      <td>2056</td>\n      <td>1841</td>\n      <td>45.05</td>\n      <td>51.15</td>\n      <td>53.70</td>\n      <td>49.15</td>\n    </tr>\n    <tr>\n      <th>Spark</th>\n      <td>2169</td>\n      <td>1551</td>\n      <td>1167</td>\n      <td>1062</td>\n      <td>25.19</td>\n      <td>30.19</td>\n      <td>30.48</td>\n      <td>28.35</td>\n    </tr>\n    <tr>\n      <th>Hadoop</th>\n      <td>2142</td>\n      <td>1578</td>\n      <td>1164</td>\n      <td>1200</td>\n      <td>24.88</td>\n      <td>30.71</td>\n      <td>30.40</td>\n      <td>32.03</td>\n    </tr>\n    <tr>\n      <th>Java</th>\n      <td>1944</td>\n      <td>1377</td>\n      <td>1059</td>\n      <td>1002</td>\n      <td>22.58</td>\n      <td>26.80</td>\n      <td>27.66</td>\n      <td>26.75</td>\n    </tr>\n    <tr>\n      <th>SAS</th>\n      <td>1713</td>\n      <td>1134</td>\n      <td>910</td>\n      <td>978</td>\n      <td>19.90</td>\n      <td>22.07</td>\n      <td>23.77</td>\n      <td>26.11</td>\n    </tr>\n    <tr>\n      <th>Tableau</th>\n      <td>1216</td>\n      <td>1012</td>\n      <td>780</td>\n      <td>744</td>\n      <td>14.12</td>\n      <td>19.70</td>\n      <td>20.37</td>\n      <td>19.86</td>\n    </tr>\n    <tr>\n      <th>Hive</th>\n      <td>1182</td>\n      <td>830</td>\n      <td>637</td>\n      <td>619</td>\n      <td>13.73</td>\n      <td>16.15</td>\n      <td>16.64</td>\n      <td>16.52</td>\n    </tr>\n    <tr>\n      <th>Scala</th>\n      <td>1040</td>\n      <td>739</td>\n      <td>589</td>\n      <td>520</td>\n      <td>12.08</td>\n      <td>14.38</td>\n      <td>15.38</td>\n      <td>13.88</td>\n    </tr>\n    <tr>\n      <th>C++</th>\n      <td>1024</td>\n      <td>765</td>\n      <td>580</td>\n      <td>439</td>\n      <td>11.89</td>\n      <td>14.89</td>\n      <td>15.15</td>\n      <td>11.72</td>\n    </tr>\n    <tr>\n      <th>AWS</th>\n      <td>947</td>\n      <td>791</td>\n      <td>607</td>\n      <td>467</td>\n      <td>11.00</td>\n      <td>15.40</td>\n      <td>15.85</td>\n      <td>12.47</td>\n    </tr>\n    <tr>\n      <th>TensorFlow</th>\n      <td>844</td>\n      <td>661</td>\n      <td>501</td>\n      <td>385</td>\n      <td>9.80</td>\n      <td>12.86</td>\n      <td>13.08</td>\n      <td>10.28</td>\n    </tr>\n    <tr>\n      <th>Matlab</th>\n      <td>806</td>\n      <td>677</td>\n      <td>544</td>\n      <td>419</td>\n      <td>9.36</td>\n      <td>13.18</td>\n      <td>14.21</td>\n      <td>11.19</td>\n    </tr>\n    <tr>\n      <th>C</th>\n      <td>795</td>\n      <td>492</td>\n      <td>384</td>\n      <td>523</td>\n      <td>9.23</td>\n      <td>9.58</td>\n      <td>10.03</td>\n      <td>13.96</td>\n    </tr>\n    <tr>\n      <th>Excel</th>\n      <td>701</td>\n      <td>569</td>\n      <td>438</td>\n      <td>397</td>\n      <td>8.14</td>\n      <td>11.07</td>\n      <td>11.44</td>\n      <td>10.60</td>\n    </tr>\n    <tr>\n      <th>Linux</th>\n      <td>601</td>\n      <td>517</td>\n      <td>364</td>\n      <td>303</td>\n      <td>6.98</td>\n      <td>10.06</td>\n      <td>9.51</td>\n      <td>8.09</td>\n    </tr>\n    <tr>\n      <th>NoSQL</th>\n      <td>598</td>\n      <td>436</td>\n      <td>387</td>\n      <td>362</td>\n      <td>6.95</td>\n      <td>8.49</td>\n      <td>10.11</td>\n      <td>9.66</td>\n    </tr>\n    <tr>\n      <th>Azure</th>\n      <td>578</td>\n      <td>416</td>\n      <td>285</td>\n      <td>272</td>\n      <td>6.71</td>\n      <td>8.10</td>\n      <td>7.44</td>\n      <td>7.26</td>\n    </tr>\n    <tr>\n      <th>Scikit-learn</th>\n      <td>474</td>\n      <td>402</td>\n      <td>294</td>\n      <td>212</td>\n      <td>5.51</td>\n      <td>7.82</td>\n      <td>7.68</td>\n      <td>5.66</td>\n    </tr>\n    <tr>\n      <th>SPSS</th>\n      <td>452</td>\n      <td>330</td>\n      <td>273</td>\n      <td>202</td>\n      <td>5.25</td>\n      <td>6.42</td>\n      <td>7.13</td>\n      <td>5.39</td>\n    </tr>\n    <tr>\n      <th>Pandas</th>\n      <td>421</td>\n      <td>330</td>\n      <td>282</td>\n      <td>175</td>\n      <td>4.89</td>\n      <td>6.42</td>\n      <td>7.36</td>\n      <td>4.67</td>\n    </tr>\n    <tr>\n      <th>Numpy</th>\n      <td>387</td>\n      <td>257</td>\n      <td>232</td>\n      <td>152</td>\n      <td>4.49</td>\n      <td>5.00</td>\n      <td>6.06</td>\n      <td>4.06</td>\n    </tr>\n    <tr>\n      <th>Pig</th>\n      <td>367</td>\n      <td>296</td>\n      <td>231</td>\n      <td>256</td>\n      <td>4.26</td>\n      <td>5.76</td>\n      <td>6.03</td>\n      <td>6.83</td>\n    </tr>\n    <tr>\n      <th>D3</th>\n      <td>353</td>\n      <td>149</td>\n      <td>113</td>\n      <td>95</td>\n      <td>4.10</td>\n      <td>2.90</td>\n      <td>2.95</td>\n      <td>2.54</td>\n    </tr>\n    <tr>\n      <th>Keras</th>\n      <td>329</td>\n      <td>253</td>\n      <td>205</td>\n      <td>131</td>\n      <td>3.82</td>\n      <td>4.92</td>\n      <td>5.35</td>\n      <td>3.50</td>\n    </tr>\n    <tr>\n      <th>Javascript</th>\n      <td>328</td>\n      <td>245</td>\n      <td>214</td>\n      <td>224</td>\n      <td>3.81</td>\n      <td>4.77</td>\n      <td>5.59</td>\n      <td>5.98</td>\n    </tr>\n    <tr>\n      <th>C#</th>\n      <td>324</td>\n      <td>245</td>\n      <td>182</td>\n      <td>219</td>\n      <td>3.76</td>\n      <td>4.77</td>\n      <td>4.75</td>\n      <td>5.85</td>\n    </tr>\n    <tr>\n      <th>Perl</th>\n      <td>309</td>\n      <td>258</td>\n      <td>202</td>\n      <td>198</td>\n      <td>3.59</td>\n      <td>5.02</td>\n      <td>5.28</td>\n      <td>5.29</td>\n    </tr>\n    <tr>\n      <th>Hbase</th>\n      <td>302</td>\n      <td>219</td>\n      <td>167</td>\n      <td>138</td>\n      <td>3.51</td>\n      <td>4.26</td>\n      <td>4.36</td>\n      <td>3.68</td>\n    </tr>\n    <tr>\n      <th>Docker</th>\n      <td>290</td>\n      <td>240</td>\n      <td>148</td>\n      <td>194</td>\n      <td>3.37</td>\n      <td>4.67</td>\n      <td>3.87</td>\n      <td>5.18</td>\n    </tr>\n    <tr>\n      <th>Git</th>\n      <td>282</td>\n      <td>261</td>\n      <td>186</td>\n      <td>145</td>\n      <td>3.28</td>\n      <td>5.08</td>\n      <td>4.86</td>\n      <td>3.87</td>\n    </tr>\n    <tr>\n      <th>MySQL</th>\n      <td>278</td>\n      <td>233</td>\n      <td>187</td>\n      <td>121</td>\n      <td>3.23</td>\n      <td>4.53</td>\n      <td>4.88</td>\n      <td>3.23</td>\n    </tr>\n    <tr>\n      <th>MongoDB</th>\n      <td>251</td>\n      <td>196</td>\n      <td>165</td>\n      <td>116</td>\n      <td>2.92</td>\n      <td>3.81</td>\n      <td>4.31</td>\n      <td>3.10</td>\n    </tr>\n    <tr>\n      <th>Cassandra</th>\n      <td>236</td>\n      <td>174</td>\n      <td>146</td>\n      <td>136</td>\n      <td>2.74</td>\n      <td>3.39</td>\n      <td>3.81</td>\n      <td>3.63</td>\n    </tr>\n    <tr>\n      <th>PyTorch</th>\n      <td>214</td>\n      <td>143</td>\n      <td>131</td>\n      <td>98</td>\n      <td>2.49</td>\n      <td>2.78</td>\n      <td>3.42</td>\n      <td>2.62</td>\n    </tr>\n    <tr>\n      <th>Caffe</th>\n      <td>206</td>\n      <td>149</td>\n      <td>113</td>\n      <td>96</td>\n      <td>2.39</td>\n      <td>2.90</td>\n      <td>2.95</td>\n      <td>2.56</td>\n    </tr>\n  </tbody>\n</table>\n</div>"
          },
          "metadata": {}
        }
      ]
    },
    {
      "metadata": {
        "_uuid": "8e503f1c044a04227ca282e2c3a24f95766790b6"
      },
      "cell_type": "markdown",
      "source": "Let's make an average of those % columns."
    },
    {
      "metadata": {
        "trusted": true,
        "_uuid": "c1c748c48d1e5f94eb918f591236acdd6f075d09"
      },
      "cell_type": "code",
      "source": "df['avg_percent'] = df.iloc[:,-4:].mean(axis=1)\ndf",
      "execution_count": 18,
      "outputs": [
        {
          "output_type": "execute_result",
          "execution_count": 18,
          "data": {
            "text/plain": "              LinkedIn  Indeed  SimplyHired  Monster  LinkedIn %  Indeed %  \\\nKeyword                                                                      \nPython            6347    3818         2888     2544       73.72     74.31   \nR                 4553    3106         2393     2365       52.88     60.45   \nSQL               3879    2628         2056     1841       45.05     51.15   \nSpark             2169    1551         1167     1062       25.19     30.19   \nHadoop            2142    1578         1164     1200       24.88     30.71   \nJava              1944    1377         1059     1002       22.58     26.80   \nSAS               1713    1134          910      978       19.90     22.07   \nTableau           1216    1012          780      744       14.12     19.70   \nHive              1182     830          637      619       13.73     16.15   \nScala             1040     739          589      520       12.08     14.38   \nC++               1024     765          580      439       11.89     14.89   \nAWS                947     791          607      467       11.00     15.40   \nTensorFlow         844     661          501      385        9.80     12.86   \nMatlab             806     677          544      419        9.36     13.18   \nC                  795     492          384      523        9.23      9.58   \nExcel              701     569          438      397        8.14     11.07   \nLinux              601     517          364      303        6.98     10.06   \nNoSQL              598     436          387      362        6.95      8.49   \nAzure              578     416          285      272        6.71      8.10   \nScikit-learn       474     402          294      212        5.51      7.82   \nSPSS               452     330          273      202        5.25      6.42   \nPandas             421     330          282      175        4.89      6.42   \nNumpy              387     257          232      152        4.49      5.00   \nPig                367     296          231      256        4.26      5.76   \nD3                 353     149          113       95        4.10      2.90   \nKeras              329     253          205      131        3.82      4.92   \nJavascript         328     245          214      224        3.81      4.77   \nC#                 324     245          182      219        3.76      4.77   \nPerl               309     258          202      198        3.59      5.02   \nHbase              302     219          167      138        3.51      4.26   \nDocker             290     240          148      194        3.37      4.67   \nGit                282     261          186      145        3.28      5.08   \nMySQL              278     233          187      121        3.23      4.53   \nMongoDB            251     196          165      116        2.92      3.81   \nCassandra          236     174          146      136        2.74      3.39   \nPyTorch            214     143          131       98        2.49      2.78   \nCaffe              206     149          113       96        2.39      2.90   \n\n              SimplyHired %  Monster %  avg_percent  \nKeyword                                              \nPython                75.42      67.91        72.84  \nR                     62.50      63.13        59.74  \nSQL                   53.70      49.15        49.76  \nSpark                 30.48      28.35        28.55  \nHadoop                30.40      32.03        29.51  \nJava                  27.66      26.75        25.95  \nSAS                   23.77      26.11        22.96  \nTableau               20.37      19.86        18.51  \nHive                  16.64      16.52        15.76  \nScala                 15.38      13.88        13.93  \nC++                   15.15      11.72        13.41  \nAWS                   15.85      12.47        13.68  \nTensorFlow            13.08      10.28        11.51  \nMatlab                14.21      11.19        11.98  \nC                     10.03      13.96        10.70  \nExcel                 11.44      10.60        10.31  \nLinux                  9.51       8.09         8.66  \nNoSQL                 10.11       9.66         8.80  \nAzure                  7.44       7.26         7.38  \nScikit-learn           7.68       5.66         6.67  \nSPSS                   7.13       5.39         6.05  \nPandas                 7.36       4.67         5.84  \nNumpy                  6.06       4.06         4.90  \nPig                    6.03       6.83         5.72  \nD3                     2.95       2.54         3.12  \nKeras                  5.35       3.50         4.40  \nJavascript             5.59       5.98         5.04  \nC#                     4.75       5.85         4.78  \nPerl                   5.28       5.29         4.79  \nHbase                  4.36       3.68         3.95  \nDocker                 3.87       5.18         4.27  \nGit                    4.86       3.87         4.27  \nMySQL                  4.88       3.23         3.97  \nMongoDB                4.31       3.10         3.53  \nCassandra              3.81       3.63         3.39  \nPyTorch                3.42       2.62         2.83  \nCaffe                  2.95       2.56         2.70  ",
            "text/html": "<div>\n<style scoped>\n    .dataframe tbody tr th:only-of-type {\n        vertical-align: middle;\n    }\n\n    .dataframe tbody tr th {\n        vertical-align: top;\n    }\n\n    .dataframe thead th {\n        text-align: right;\n    }\n</style>\n<table border=\"1\" class=\"dataframe\">\n  <thead>\n    <tr style=\"text-align: right;\">\n      <th></th>\n      <th>LinkedIn</th>\n      <th>Indeed</th>\n      <th>SimplyHired</th>\n      <th>Monster</th>\n      <th>LinkedIn %</th>\n      <th>Indeed %</th>\n      <th>SimplyHired %</th>\n      <th>Monster %</th>\n      <th>avg_percent</th>\n    </tr>\n    <tr>\n      <th>Keyword</th>\n      <th></th>\n      <th></th>\n      <th></th>\n      <th></th>\n      <th></th>\n      <th></th>\n      <th></th>\n      <th></th>\n      <th></th>\n    </tr>\n  </thead>\n  <tbody>\n    <tr>\n      <th>Python</th>\n      <td>6347</td>\n      <td>3818</td>\n      <td>2888</td>\n      <td>2544</td>\n      <td>73.72</td>\n      <td>74.31</td>\n      <td>75.42</td>\n      <td>67.91</td>\n      <td>72.84</td>\n    </tr>\n    <tr>\n      <th>R</th>\n      <td>4553</td>\n      <td>3106</td>\n      <td>2393</td>\n      <td>2365</td>\n      <td>52.88</td>\n      <td>60.45</td>\n      <td>62.50</td>\n      <td>63.13</td>\n      <td>59.74</td>\n    </tr>\n    <tr>\n      <th>SQL</th>\n      <td>3879</td>\n      <td>2628</td>\n      <td>2056</td>\n      <td>1841</td>\n      <td>45.05</td>\n      <td>51.15</td>\n      <td>53.70</td>\n      <td>49.15</td>\n      <td>49.76</td>\n    </tr>\n    <tr>\n      <th>Spark</th>\n      <td>2169</td>\n      <td>1551</td>\n      <td>1167</td>\n      <td>1062</td>\n      <td>25.19</td>\n      <td>30.19</td>\n      <td>30.48</td>\n      <td>28.35</td>\n      <td>28.55</td>\n    </tr>\n    <tr>\n      <th>Hadoop</th>\n      <td>2142</td>\n      <td>1578</td>\n      <td>1164</td>\n      <td>1200</td>\n      <td>24.88</td>\n      <td>30.71</td>\n      <td>30.40</td>\n      <td>32.03</td>\n      <td>29.51</td>\n    </tr>\n    <tr>\n      <th>Java</th>\n      <td>1944</td>\n      <td>1377</td>\n      <td>1059</td>\n      <td>1002</td>\n      <td>22.58</td>\n      <td>26.80</td>\n      <td>27.66</td>\n      <td>26.75</td>\n      <td>25.95</td>\n    </tr>\n    <tr>\n      <th>SAS</th>\n      <td>1713</td>\n      <td>1134</td>\n      <td>910</td>\n      <td>978</td>\n      <td>19.90</td>\n      <td>22.07</td>\n      <td>23.77</td>\n      <td>26.11</td>\n      <td>22.96</td>\n    </tr>\n    <tr>\n      <th>Tableau</th>\n      <td>1216</td>\n      <td>1012</td>\n      <td>780</td>\n      <td>744</td>\n      <td>14.12</td>\n      <td>19.70</td>\n      <td>20.37</td>\n      <td>19.86</td>\n      <td>18.51</td>\n    </tr>\n    <tr>\n      <th>Hive</th>\n      <td>1182</td>\n      <td>830</td>\n      <td>637</td>\n      <td>619</td>\n      <td>13.73</td>\n      <td>16.15</td>\n      <td>16.64</td>\n      <td>16.52</td>\n      <td>15.76</td>\n    </tr>\n    <tr>\n      <th>Scala</th>\n      <td>1040</td>\n      <td>739</td>\n      <td>589</td>\n      <td>520</td>\n      <td>12.08</td>\n      <td>14.38</td>\n      <td>15.38</td>\n      <td>13.88</td>\n      <td>13.93</td>\n    </tr>\n    <tr>\n      <th>C++</th>\n      <td>1024</td>\n      <td>765</td>\n      <td>580</td>\n      <td>439</td>\n      <td>11.89</td>\n      <td>14.89</td>\n      <td>15.15</td>\n      <td>11.72</td>\n      <td>13.41</td>\n    </tr>\n    <tr>\n      <th>AWS</th>\n      <td>947</td>\n      <td>791</td>\n      <td>607</td>\n      <td>467</td>\n      <td>11.00</td>\n      <td>15.40</td>\n      <td>15.85</td>\n      <td>12.47</td>\n      <td>13.68</td>\n    </tr>\n    <tr>\n      <th>TensorFlow</th>\n      <td>844</td>\n      <td>661</td>\n      <td>501</td>\n      <td>385</td>\n      <td>9.80</td>\n      <td>12.86</td>\n      <td>13.08</td>\n      <td>10.28</td>\n      <td>11.51</td>\n    </tr>\n    <tr>\n      <th>Matlab</th>\n      <td>806</td>\n      <td>677</td>\n      <td>544</td>\n      <td>419</td>\n      <td>9.36</td>\n      <td>13.18</td>\n      <td>14.21</td>\n      <td>11.19</td>\n      <td>11.98</td>\n    </tr>\n    <tr>\n      <th>C</th>\n      <td>795</td>\n      <td>492</td>\n      <td>384</td>\n      <td>523</td>\n      <td>9.23</td>\n      <td>9.58</td>\n      <td>10.03</td>\n      <td>13.96</td>\n      <td>10.70</td>\n    </tr>\n    <tr>\n      <th>Excel</th>\n      <td>701</td>\n      <td>569</td>\n      <td>438</td>\n      <td>397</td>\n      <td>8.14</td>\n      <td>11.07</td>\n      <td>11.44</td>\n      <td>10.60</td>\n      <td>10.31</td>\n    </tr>\n    <tr>\n      <th>Linux</th>\n      <td>601</td>\n      <td>517</td>\n      <td>364</td>\n      <td>303</td>\n      <td>6.98</td>\n      <td>10.06</td>\n      <td>9.51</td>\n      <td>8.09</td>\n      <td>8.66</td>\n    </tr>\n    <tr>\n      <th>NoSQL</th>\n      <td>598</td>\n      <td>436</td>\n      <td>387</td>\n      <td>362</td>\n      <td>6.95</td>\n      <td>8.49</td>\n      <td>10.11</td>\n      <td>9.66</td>\n      <td>8.80</td>\n    </tr>\n    <tr>\n      <th>Azure</th>\n      <td>578</td>\n      <td>416</td>\n      <td>285</td>\n      <td>272</td>\n      <td>6.71</td>\n      <td>8.10</td>\n      <td>7.44</td>\n      <td>7.26</td>\n      <td>7.38</td>\n    </tr>\n    <tr>\n      <th>Scikit-learn</th>\n      <td>474</td>\n      <td>402</td>\n      <td>294</td>\n      <td>212</td>\n      <td>5.51</td>\n      <td>7.82</td>\n      <td>7.68</td>\n      <td>5.66</td>\n      <td>6.67</td>\n    </tr>\n    <tr>\n      <th>SPSS</th>\n      <td>452</td>\n      <td>330</td>\n      <td>273</td>\n      <td>202</td>\n      <td>5.25</td>\n      <td>6.42</td>\n      <td>7.13</td>\n      <td>5.39</td>\n      <td>6.05</td>\n    </tr>\n    <tr>\n      <th>Pandas</th>\n      <td>421</td>\n      <td>330</td>\n      <td>282</td>\n      <td>175</td>\n      <td>4.89</td>\n      <td>6.42</td>\n      <td>7.36</td>\n      <td>4.67</td>\n      <td>5.84</td>\n    </tr>\n    <tr>\n      <th>Numpy</th>\n      <td>387</td>\n      <td>257</td>\n      <td>232</td>\n      <td>152</td>\n      <td>4.49</td>\n      <td>5.00</td>\n      <td>6.06</td>\n      <td>4.06</td>\n      <td>4.90</td>\n    </tr>\n    <tr>\n      <th>Pig</th>\n      <td>367</td>\n      <td>296</td>\n      <td>231</td>\n      <td>256</td>\n      <td>4.26</td>\n      <td>5.76</td>\n      <td>6.03</td>\n      <td>6.83</td>\n      <td>5.72</td>\n    </tr>\n    <tr>\n      <th>D3</th>\n      <td>353</td>\n      <td>149</td>\n      <td>113</td>\n      <td>95</td>\n      <td>4.10</td>\n      <td>2.90</td>\n      <td>2.95</td>\n      <td>2.54</td>\n      <td>3.12</td>\n    </tr>\n    <tr>\n      <th>Keras</th>\n      <td>329</td>\n      <td>253</td>\n      <td>205</td>\n      <td>131</td>\n      <td>3.82</td>\n      <td>4.92</td>\n      <td>5.35</td>\n      <td>3.50</td>\n      <td>4.40</td>\n    </tr>\n    <tr>\n      <th>Javascript</th>\n      <td>328</td>\n      <td>245</td>\n      <td>214</td>\n      <td>224</td>\n      <td>3.81</td>\n      <td>4.77</td>\n      <td>5.59</td>\n      <td>5.98</td>\n      <td>5.04</td>\n    </tr>\n    <tr>\n      <th>C#</th>\n      <td>324</td>\n      <td>245</td>\n      <td>182</td>\n      <td>219</td>\n      <td>3.76</td>\n      <td>4.77</td>\n      <td>4.75</td>\n      <td>5.85</td>\n      <td>4.78</td>\n    </tr>\n    <tr>\n      <th>Perl</th>\n      <td>309</td>\n      <td>258</td>\n      <td>202</td>\n      <td>198</td>\n      <td>3.59</td>\n      <td>5.02</td>\n      <td>5.28</td>\n      <td>5.29</td>\n      <td>4.79</td>\n    </tr>\n    <tr>\n      <th>Hbase</th>\n      <td>302</td>\n      <td>219</td>\n      <td>167</td>\n      <td>138</td>\n      <td>3.51</td>\n      <td>4.26</td>\n      <td>4.36</td>\n      <td>3.68</td>\n      <td>3.95</td>\n    </tr>\n    <tr>\n      <th>Docker</th>\n      <td>290</td>\n      <td>240</td>\n      <td>148</td>\n      <td>194</td>\n      <td>3.37</td>\n      <td>4.67</td>\n      <td>3.87</td>\n      <td>5.18</td>\n      <td>4.27</td>\n    </tr>\n    <tr>\n      <th>Git</th>\n      <td>282</td>\n      <td>261</td>\n      <td>186</td>\n      <td>145</td>\n      <td>3.28</td>\n      <td>5.08</td>\n      <td>4.86</td>\n      <td>3.87</td>\n      <td>4.27</td>\n    </tr>\n    <tr>\n      <th>MySQL</th>\n      <td>278</td>\n      <td>233</td>\n      <td>187</td>\n      <td>121</td>\n      <td>3.23</td>\n      <td>4.53</td>\n      <td>4.88</td>\n      <td>3.23</td>\n      <td>3.97</td>\n    </tr>\n    <tr>\n      <th>MongoDB</th>\n      <td>251</td>\n      <td>196</td>\n      <td>165</td>\n      <td>116</td>\n      <td>2.92</td>\n      <td>3.81</td>\n      <td>4.31</td>\n      <td>3.10</td>\n      <td>3.53</td>\n    </tr>\n    <tr>\n      <th>Cassandra</th>\n      <td>236</td>\n      <td>174</td>\n      <td>146</td>\n      <td>136</td>\n      <td>2.74</td>\n      <td>3.39</td>\n      <td>3.81</td>\n      <td>3.63</td>\n      <td>3.39</td>\n    </tr>\n    <tr>\n      <th>PyTorch</th>\n      <td>214</td>\n      <td>143</td>\n      <td>131</td>\n      <td>98</td>\n      <td>2.49</td>\n      <td>2.78</td>\n      <td>3.42</td>\n      <td>2.62</td>\n      <td>2.83</td>\n    </tr>\n    <tr>\n      <th>Caffe</th>\n      <td>206</td>\n      <td>149</td>\n      <td>113</td>\n      <td>96</td>\n      <td>2.39</td>\n      <td>2.90</td>\n      <td>2.95</td>\n      <td>2.56</td>\n      <td>2.70</td>\n    </tr>\n  </tbody>\n</table>\n</div>"
          },
          "metadata": {}
        }
      ]
    },
    {
      "metadata": {
        "trusted": true,
        "_uuid": "2596c37b700a3ce0bc7538a4f88780526a0a46f2"
      },
      "cell_type": "code",
      "source": "df = df.sort_values(by=\"avg_percent\", ascending = False)\ndf",
      "execution_count": 19,
      "outputs": [
        {
          "output_type": "execute_result",
          "execution_count": 19,
          "data": {
            "text/plain": "              LinkedIn  Indeed  SimplyHired  Monster  LinkedIn %  Indeed %  \\\nKeyword                                                                      \nPython            6347    3818         2888     2544       73.72     74.31   \nR                 4553    3106         2393     2365       52.88     60.45   \nSQL               3879    2628         2056     1841       45.05     51.15   \nHadoop            2142    1578         1164     1200       24.88     30.71   \nSpark             2169    1551         1167     1062       25.19     30.19   \nJava              1944    1377         1059     1002       22.58     26.80   \nSAS               1713    1134          910      978       19.90     22.07   \nTableau           1216    1012          780      744       14.12     19.70   \nHive              1182     830          637      619       13.73     16.15   \nScala             1040     739          589      520       12.08     14.38   \nAWS                947     791          607      467       11.00     15.40   \nC++               1024     765          580      439       11.89     14.89   \nMatlab             806     677          544      419        9.36     13.18   \nTensorFlow         844     661          501      385        9.80     12.86   \nC                  795     492          384      523        9.23      9.58   \nExcel              701     569          438      397        8.14     11.07   \nNoSQL              598     436          387      362        6.95      8.49   \nLinux              601     517          364      303        6.98     10.06   \nAzure              578     416          285      272        6.71      8.10   \nScikit-learn       474     402          294      212        5.51      7.82   \nSPSS               452     330          273      202        5.25      6.42   \nPandas             421     330          282      175        4.89      6.42   \nPig                367     296          231      256        4.26      5.76   \nJavascript         328     245          214      224        3.81      4.77   \nNumpy              387     257          232      152        4.49      5.00   \nPerl               309     258          202      198        3.59      5.02   \nC#                 324     245          182      219        3.76      4.77   \nKeras              329     253          205      131        3.82      4.92   \nGit                282     261          186      145        3.28      5.08   \nDocker             290     240          148      194        3.37      4.67   \nMySQL              278     233          187      121        3.23      4.53   \nHbase              302     219          167      138        3.51      4.26   \nMongoDB            251     196          165      116        2.92      3.81   \nCassandra          236     174          146      136        2.74      3.39   \nD3                 353     149          113       95        4.10      2.90   \nPyTorch            214     143          131       98        2.49      2.78   \nCaffe              206     149          113       96        2.39      2.90   \n\n              SimplyHired %  Monster %  avg_percent  \nKeyword                                              \nPython                75.42      67.91        72.84  \nR                     62.50      63.13        59.74  \nSQL                   53.70      49.15        49.76  \nHadoop                30.40      32.03        29.51  \nSpark                 30.48      28.35        28.55  \nJava                  27.66      26.75        25.95  \nSAS                   23.77      26.11        22.96  \nTableau               20.37      19.86        18.51  \nHive                  16.64      16.52        15.76  \nScala                 15.38      13.88        13.93  \nAWS                   15.85      12.47        13.68  \nC++                   15.15      11.72        13.41  \nMatlab                14.21      11.19        11.98  \nTensorFlow            13.08      10.28        11.51  \nC                     10.03      13.96        10.70  \nExcel                 11.44      10.60        10.31  \nNoSQL                 10.11       9.66         8.80  \nLinux                  9.51       8.09         8.66  \nAzure                  7.44       7.26         7.38  \nScikit-learn           7.68       5.66         6.67  \nSPSS                   7.13       5.39         6.05  \nPandas                 7.36       4.67         5.84  \nPig                    6.03       6.83         5.72  \nJavascript             5.59       5.98         5.04  \nNumpy                  6.06       4.06         4.90  \nPerl                   5.28       5.29         4.79  \nC#                     4.75       5.85         4.78  \nKeras                  5.35       3.50         4.40  \nGit                    4.86       3.87         4.27  \nDocker                 3.87       5.18         4.27  \nMySQL                  4.88       3.23         3.97  \nHbase                  4.36       3.68         3.95  \nMongoDB                4.31       3.10         3.53  \nCassandra              3.81       3.63         3.39  \nD3                     2.95       2.54         3.12  \nPyTorch                3.42       2.62         2.83  \nCaffe                  2.95       2.56         2.70  ",
            "text/html": "<div>\n<style scoped>\n    .dataframe tbody tr th:only-of-type {\n        vertical-align: middle;\n    }\n\n    .dataframe tbody tr th {\n        vertical-align: top;\n    }\n\n    .dataframe thead th {\n        text-align: right;\n    }\n</style>\n<table border=\"1\" class=\"dataframe\">\n  <thead>\n    <tr style=\"text-align: right;\">\n      <th></th>\n      <th>LinkedIn</th>\n      <th>Indeed</th>\n      <th>SimplyHired</th>\n      <th>Monster</th>\n      <th>LinkedIn %</th>\n      <th>Indeed %</th>\n      <th>SimplyHired %</th>\n      <th>Monster %</th>\n      <th>avg_percent</th>\n    </tr>\n    <tr>\n      <th>Keyword</th>\n      <th></th>\n      <th></th>\n      <th></th>\n      <th></th>\n      <th></th>\n      <th></th>\n      <th></th>\n      <th></th>\n      <th></th>\n    </tr>\n  </thead>\n  <tbody>\n    <tr>\n      <th>Python</th>\n      <td>6347</td>\n      <td>3818</td>\n      <td>2888</td>\n      <td>2544</td>\n      <td>73.72</td>\n      <td>74.31</td>\n      <td>75.42</td>\n      <td>67.91</td>\n      <td>72.84</td>\n    </tr>\n    <tr>\n      <th>R</th>\n      <td>4553</td>\n      <td>3106</td>\n      <td>2393</td>\n      <td>2365</td>\n      <td>52.88</td>\n      <td>60.45</td>\n      <td>62.50</td>\n      <td>63.13</td>\n      <td>59.74</td>\n    </tr>\n    <tr>\n      <th>SQL</th>\n      <td>3879</td>\n      <td>2628</td>\n      <td>2056</td>\n      <td>1841</td>\n      <td>45.05</td>\n      <td>51.15</td>\n      <td>53.70</td>\n      <td>49.15</td>\n      <td>49.76</td>\n    </tr>\n    <tr>\n      <th>Hadoop</th>\n      <td>2142</td>\n      <td>1578</td>\n      <td>1164</td>\n      <td>1200</td>\n      <td>24.88</td>\n      <td>30.71</td>\n      <td>30.40</td>\n      <td>32.03</td>\n      <td>29.51</td>\n    </tr>\n    <tr>\n      <th>Spark</th>\n      <td>2169</td>\n      <td>1551</td>\n      <td>1167</td>\n      <td>1062</td>\n      <td>25.19</td>\n      <td>30.19</td>\n      <td>30.48</td>\n      <td>28.35</td>\n      <td>28.55</td>\n    </tr>\n    <tr>\n      <th>Java</th>\n      <td>1944</td>\n      <td>1377</td>\n      <td>1059</td>\n      <td>1002</td>\n      <td>22.58</td>\n      <td>26.80</td>\n      <td>27.66</td>\n      <td>26.75</td>\n      <td>25.95</td>\n    </tr>\n    <tr>\n      <th>SAS</th>\n      <td>1713</td>\n      <td>1134</td>\n      <td>910</td>\n      <td>978</td>\n      <td>19.90</td>\n      <td>22.07</td>\n      <td>23.77</td>\n      <td>26.11</td>\n      <td>22.96</td>\n    </tr>\n    <tr>\n      <th>Tableau</th>\n      <td>1216</td>\n      <td>1012</td>\n      <td>780</td>\n      <td>744</td>\n      <td>14.12</td>\n      <td>19.70</td>\n      <td>20.37</td>\n      <td>19.86</td>\n      <td>18.51</td>\n    </tr>\n    <tr>\n      <th>Hive</th>\n      <td>1182</td>\n      <td>830</td>\n      <td>637</td>\n      <td>619</td>\n      <td>13.73</td>\n      <td>16.15</td>\n      <td>16.64</td>\n      <td>16.52</td>\n      <td>15.76</td>\n    </tr>\n    <tr>\n      <th>Scala</th>\n      <td>1040</td>\n      <td>739</td>\n      <td>589</td>\n      <td>520</td>\n      <td>12.08</td>\n      <td>14.38</td>\n      <td>15.38</td>\n      <td>13.88</td>\n      <td>13.93</td>\n    </tr>\n    <tr>\n      <th>AWS</th>\n      <td>947</td>\n      <td>791</td>\n      <td>607</td>\n      <td>467</td>\n      <td>11.00</td>\n      <td>15.40</td>\n      <td>15.85</td>\n      <td>12.47</td>\n      <td>13.68</td>\n    </tr>\n    <tr>\n      <th>C++</th>\n      <td>1024</td>\n      <td>765</td>\n      <td>580</td>\n      <td>439</td>\n      <td>11.89</td>\n      <td>14.89</td>\n      <td>15.15</td>\n      <td>11.72</td>\n      <td>13.41</td>\n    </tr>\n    <tr>\n      <th>Matlab</th>\n      <td>806</td>\n      <td>677</td>\n      <td>544</td>\n      <td>419</td>\n      <td>9.36</td>\n      <td>13.18</td>\n      <td>14.21</td>\n      <td>11.19</td>\n      <td>11.98</td>\n    </tr>\n    <tr>\n      <th>TensorFlow</th>\n      <td>844</td>\n      <td>661</td>\n      <td>501</td>\n      <td>385</td>\n      <td>9.80</td>\n      <td>12.86</td>\n      <td>13.08</td>\n      <td>10.28</td>\n      <td>11.51</td>\n    </tr>\n    <tr>\n      <th>C</th>\n      <td>795</td>\n      <td>492</td>\n      <td>384</td>\n      <td>523</td>\n      <td>9.23</td>\n      <td>9.58</td>\n      <td>10.03</td>\n      <td>13.96</td>\n      <td>10.70</td>\n    </tr>\n    <tr>\n      <th>Excel</th>\n      <td>701</td>\n      <td>569</td>\n      <td>438</td>\n      <td>397</td>\n      <td>8.14</td>\n      <td>11.07</td>\n      <td>11.44</td>\n      <td>10.60</td>\n      <td>10.31</td>\n    </tr>\n    <tr>\n      <th>NoSQL</th>\n      <td>598</td>\n      <td>436</td>\n      <td>387</td>\n      <td>362</td>\n      <td>6.95</td>\n      <td>8.49</td>\n      <td>10.11</td>\n      <td>9.66</td>\n      <td>8.80</td>\n    </tr>\n    <tr>\n      <th>Linux</th>\n      <td>601</td>\n      <td>517</td>\n      <td>364</td>\n      <td>303</td>\n      <td>6.98</td>\n      <td>10.06</td>\n      <td>9.51</td>\n      <td>8.09</td>\n      <td>8.66</td>\n    </tr>\n    <tr>\n      <th>Azure</th>\n      <td>578</td>\n      <td>416</td>\n      <td>285</td>\n      <td>272</td>\n      <td>6.71</td>\n      <td>8.10</td>\n      <td>7.44</td>\n      <td>7.26</td>\n      <td>7.38</td>\n    </tr>\n    <tr>\n      <th>Scikit-learn</th>\n      <td>474</td>\n      <td>402</td>\n      <td>294</td>\n      <td>212</td>\n      <td>5.51</td>\n      <td>7.82</td>\n      <td>7.68</td>\n      <td>5.66</td>\n      <td>6.67</td>\n    </tr>\n    <tr>\n      <th>SPSS</th>\n      <td>452</td>\n      <td>330</td>\n      <td>273</td>\n      <td>202</td>\n      <td>5.25</td>\n      <td>6.42</td>\n      <td>7.13</td>\n      <td>5.39</td>\n      <td>6.05</td>\n    </tr>\n    <tr>\n      <th>Pandas</th>\n      <td>421</td>\n      <td>330</td>\n      <td>282</td>\n      <td>175</td>\n      <td>4.89</td>\n      <td>6.42</td>\n      <td>7.36</td>\n      <td>4.67</td>\n      <td>5.84</td>\n    </tr>\n    <tr>\n      <th>Pig</th>\n      <td>367</td>\n      <td>296</td>\n      <td>231</td>\n      <td>256</td>\n      <td>4.26</td>\n      <td>5.76</td>\n      <td>6.03</td>\n      <td>6.83</td>\n      <td>5.72</td>\n    </tr>\n    <tr>\n      <th>Javascript</th>\n      <td>328</td>\n      <td>245</td>\n      <td>214</td>\n      <td>224</td>\n      <td>3.81</td>\n      <td>4.77</td>\n      <td>5.59</td>\n      <td>5.98</td>\n      <td>5.04</td>\n    </tr>\n    <tr>\n      <th>Numpy</th>\n      <td>387</td>\n      <td>257</td>\n      <td>232</td>\n      <td>152</td>\n      <td>4.49</td>\n      <td>5.00</td>\n      <td>6.06</td>\n      <td>4.06</td>\n      <td>4.90</td>\n    </tr>\n    <tr>\n      <th>Perl</th>\n      <td>309</td>\n      <td>258</td>\n      <td>202</td>\n      <td>198</td>\n      <td>3.59</td>\n      <td>5.02</td>\n      <td>5.28</td>\n      <td>5.29</td>\n      <td>4.79</td>\n    </tr>\n    <tr>\n      <th>C#</th>\n      <td>324</td>\n      <td>245</td>\n      <td>182</td>\n      <td>219</td>\n      <td>3.76</td>\n      <td>4.77</td>\n      <td>4.75</td>\n      <td>5.85</td>\n      <td>4.78</td>\n    </tr>\n    <tr>\n      <th>Keras</th>\n      <td>329</td>\n      <td>253</td>\n      <td>205</td>\n      <td>131</td>\n      <td>3.82</td>\n      <td>4.92</td>\n      <td>5.35</td>\n      <td>3.50</td>\n      <td>4.40</td>\n    </tr>\n    <tr>\n      <th>Git</th>\n      <td>282</td>\n      <td>261</td>\n      <td>186</td>\n      <td>145</td>\n      <td>3.28</td>\n      <td>5.08</td>\n      <td>4.86</td>\n      <td>3.87</td>\n      <td>4.27</td>\n    </tr>\n    <tr>\n      <th>Docker</th>\n      <td>290</td>\n      <td>240</td>\n      <td>148</td>\n      <td>194</td>\n      <td>3.37</td>\n      <td>4.67</td>\n      <td>3.87</td>\n      <td>5.18</td>\n      <td>4.27</td>\n    </tr>\n    <tr>\n      <th>MySQL</th>\n      <td>278</td>\n      <td>233</td>\n      <td>187</td>\n      <td>121</td>\n      <td>3.23</td>\n      <td>4.53</td>\n      <td>4.88</td>\n      <td>3.23</td>\n      <td>3.97</td>\n    </tr>\n    <tr>\n      <th>Hbase</th>\n      <td>302</td>\n      <td>219</td>\n      <td>167</td>\n      <td>138</td>\n      <td>3.51</td>\n      <td>4.26</td>\n      <td>4.36</td>\n      <td>3.68</td>\n      <td>3.95</td>\n    </tr>\n    <tr>\n      <th>MongoDB</th>\n      <td>251</td>\n      <td>196</td>\n      <td>165</td>\n      <td>116</td>\n      <td>2.92</td>\n      <td>3.81</td>\n      <td>4.31</td>\n      <td>3.10</td>\n      <td>3.53</td>\n    </tr>\n    <tr>\n      <th>Cassandra</th>\n      <td>236</td>\n      <td>174</td>\n      <td>146</td>\n      <td>136</td>\n      <td>2.74</td>\n      <td>3.39</td>\n      <td>3.81</td>\n      <td>3.63</td>\n      <td>3.39</td>\n    </tr>\n    <tr>\n      <th>D3</th>\n      <td>353</td>\n      <td>149</td>\n      <td>113</td>\n      <td>95</td>\n      <td>4.10</td>\n      <td>2.90</td>\n      <td>2.95</td>\n      <td>2.54</td>\n      <td>3.12</td>\n    </tr>\n    <tr>\n      <th>PyTorch</th>\n      <td>214</td>\n      <td>143</td>\n      <td>131</td>\n      <td>98</td>\n      <td>2.49</td>\n      <td>2.78</td>\n      <td>3.42</td>\n      <td>2.62</td>\n      <td>2.83</td>\n    </tr>\n    <tr>\n      <th>Caffe</th>\n      <td>206</td>\n      <td>149</td>\n      <td>113</td>\n      <td>96</td>\n      <td>2.39</td>\n      <td>2.90</td>\n      <td>2.95</td>\n      <td>2.56</td>\n      <td>2.70</td>\n    </tr>\n  </tbody>\n</table>\n</div>"
          },
          "metadata": {}
        }
      ]
    },
    {
      "metadata": {
        "_uuid": "94a22b1bbc8333b52a1d5a9352c85d2544ffa2db"
      },
      "cell_type": "markdown",
      "source": "## Let's chart the full list and then the top 20."
    },
    {
      "metadata": {
        "trusted": true,
        "_uuid": "a0f1e2c32d35abb459dc329e4ccfa06f55dff0b4"
      },
      "cell_type": "code",
      "source": "cmax=200\ncmin=50\ncolor_s = np.linspace(cmin, cmax, 44)\n\ndata = [\n    go.Bar(\n        x=df.index,          \n        y=df['avg_percent'],\n        marker=dict(\n            colorscale='Jet',\n            color=color_s,\n        ),\n    )\n]\n\nlayout = dict(\n    title=\"Technology Skills in Data Scientist Job Listings\",\n    yaxis=dict(title=\"% of Listings\",)\n)\n\nfig = go.Figure(data=data, layout=layout)\npy.iplot(fig)",
      "execution_count": 20,
      "outputs": [
        {
          "output_type": "display_data",
          "data": {
            "application/vnd.plotly.v1+json": {
              "data": [
                {
                  "marker": {
                    "color": [
                      50,
                      53.48837209302326,
                      56.97674418604651,
                      60.46511627906977,
                      63.95348837209302,
                      67.44186046511628,
                      70.93023255813954,
                      74.4186046511628,
                      77.90697674418604,
                      81.3953488372093,
                      84.88372093023256,
                      88.37209302325581,
                      91.86046511627907,
                      95.34883720930233,
                      98.83720930232559,
                      102.32558139534883,
                      105.81395348837209,
                      109.30232558139535,
                      112.7906976744186,
                      116.27906976744185,
                      119.76744186046511,
                      123.25581395348837,
                      126.74418604651163,
                      130.2325581395349,
                      133.72093023255815,
                      137.2093023255814,
                      140.69767441860466,
                      144.18604651162792,
                      147.67441860465118,
                      151.16279069767444,
                      154.65116279069767,
                      158.13953488372093,
                      161.62790697674419,
                      165.11627906976744,
                      168.6046511627907,
                      172.09302325581393,
                      175.5813953488372,
                      179.06976744186048,
                      182.5581395348837,
                      186.04651162790697,
                      189.53488372093022,
                      193.02325581395348,
                      196.51162790697674,
                      200
                    ],
                    "colorscale": "Jet"
                  },
                  "x": [
                    "Python",
                    "R",
                    "SQL",
                    "Hadoop",
                    "Spark",
                    "Java",
                    "SAS",
                    "Tableau",
                    "Hive",
                    "Scala",
                    "AWS",
                    "C++",
                    "Matlab",
                    "TensorFlow",
                    "C",
                    "Excel",
                    "NoSQL",
                    "Linux",
                    "Azure",
                    "Scikit-learn",
                    "SPSS",
                    "Pandas",
                    "Pig",
                    "Javascript",
                    "Numpy",
                    "Perl",
                    "C# ",
                    "Keras",
                    "Git",
                    "Docker",
                    "MySQL",
                    "Hbase",
                    "MongoDB",
                    "Cassandra",
                    "D3",
                    "PyTorch",
                    "Caffe"
                  ],
                  "y": [
                    72.84062774983944,
                    59.74066356860682,
                    49.76045221601272,
                    29.50603503240029,
                    28.551663147845378,
                    25.946148043489202,
                    22.96003994630325,
                    18.512882961805772,
                    15.760714649447463,
                    13.93152158620658,
                    13.678317014108591,
                    13.412233653860715,
                    11.982542557623427,
                    11.507367214042295,
                    10.699861748553026,
                    10.31325822190457,
                    8.800480807881707,
                    8.659390741813302,
                    7.378483757969514,
                    6.666724375253448,
                    6.048664925912652,
                    5.837223185363874,
                    5.722586240706288,
                    5.036638621315149,
                    4.9033511377591825,
                    4.7928565388524795,
                    4.782723456613024,
                    4.399043755403818,
                    4.270879903150111,
                    4.270837798300166,
                    3.9693839902446006,
                    3.9538224642014956,
                    3.5339460730820305,
                    3.392768952903616,
                    3.121761388667709,
                    2.826512198944855,
                    2.7016059057460886
                  ],
                  "type": "bar",
                  "uid": "057e4846-d088-11e8-a165-11ced18b9a9b"
                }
              ],
              "layout": {
                "title": "Technology Skills in Data Scientist Job Listings",
                "yaxis": {
                  "title": "% of Listings"
                }
              }
            },
            "text/html": "<div id=\"46129749-a32d-4a45-9433-92d98c2addc4\" style=\"height: 525px; width: 100%;\" class=\"plotly-graph-div\"></div><script type=\"text/javascript\">require([\"plotly\"], function(Plotly) { window.PLOTLYENV=window.PLOTLYENV || {};window.PLOTLYENV.BASE_URL=\"https://plot.ly\";Plotly.newPlot(\"46129749-a32d-4a45-9433-92d98c2addc4\", [{\"marker\": {\"color\": [50.0, 53.48837209302326, 56.97674418604651, 60.46511627906977, 63.95348837209302, 67.44186046511628, 70.93023255813954, 74.4186046511628, 77.90697674418604, 81.3953488372093, 84.88372093023256, 88.37209302325581, 91.86046511627907, 95.34883720930233, 98.83720930232559, 102.32558139534883, 105.81395348837209, 109.30232558139535, 112.7906976744186, 116.27906976744185, 119.76744186046511, 123.25581395348837, 126.74418604651163, 130.2325581395349, 133.72093023255815, 137.2093023255814, 140.69767441860466, 144.18604651162792, 147.67441860465118, 151.16279069767444, 154.65116279069767, 158.13953488372093, 161.62790697674419, 165.11627906976744, 168.6046511627907, 172.09302325581393, 175.5813953488372, 179.06976744186048, 182.5581395348837, 186.04651162790697, 189.53488372093022, 193.02325581395348, 196.51162790697674, 200.0], \"colorscale\": \"Jet\"}, \"x\": [\"Python\", \"R\", \"SQL\", \"Hadoop\", \"Spark\", \"Java\", \"SAS\", \"Tableau\", \"Hive\", \"Scala\", \"AWS\", \"C++\", \"Matlab\", \"TensorFlow\", \"C\", \"Excel\", \"NoSQL\", \"Linux\", \"Azure\", \"Scikit-learn\", \"SPSS\", \"Pandas\", \"Pig\", \"Javascript\", \"Numpy\", \"Perl\", \"C# \", \"Keras\", \"Git\", \"Docker\", \"MySQL\", \"Hbase\", \"MongoDB\", \"Cassandra\", \"D3\", \"PyTorch\", \"Caffe\"], \"y\": [72.84062774983944, 59.74066356860682, 49.76045221601272, 29.50603503240029, 28.551663147845378, 25.946148043489202, 22.96003994630325, 18.512882961805772, 15.760714649447463, 13.93152158620658, 13.678317014108591, 13.412233653860715, 11.982542557623427, 11.507367214042295, 10.699861748553026, 10.31325822190457, 8.800480807881707, 8.659390741813302, 7.378483757969514, 6.666724375253448, 6.048664925912652, 5.837223185363874, 5.722586240706288, 5.036638621315149, 4.9033511377591825, 4.7928565388524795, 4.782723456613024, 4.399043755403818, 4.270879903150111, 4.270837798300166, 3.9693839902446006, 3.9538224642014956, 3.5339460730820305, 3.392768952903616, 3.121761388667709, 2.826512198944855, 2.7016059057460886], \"type\": \"bar\", \"uid\": \"057e4846-d088-11e8-a165-11ced18b9a9b\"}], {\"title\": \"Technology Skills in Data Scientist Job Listings\", \"yaxis\": {\"title\": \"% of Listings\"}}, {\"showLink\": true, \"linkText\": \"Export to plot.ly\"})});</script>",
            "text/vnd.plotly.v1+html": "<div id=\"46129749-a32d-4a45-9433-92d98c2addc4\" style=\"height: 525px; width: 100%;\" class=\"plotly-graph-div\"></div><script type=\"text/javascript\">require([\"plotly\"], function(Plotly) { window.PLOTLYENV=window.PLOTLYENV || {};window.PLOTLYENV.BASE_URL=\"https://plot.ly\";Plotly.newPlot(\"46129749-a32d-4a45-9433-92d98c2addc4\", [{\"marker\": {\"color\": [50.0, 53.48837209302326, 56.97674418604651, 60.46511627906977, 63.95348837209302, 67.44186046511628, 70.93023255813954, 74.4186046511628, 77.90697674418604, 81.3953488372093, 84.88372093023256, 88.37209302325581, 91.86046511627907, 95.34883720930233, 98.83720930232559, 102.32558139534883, 105.81395348837209, 109.30232558139535, 112.7906976744186, 116.27906976744185, 119.76744186046511, 123.25581395348837, 126.74418604651163, 130.2325581395349, 133.72093023255815, 137.2093023255814, 140.69767441860466, 144.18604651162792, 147.67441860465118, 151.16279069767444, 154.65116279069767, 158.13953488372093, 161.62790697674419, 165.11627906976744, 168.6046511627907, 172.09302325581393, 175.5813953488372, 179.06976744186048, 182.5581395348837, 186.04651162790697, 189.53488372093022, 193.02325581395348, 196.51162790697674, 200.0], \"colorscale\": \"Jet\"}, \"x\": [\"Python\", \"R\", \"SQL\", \"Hadoop\", \"Spark\", \"Java\", \"SAS\", \"Tableau\", \"Hive\", \"Scala\", \"AWS\", \"C++\", \"Matlab\", \"TensorFlow\", \"C\", \"Excel\", \"NoSQL\", \"Linux\", \"Azure\", \"Scikit-learn\", \"SPSS\", \"Pandas\", \"Pig\", \"Javascript\", \"Numpy\", \"Perl\", \"C# \", \"Keras\", \"Git\", \"Docker\", \"MySQL\", \"Hbase\", \"MongoDB\", \"Cassandra\", \"D3\", \"PyTorch\", \"Caffe\"], \"y\": [72.84062774983944, 59.74066356860682, 49.76045221601272, 29.50603503240029, 28.551663147845378, 25.946148043489202, 22.96003994630325, 18.512882961805772, 15.760714649447463, 13.93152158620658, 13.678317014108591, 13.412233653860715, 11.982542557623427, 11.507367214042295, 10.699861748553026, 10.31325822190457, 8.800480807881707, 8.659390741813302, 7.378483757969514, 6.666724375253448, 6.048664925912652, 5.837223185363874, 5.722586240706288, 5.036638621315149, 4.9033511377591825, 4.7928565388524795, 4.782723456613024, 4.399043755403818, 4.270879903150111, 4.270837798300166, 3.9693839902446006, 3.9538224642014956, 3.5339460730820305, 3.392768952903616, 3.121761388667709, 2.826512198944855, 2.7016059057460886], \"type\": \"bar\", \"uid\": \"057e4846-d088-11e8-a165-11ced18b9a9b\"}], {\"title\": \"Technology Skills in Data Scientist Job Listings\", \"yaxis\": {\"title\": \"% of Listings\"}}, {\"showLink\": true, \"linkText\": \"Export to plot.ly\"})});</script>"
          },
          "metadata": {}
        }
      ]
    },
    {
      "metadata": {
        "trusted": true,
        "_uuid": "43bf999f1738adf9b48bc6dda76c04f05416d8fd"
      },
      "cell_type": "code",
      "source": "cmax=200\ncmin=50\ncolor_s = np.linspace(cmin, cmax, 20)\n\ndata = [\n    go.Bar(\n        x=df.index,          \n        y=df.iloc[:20, -1],\n        marker=dict(\n            colorscale='Jet',\n            color=color_s,\n        ),\n    )\n]\n\nlayout = dict(\n    title=\"Top 20 Technology Skills in Data Scientist Job Listings\",\n    yaxis=dict(title=\"% of Listings\",)\n)\n\nfig = go.Figure(data=data, layout=layout)\npy.iplot(fig)",
      "execution_count": 21,
      "outputs": [
        {
          "output_type": "display_data",
          "data": {
            "application/vnd.plotly.v1+json": {
              "data": [
                {
                  "marker": {
                    "color": [
                      50,
                      57.89473684210526,
                      65.78947368421052,
                      73.68421052631578,
                      81.57894736842105,
                      89.47368421052632,
                      97.36842105263158,
                      105.26315789473685,
                      113.15789473684211,
                      121.05263157894737,
                      128.94736842105263,
                      136.8421052631579,
                      144.73684210526315,
                      152.6315789473684,
                      160.5263157894737,
                      168.42105263157896,
                      176.31578947368422,
                      184.21052631578948,
                      192.10526315789474,
                      200
                    ],
                    "colorscale": "Jet"
                  },
                  "x": [
                    "Python",
                    "R",
                    "SQL",
                    "Hadoop",
                    "Spark",
                    "Java",
                    "SAS",
                    "Tableau",
                    "Hive",
                    "Scala",
                    "AWS",
                    "C++",
                    "Matlab",
                    "TensorFlow",
                    "C",
                    "Excel",
                    "NoSQL",
                    "Linux",
                    "Azure",
                    "Scikit-learn",
                    "SPSS",
                    "Pandas",
                    "Pig",
                    "Javascript",
                    "Numpy",
                    "Perl",
                    "C# ",
                    "Keras",
                    "Git",
                    "Docker",
                    "MySQL",
                    "Hbase",
                    "MongoDB",
                    "Cassandra",
                    "D3",
                    "PyTorch",
                    "Caffe"
                  ],
                  "y": [
                    72.84062774983944,
                    59.74066356860682,
                    49.76045221601272,
                    29.50603503240029,
                    28.551663147845378,
                    25.946148043489202,
                    22.96003994630325,
                    18.512882961805772,
                    15.760714649447463,
                    13.93152158620658,
                    13.678317014108591,
                    13.412233653860715,
                    11.982542557623427,
                    11.507367214042295,
                    10.699861748553026,
                    10.31325822190457,
                    8.800480807881707,
                    8.659390741813302,
                    7.378483757969514,
                    6.666724375253448
                  ],
                  "type": "bar",
                  "uid": "058a17d4-d088-11e8-a165-11ced18b9a9b"
                }
              ],
              "layout": {
                "title": "Top 20 Technology Skills in Data Scientist Job Listings",
                "yaxis": {
                  "title": "% of Listings"
                }
              }
            },
            "text/html": "<div id=\"141e79db-e8fd-4db5-b11f-74c91313c36d\" style=\"height: 525px; width: 100%;\" class=\"plotly-graph-div\"></div><script type=\"text/javascript\">require([\"plotly\"], function(Plotly) { window.PLOTLYENV=window.PLOTLYENV || {};window.PLOTLYENV.BASE_URL=\"https://plot.ly\";Plotly.newPlot(\"141e79db-e8fd-4db5-b11f-74c91313c36d\", [{\"marker\": {\"color\": [50.0, 57.89473684210526, 65.78947368421052, 73.68421052631578, 81.57894736842105, 89.47368421052632, 97.36842105263158, 105.26315789473685, 113.15789473684211, 121.05263157894737, 128.94736842105263, 136.8421052631579, 144.73684210526315, 152.6315789473684, 160.5263157894737, 168.42105263157896, 176.31578947368422, 184.21052631578948, 192.10526315789474, 200.0], \"colorscale\": \"Jet\"}, \"x\": [\"Python\", \"R\", \"SQL\", \"Hadoop\", \"Spark\", \"Java\", \"SAS\", \"Tableau\", \"Hive\", \"Scala\", \"AWS\", \"C++\", \"Matlab\", \"TensorFlow\", \"C\", \"Excel\", \"NoSQL\", \"Linux\", \"Azure\", \"Scikit-learn\", \"SPSS\", \"Pandas\", \"Pig\", \"Javascript\", \"Numpy\", \"Perl\", \"C# \", \"Keras\", \"Git\", \"Docker\", \"MySQL\", \"Hbase\", \"MongoDB\", \"Cassandra\", \"D3\", \"PyTorch\", \"Caffe\"], \"y\": [72.84062774983944, 59.74066356860682, 49.76045221601272, 29.50603503240029, 28.551663147845378, 25.946148043489202, 22.96003994630325, 18.512882961805772, 15.760714649447463, 13.93152158620658, 13.678317014108591, 13.412233653860715, 11.982542557623427, 11.507367214042295, 10.699861748553026, 10.31325822190457, 8.800480807881707, 8.659390741813302, 7.378483757969514, 6.666724375253448], \"type\": \"bar\", \"uid\": \"058a17d4-d088-11e8-a165-11ced18b9a9b\"}], {\"title\": \"Top 20 Technology Skills in Data Scientist Job Listings\", \"yaxis\": {\"title\": \"% of Listings\"}}, {\"showLink\": true, \"linkText\": \"Export to plot.ly\"})});</script>",
            "text/vnd.plotly.v1+html": "<div id=\"141e79db-e8fd-4db5-b11f-74c91313c36d\" style=\"height: 525px; width: 100%;\" class=\"plotly-graph-div\"></div><script type=\"text/javascript\">require([\"plotly\"], function(Plotly) { window.PLOTLYENV=window.PLOTLYENV || {};window.PLOTLYENV.BASE_URL=\"https://plot.ly\";Plotly.newPlot(\"141e79db-e8fd-4db5-b11f-74c91313c36d\", [{\"marker\": {\"color\": [50.0, 57.89473684210526, 65.78947368421052, 73.68421052631578, 81.57894736842105, 89.47368421052632, 97.36842105263158, 105.26315789473685, 113.15789473684211, 121.05263157894737, 128.94736842105263, 136.8421052631579, 144.73684210526315, 152.6315789473684, 160.5263157894737, 168.42105263157896, 176.31578947368422, 184.21052631578948, 192.10526315789474, 200.0], \"colorscale\": \"Jet\"}, \"x\": [\"Python\", \"R\", \"SQL\", \"Hadoop\", \"Spark\", \"Java\", \"SAS\", \"Tableau\", \"Hive\", \"Scala\", \"AWS\", \"C++\", \"Matlab\", \"TensorFlow\", \"C\", \"Excel\", \"NoSQL\", \"Linux\", \"Azure\", \"Scikit-learn\", \"SPSS\", \"Pandas\", \"Pig\", \"Javascript\", \"Numpy\", \"Perl\", \"C# \", \"Keras\", \"Git\", \"Docker\", \"MySQL\", \"Hbase\", \"MongoDB\", \"Cassandra\", \"D3\", \"PyTorch\", \"Caffe\"], \"y\": [72.84062774983944, 59.74066356860682, 49.76045221601272, 29.50603503240029, 28.551663147845378, 25.946148043489202, 22.96003994630325, 18.512882961805772, 15.760714649447463, 13.93152158620658, 13.678317014108591, 13.412233653860715, 11.982542557623427, 11.507367214042295, 10.699861748553026, 10.31325822190457, 8.800480807881707, 8.659390741813302, 7.378483757969514, 6.666724375253448], \"type\": \"bar\", \"uid\": \"058a17d4-d088-11e8-a165-11ced18b9a9b\"}], {\"title\": \"Top 20 Technology Skills in Data Scientist Job Listings\", \"yaxis\": {\"title\": \"% of Listings\"}}, {\"showLink\": true, \"linkText\": \"Export to plot.ly\"})});</script>"
          },
          "metadata": {}
        }
      ]
    },
    {
      "metadata": {
        "_uuid": "df79bea92687b463588bd76422108986c517aae2"
      },
      "cell_type": "markdown",
      "source": "## Glassdoor comparision"
    },
    {
      "metadata": {
        "_uuid": "68bf4a851d14aa7d65f6f4db9b6ef9324db756c5"
      },
      "cell_type": "markdown",
      "source": "Glassdoor has some similar analysis from early 2017 [here](https://www.glassdoor.com/research/data-scientist-personas/). See [my larger Medium article](https://towardsdatascience.com/the-most-in-demand-skills-for-data-scientists-4a4a8db896db) for discussion."
    },
    {
      "metadata": {
        "trusted": true,
        "_uuid": "af9fdc1a9cce78f6137e292413b44902c4b3f5f4"
      },
      "cell_type": "code",
      "source": "# percentage of data scientist jobs on glassdoor early 2017\nglassdoor = {\n    'Python': 72,\n    'R': 64,\n    'SQL': 51,\n    'Spark': 27,\n    'Hadoop': 39,\n    'Java': 33,\n    'SAS': 30,\n    'Tableau': 14,\n    'Hive': 17,\n    'Matlab': 20\n}",
      "execution_count": 22,
      "outputs": []
    },
    {
      "metadata": {
        "trusted": true,
        "_uuid": "2be9df27f55d867eb2b5669d7f6b98ceee93a2b2"
      },
      "cell_type": "code",
      "source": "# make a data frame of just these\n# could just merge the series and df \n\nseries_gd = pd.Series(glassdoor)\nseries_gd",
      "execution_count": 23,
      "outputs": [
        {
          "output_type": "execute_result",
          "execution_count": 23,
          "data": {
            "text/plain": "Python     72\nR          64\nSQL        51\nSpark      27\nHadoop     39\nJava       33\nSAS        30\nTableau    14\nHive       17\nMatlab     20\ndtype: int64"
          },
          "metadata": {}
        }
      ]
    },
    {
      "metadata": {
        "trusted": true,
        "_uuid": "2e01946a50d7fc759805a15856f4c6881cf0c527"
      },
      "cell_type": "code",
      "source": "df_gd = pd.merge(\n    df, \n    pd.DataFrame(\n        series_gd, \n        columns=['gd_percent']), \n    right_index=True, \n    left_index=True, \n    how=\"inner\"\n)\n\n# df_gd = df_gd[\"\"]\n# df_gd.columns = \ndf_gd",
      "execution_count": 24,
      "outputs": [
        {
          "output_type": "execute_result",
          "execution_count": 24,
          "data": {
            "text/plain": "         LinkedIn  Indeed  SimplyHired  Monster  LinkedIn %  Indeed %  \\\nPython       6347    3818         2888     2544       73.72     74.31   \nR            4553    3106         2393     2365       52.88     60.45   \nSQL          3879    2628         2056     1841       45.05     51.15   \nHadoop       2142    1578         1164     1200       24.88     30.71   \nSpark        2169    1551         1167     1062       25.19     30.19   \nJava         1944    1377         1059     1002       22.58     26.80   \nSAS          1713    1134          910      978       19.90     22.07   \nTableau      1216    1012          780      744       14.12     19.70   \nHive         1182     830          637      619       13.73     16.15   \nMatlab        806     677          544      419        9.36     13.18   \n\n         SimplyHired %  Monster %  avg_percent  gd_percent  \nPython           75.42      67.91        72.84          72  \nR                62.50      63.13        59.74          64  \nSQL              53.70      49.15        49.76          51  \nHadoop           30.40      32.03        29.51          39  \nSpark            30.48      28.35        28.55          27  \nJava             27.66      26.75        25.95          33  \nSAS              23.77      26.11        22.96          30  \nTableau          20.37      19.86        18.51          14  \nHive             16.64      16.52        15.76          17  \nMatlab           14.21      11.19        11.98          20  ",
            "text/html": "<div>\n<style scoped>\n    .dataframe tbody tr th:only-of-type {\n        vertical-align: middle;\n    }\n\n    .dataframe tbody tr th {\n        vertical-align: top;\n    }\n\n    .dataframe thead th {\n        text-align: right;\n    }\n</style>\n<table border=\"1\" class=\"dataframe\">\n  <thead>\n    <tr style=\"text-align: right;\">\n      <th></th>\n      <th>LinkedIn</th>\n      <th>Indeed</th>\n      <th>SimplyHired</th>\n      <th>Monster</th>\n      <th>LinkedIn %</th>\n      <th>Indeed %</th>\n      <th>SimplyHired %</th>\n      <th>Monster %</th>\n      <th>avg_percent</th>\n      <th>gd_percent</th>\n    </tr>\n  </thead>\n  <tbody>\n    <tr>\n      <th>Python</th>\n      <td>6347</td>\n      <td>3818</td>\n      <td>2888</td>\n      <td>2544</td>\n      <td>73.72</td>\n      <td>74.31</td>\n      <td>75.42</td>\n      <td>67.91</td>\n      <td>72.84</td>\n      <td>72</td>\n    </tr>\n    <tr>\n      <th>R</th>\n      <td>4553</td>\n      <td>3106</td>\n      <td>2393</td>\n      <td>2365</td>\n      <td>52.88</td>\n      <td>60.45</td>\n      <td>62.50</td>\n      <td>63.13</td>\n      <td>59.74</td>\n      <td>64</td>\n    </tr>\n    <tr>\n      <th>SQL</th>\n      <td>3879</td>\n      <td>2628</td>\n      <td>2056</td>\n      <td>1841</td>\n      <td>45.05</td>\n      <td>51.15</td>\n      <td>53.70</td>\n      <td>49.15</td>\n      <td>49.76</td>\n      <td>51</td>\n    </tr>\n    <tr>\n      <th>Hadoop</th>\n      <td>2142</td>\n      <td>1578</td>\n      <td>1164</td>\n      <td>1200</td>\n      <td>24.88</td>\n      <td>30.71</td>\n      <td>30.40</td>\n      <td>32.03</td>\n      <td>29.51</td>\n      <td>39</td>\n    </tr>\n    <tr>\n      <th>Spark</th>\n      <td>2169</td>\n      <td>1551</td>\n      <td>1167</td>\n      <td>1062</td>\n      <td>25.19</td>\n      <td>30.19</td>\n      <td>30.48</td>\n      <td>28.35</td>\n      <td>28.55</td>\n      <td>27</td>\n    </tr>\n    <tr>\n      <th>Java</th>\n      <td>1944</td>\n      <td>1377</td>\n      <td>1059</td>\n      <td>1002</td>\n      <td>22.58</td>\n      <td>26.80</td>\n      <td>27.66</td>\n      <td>26.75</td>\n      <td>25.95</td>\n      <td>33</td>\n    </tr>\n    <tr>\n      <th>SAS</th>\n      <td>1713</td>\n      <td>1134</td>\n      <td>910</td>\n      <td>978</td>\n      <td>19.90</td>\n      <td>22.07</td>\n      <td>23.77</td>\n      <td>26.11</td>\n      <td>22.96</td>\n      <td>30</td>\n    </tr>\n    <tr>\n      <th>Tableau</th>\n      <td>1216</td>\n      <td>1012</td>\n      <td>780</td>\n      <td>744</td>\n      <td>14.12</td>\n      <td>19.70</td>\n      <td>20.37</td>\n      <td>19.86</td>\n      <td>18.51</td>\n      <td>14</td>\n    </tr>\n    <tr>\n      <th>Hive</th>\n      <td>1182</td>\n      <td>830</td>\n      <td>637</td>\n      <td>619</td>\n      <td>13.73</td>\n      <td>16.15</td>\n      <td>16.64</td>\n      <td>16.52</td>\n      <td>15.76</td>\n      <td>17</td>\n    </tr>\n    <tr>\n      <th>Matlab</th>\n      <td>806</td>\n      <td>677</td>\n      <td>544</td>\n      <td>419</td>\n      <td>9.36</td>\n      <td>13.18</td>\n      <td>14.21</td>\n      <td>11.19</td>\n      <td>11.98</td>\n      <td>20</td>\n    </tr>\n  </tbody>\n</table>\n</div>"
          },
          "metadata": {}
        }
      ]
    },
    {
      "metadata": {
        "trusted": true,
        "_uuid": "84e56502eaaea4dd6d62cba8df0320475156ca37"
      },
      "cell_type": "code",
      "source": "avg = go.Bar(x=df_gd.index, y=df_gd['avg_percent'], name=\"Oct. 2018 Averaged\")\ngd = go.Bar(x=df_gd.index, y=df_gd['gd_percent'], name=\"Early 2017 Glassdoor\")\n\n\ndata = [gd, avg]\n\nlayout = go.Layout(\n    barmode='group',\n    title=\"Technology Skills 2017 Glassdoor Compared to 2018 Average\",\n    xaxis={'title': 'Technology'},\n    yaxis={'title': '% of Listings'},\n)\n\nfig = go.Figure(data=data, layout=layout)\npy.iplot(fig)",
      "execution_count": 25,
      "outputs": [
        {
          "output_type": "display_data",
          "data": {
            "application/vnd.plotly.v1+json": {
              "data": [
                {
                  "name": "Early 2017 Glassdoor",
                  "x": [
                    "Python",
                    "R",
                    "SQL",
                    "Hadoop",
                    "Spark",
                    "Java",
                    "SAS",
                    "Tableau",
                    "Hive",
                    "Matlab"
                  ],
                  "y": [
                    72,
                    64,
                    51,
                    39,
                    27,
                    33,
                    30,
                    14,
                    17,
                    20
                  ],
                  "type": "bar",
                  "uid": "05b24bbe-d088-11e8-a165-11ced18b9a9b"
                },
                {
                  "name": "Oct. 2018 Averaged",
                  "x": [
                    "Python",
                    "R",
                    "SQL",
                    "Hadoop",
                    "Spark",
                    "Java",
                    "SAS",
                    "Tableau",
                    "Hive",
                    "Matlab"
                  ],
                  "y": [
                    72.84062774983944,
                    59.74066356860682,
                    49.76045221601272,
                    29.50603503240029,
                    28.551663147845378,
                    25.946148043489202,
                    22.96003994630325,
                    18.512882961805772,
                    15.760714649447463,
                    11.982542557623427
                  ],
                  "type": "bar",
                  "uid": "05b24ed4-d088-11e8-a165-11ced18b9a9b"
                }
              ],
              "layout": {
                "barmode": "group",
                "title": "Technology Skills 2017 Glassdoor Compared to 2018 Average",
                "xaxis": {
                  "title": "Technology"
                },
                "yaxis": {
                  "title": "% of Listings"
                }
              }
            },
            "text/html": "<div id=\"e66508dc-fc46-4742-8130-59914ad89f59\" style=\"height: 525px; width: 100%;\" class=\"plotly-graph-div\"></div><script type=\"text/javascript\">require([\"plotly\"], function(Plotly) { window.PLOTLYENV=window.PLOTLYENV || {};window.PLOTLYENV.BASE_URL=\"https://plot.ly\";Plotly.newPlot(\"e66508dc-fc46-4742-8130-59914ad89f59\", [{\"name\": \"Early 2017 Glassdoor\", \"x\": [\"Python\", \"R\", \"SQL\", \"Hadoop\", \"Spark\", \"Java\", \"SAS\", \"Tableau\", \"Hive\", \"Matlab\"], \"y\": [72, 64, 51, 39, 27, 33, 30, 14, 17, 20], \"type\": \"bar\", \"uid\": \"05b24bbe-d088-11e8-a165-11ced18b9a9b\"}, {\"name\": \"Oct. 2018 Averaged\", \"x\": [\"Python\", \"R\", \"SQL\", \"Hadoop\", \"Spark\", \"Java\", \"SAS\", \"Tableau\", \"Hive\", \"Matlab\"], \"y\": [72.84062774983944, 59.74066356860682, 49.76045221601272, 29.50603503240029, 28.551663147845378, 25.946148043489202, 22.96003994630325, 18.512882961805772, 15.760714649447463, 11.982542557623427], \"type\": \"bar\", \"uid\": \"05b24ed4-d088-11e8-a165-11ced18b9a9b\"}], {\"barmode\": \"group\", \"title\": \"Technology Skills 2017 Glassdoor Compared to 2018 Average\", \"xaxis\": {\"title\": \"Technology\"}, \"yaxis\": {\"title\": \"% of Listings\"}}, {\"showLink\": true, \"linkText\": \"Export to plot.ly\"})});</script>",
            "text/vnd.plotly.v1+html": "<div id=\"e66508dc-fc46-4742-8130-59914ad89f59\" style=\"height: 525px; width: 100%;\" class=\"plotly-graph-div\"></div><script type=\"text/javascript\">require([\"plotly\"], function(Plotly) { window.PLOTLYENV=window.PLOTLYENV || {};window.PLOTLYENV.BASE_URL=\"https://plot.ly\";Plotly.newPlot(\"e66508dc-fc46-4742-8130-59914ad89f59\", [{\"name\": \"Early 2017 Glassdoor\", \"x\": [\"Python\", \"R\", \"SQL\", \"Hadoop\", \"Spark\", \"Java\", \"SAS\", \"Tableau\", \"Hive\", \"Matlab\"], \"y\": [72, 64, 51, 39, 27, 33, 30, 14, 17, 20], \"type\": \"bar\", \"uid\": \"05b24bbe-d088-11e8-a165-11ced18b9a9b\"}, {\"name\": \"Oct. 2018 Averaged\", \"x\": [\"Python\", \"R\", \"SQL\", \"Hadoop\", \"Spark\", \"Java\", \"SAS\", \"Tableau\", \"Hive\", \"Matlab\"], \"y\": [72.84062774983944, 59.74066356860682, 49.76045221601272, 29.50603503240029, 28.551663147845378, 25.946148043489202, 22.96003994630325, 18.512882961805772, 15.760714649447463, 11.982542557623427], \"type\": \"bar\", \"uid\": \"05b24ed4-d088-11e8-a165-11ced18b9a9b\"}], {\"barmode\": \"group\", \"title\": \"Technology Skills 2017 Glassdoor Compared to 2018 Average\", \"xaxis\": {\"title\": \"Technology\"}, \"yaxis\": {\"title\": \"% of Listings\"}}, {\"showLink\": true, \"linkText\": \"Export to plot.ly\"})});</script>"
          },
          "metadata": {}
        }
      ]
    },
    {
      "metadata": {
        "_uuid": "8169e7877e6e3a83faf2cbd595230b17359032bf"
      },
      "cell_type": "markdown",
      "source": "# Part 2: General Data Science Skills\nLet's look at general data science skills next."
    },
    {
      "metadata": {
        "trusted": true,
        "_uuid": "dd8463c434c0b1e0afd18bf598e946240a4e94fc"
      },
      "cell_type": "code",
      "source": "df_skills = pd.read_csv(\n    '../input/data-scientist-general-skills-2018-revised/ds_general_skills_revised.csv',\n    nrows=15,\n    thousands=',',\n    index_col=0,  \n    )\ndf_skills\n\n# this dataset was updated with \"data engineering included 10/15/18\"",
      "execution_count": 42,
      "outputs": [
        {
          "output_type": "execute_result",
          "execution_count": 42,
          "data": {
            "text/plain": "                      LinkedIn  Indeed  SimplyHired  Monster\nKeyword                                                     \nmachine learning          5701    3439         2561     2340\nanalysis                  5168    3500         2668     3306\nstatistics                4893    2992         2308     2399\ncomputer science          4517    2739         2093     1900\ncommunication             3404    2344         1791     2053\nmathematics               2605    1961         1497     1815\nvisualization             1879    1413         1153     1207\nAI composite              1568    1125          811      687\ndeep learning             1310     979          675      606\nNLP composite             1212     910          660      582\nsoftware development       732     627          481      784\nneural networks            671     485          421      305\ndata engineering           514     339          276      200\nproject management         476     397          330      348\nsoftware engineering       413     295          250      512",
            "text/html": "<div>\n<style scoped>\n    .dataframe tbody tr th:only-of-type {\n        vertical-align: middle;\n    }\n\n    .dataframe tbody tr th {\n        vertical-align: top;\n    }\n\n    .dataframe thead th {\n        text-align: right;\n    }\n</style>\n<table border=\"1\" class=\"dataframe\">\n  <thead>\n    <tr style=\"text-align: right;\">\n      <th></th>\n      <th>LinkedIn</th>\n      <th>Indeed</th>\n      <th>SimplyHired</th>\n      <th>Monster</th>\n    </tr>\n    <tr>\n      <th>Keyword</th>\n      <th></th>\n      <th></th>\n      <th></th>\n      <th></th>\n    </tr>\n  </thead>\n  <tbody>\n    <tr>\n      <th>machine learning</th>\n      <td>5701</td>\n      <td>3439</td>\n      <td>2561</td>\n      <td>2340</td>\n    </tr>\n    <tr>\n      <th>analysis</th>\n      <td>5168</td>\n      <td>3500</td>\n      <td>2668</td>\n      <td>3306</td>\n    </tr>\n    <tr>\n      <th>statistics</th>\n      <td>4893</td>\n      <td>2992</td>\n      <td>2308</td>\n      <td>2399</td>\n    </tr>\n    <tr>\n      <th>computer science</th>\n      <td>4517</td>\n      <td>2739</td>\n      <td>2093</td>\n      <td>1900</td>\n    </tr>\n    <tr>\n      <th>communication</th>\n      <td>3404</td>\n      <td>2344</td>\n      <td>1791</td>\n      <td>2053</td>\n    </tr>\n    <tr>\n      <th>mathematics</th>\n      <td>2605</td>\n      <td>1961</td>\n      <td>1497</td>\n      <td>1815</td>\n    </tr>\n    <tr>\n      <th>visualization</th>\n      <td>1879</td>\n      <td>1413</td>\n      <td>1153</td>\n      <td>1207</td>\n    </tr>\n    <tr>\n      <th>AI composite</th>\n      <td>1568</td>\n      <td>1125</td>\n      <td>811</td>\n      <td>687</td>\n    </tr>\n    <tr>\n      <th>deep learning</th>\n      <td>1310</td>\n      <td>979</td>\n      <td>675</td>\n      <td>606</td>\n    </tr>\n    <tr>\n      <th>NLP composite</th>\n      <td>1212</td>\n      <td>910</td>\n      <td>660</td>\n      <td>582</td>\n    </tr>\n    <tr>\n      <th>software development</th>\n      <td>732</td>\n      <td>627</td>\n      <td>481</td>\n      <td>784</td>\n    </tr>\n    <tr>\n      <th>neural networks</th>\n      <td>671</td>\n      <td>485</td>\n      <td>421</td>\n      <td>305</td>\n    </tr>\n    <tr>\n      <th>data engineering</th>\n      <td>514</td>\n      <td>339</td>\n      <td>276</td>\n      <td>200</td>\n    </tr>\n    <tr>\n      <th>project management</th>\n      <td>476</td>\n      <td>397</td>\n      <td>330</td>\n      <td>348</td>\n    </tr>\n    <tr>\n      <th>software engineering</th>\n      <td>413</td>\n      <td>295</td>\n      <td>250</td>\n      <td>512</td>\n    </tr>\n  </tbody>\n</table>\n</div>"
          },
          "metadata": {}
        }
      ]
    },
    {
      "metadata": {
        "_uuid": "d705ff6adc28855f7c972bbc5922212ff04f26d5"
      },
      "cell_type": "markdown",
      "source": "All terms were searched with *\"data scientist\"* again. The skills are tricky because there is some overlap. \n\nI combined *AI* and *artificial intelligence* because one is the abbreviation of the other. I did the same for *NLP* and *natural language processing*. I combined these terms be adding the totals together and subtracting the number of listings that had both terms in them."
    },
    {
      "metadata": {
        "_uuid": "baec9fffc03637dc02096e02d46e110c8a87eacd"
      },
      "cell_type": "markdown",
      "source": "Let's rename the composite indices."
    },
    {
      "metadata": {
        "trusted": true,
        "_uuid": "408999de644771e2db79c12d7dc3e1ae1ede4d05"
      },
      "cell_type": "code",
      "source": "df_skills.rename(index={'AI composite': 'AI', 'NLP composite': 'NLP'}, inplace = True)\ndf_skills",
      "execution_count": 43,
      "outputs": [
        {
          "output_type": "execute_result",
          "execution_count": 43,
          "data": {
            "text/plain": "                      LinkedIn  Indeed  SimplyHired  Monster\nKeyword                                                     \nmachine learning          5701    3439         2561     2340\nanalysis                  5168    3500         2668     3306\nstatistics                4893    2992         2308     2399\ncomputer science          4517    2739         2093     1900\ncommunication             3404    2344         1791     2053\nmathematics               2605    1961         1497     1815\nvisualization             1879    1413         1153     1207\nAI                        1568    1125          811      687\ndeep learning             1310     979          675      606\nNLP                       1212     910          660      582\nsoftware development       732     627          481      784\nneural networks            671     485          421      305\ndata engineering           514     339          276      200\nproject management         476     397          330      348\nsoftware engineering       413     295          250      512",
            "text/html": "<div>\n<style scoped>\n    .dataframe tbody tr th:only-of-type {\n        vertical-align: middle;\n    }\n\n    .dataframe tbody tr th {\n        vertical-align: top;\n    }\n\n    .dataframe thead th {\n        text-align: right;\n    }\n</style>\n<table border=\"1\" class=\"dataframe\">\n  <thead>\n    <tr style=\"text-align: right;\">\n      <th></th>\n      <th>LinkedIn</th>\n      <th>Indeed</th>\n      <th>SimplyHired</th>\n      <th>Monster</th>\n    </tr>\n    <tr>\n      <th>Keyword</th>\n      <th></th>\n      <th></th>\n      <th></th>\n      <th></th>\n    </tr>\n  </thead>\n  <tbody>\n    <tr>\n      <th>machine learning</th>\n      <td>5701</td>\n      <td>3439</td>\n      <td>2561</td>\n      <td>2340</td>\n    </tr>\n    <tr>\n      <th>analysis</th>\n      <td>5168</td>\n      <td>3500</td>\n      <td>2668</td>\n      <td>3306</td>\n    </tr>\n    <tr>\n      <th>statistics</th>\n      <td>4893</td>\n      <td>2992</td>\n      <td>2308</td>\n      <td>2399</td>\n    </tr>\n    <tr>\n      <th>computer science</th>\n      <td>4517</td>\n      <td>2739</td>\n      <td>2093</td>\n      <td>1900</td>\n    </tr>\n    <tr>\n      <th>communication</th>\n      <td>3404</td>\n      <td>2344</td>\n      <td>1791</td>\n      <td>2053</td>\n    </tr>\n    <tr>\n      <th>mathematics</th>\n      <td>2605</td>\n      <td>1961</td>\n      <td>1497</td>\n      <td>1815</td>\n    </tr>\n    <tr>\n      <th>visualization</th>\n      <td>1879</td>\n      <td>1413</td>\n      <td>1153</td>\n      <td>1207</td>\n    </tr>\n    <tr>\n      <th>AI</th>\n      <td>1568</td>\n      <td>1125</td>\n      <td>811</td>\n      <td>687</td>\n    </tr>\n    <tr>\n      <th>deep learning</th>\n      <td>1310</td>\n      <td>979</td>\n      <td>675</td>\n      <td>606</td>\n    </tr>\n    <tr>\n      <th>NLP</th>\n      <td>1212</td>\n      <td>910</td>\n      <td>660</td>\n      <td>582</td>\n    </tr>\n    <tr>\n      <th>software development</th>\n      <td>732</td>\n      <td>627</td>\n      <td>481</td>\n      <td>784</td>\n    </tr>\n    <tr>\n      <th>neural networks</th>\n      <td>671</td>\n      <td>485</td>\n      <td>421</td>\n      <td>305</td>\n    </tr>\n    <tr>\n      <th>data engineering</th>\n      <td>514</td>\n      <td>339</td>\n      <td>276</td>\n      <td>200</td>\n    </tr>\n    <tr>\n      <th>project management</th>\n      <td>476</td>\n      <td>397</td>\n      <td>330</td>\n      <td>348</td>\n    </tr>\n    <tr>\n      <th>software engineering</th>\n      <td>413</td>\n      <td>295</td>\n      <td>250</td>\n      <td>512</td>\n    </tr>\n  </tbody>\n</table>\n</div>"
          },
          "metadata": {}
        }
      ]
    },
    {
      "metadata": {
        "_uuid": "d715c99bba5ff486d95189c65b057bec6c547ccf"
      },
      "cell_type": "markdown",
      "source": "# Scale and Aggregate \nScale each column. For each column we'll use MinMaxScaler to subtract the minumum and divide by the original max - original min."
    },
    {
      "metadata": {
        "trusted": true,
        "_uuid": "7e5c933dcce2ec8202207414106017fe17c09962"
      },
      "cell_type": "code",
      "source": "scale = MinMaxScaler()\nscaled_df = pd.DataFrame(\n    scale.fit_transform(df_skills), \n    columns = df_skills.columns,\n    index = df_skills.index)    ",
      "execution_count": 44,
      "outputs": []
    },
    {
      "metadata": {
        "trusted": true,
        "_uuid": "b7f6af5c50418d1ff292189aea8c8c2826c300e8"
      },
      "cell_type": "code",
      "source": "scaled_df",
      "execution_count": 45,
      "outputs": [
        {
          "output_type": "execute_result",
          "execution_count": 45,
          "data": {
            "text/plain": "                      LinkedIn  Indeed  SimplyHired  Monster\nKeyword                                                     \nmachine learning          1.00    0.98         0.96     0.69\nanalysis                  0.90    1.00         1.00     1.00\nstatistics                0.85    0.84         0.85     0.71\ncomputer science          0.78    0.76         0.76     0.55\ncommunication             0.57    0.64         0.64     0.60\nmathematics               0.41    0.52         0.52     0.52\nvisualization             0.28    0.35         0.37     0.32\nAI                        0.22    0.26         0.23     0.16\ndeep learning             0.17    0.21         0.18     0.13\nNLP                       0.15    0.19         0.17     0.12\nsoftware development      0.06    0.10         0.10     0.19\nneural networks           0.05    0.06         0.07     0.03\ndata engineering          0.02    0.01         0.01     0.00\nproject management        0.01    0.03         0.03     0.05\nsoftware engineering      0.00    0.00         0.00     0.10",
            "text/html": "<div>\n<style scoped>\n    .dataframe tbody tr th:only-of-type {\n        vertical-align: middle;\n    }\n\n    .dataframe tbody tr th {\n        vertical-align: top;\n    }\n\n    .dataframe thead th {\n        text-align: right;\n    }\n</style>\n<table border=\"1\" class=\"dataframe\">\n  <thead>\n    <tr style=\"text-align: right;\">\n      <th></th>\n      <th>LinkedIn</th>\n      <th>Indeed</th>\n      <th>SimplyHired</th>\n      <th>Monster</th>\n    </tr>\n    <tr>\n      <th>Keyword</th>\n      <th></th>\n      <th></th>\n      <th></th>\n      <th></th>\n    </tr>\n  </thead>\n  <tbody>\n    <tr>\n      <th>machine learning</th>\n      <td>1.00</td>\n      <td>0.98</td>\n      <td>0.96</td>\n      <td>0.69</td>\n    </tr>\n    <tr>\n      <th>analysis</th>\n      <td>0.90</td>\n      <td>1.00</td>\n      <td>1.00</td>\n      <td>1.00</td>\n    </tr>\n    <tr>\n      <th>statistics</th>\n      <td>0.85</td>\n      <td>0.84</td>\n      <td>0.85</td>\n      <td>0.71</td>\n    </tr>\n    <tr>\n      <th>computer science</th>\n      <td>0.78</td>\n      <td>0.76</td>\n      <td>0.76</td>\n      <td>0.55</td>\n    </tr>\n    <tr>\n      <th>communication</th>\n      <td>0.57</td>\n      <td>0.64</td>\n      <td>0.64</td>\n      <td>0.60</td>\n    </tr>\n    <tr>\n      <th>mathematics</th>\n      <td>0.41</td>\n      <td>0.52</td>\n      <td>0.52</td>\n      <td>0.52</td>\n    </tr>\n    <tr>\n      <th>visualization</th>\n      <td>0.28</td>\n      <td>0.35</td>\n      <td>0.37</td>\n      <td>0.32</td>\n    </tr>\n    <tr>\n      <th>AI</th>\n      <td>0.22</td>\n      <td>0.26</td>\n      <td>0.23</td>\n      <td>0.16</td>\n    </tr>\n    <tr>\n      <th>deep learning</th>\n      <td>0.17</td>\n      <td>0.21</td>\n      <td>0.18</td>\n      <td>0.13</td>\n    </tr>\n    <tr>\n      <th>NLP</th>\n      <td>0.15</td>\n      <td>0.19</td>\n      <td>0.17</td>\n      <td>0.12</td>\n    </tr>\n    <tr>\n      <th>software development</th>\n      <td>0.06</td>\n      <td>0.10</td>\n      <td>0.10</td>\n      <td>0.19</td>\n    </tr>\n    <tr>\n      <th>neural networks</th>\n      <td>0.05</td>\n      <td>0.06</td>\n      <td>0.07</td>\n      <td>0.03</td>\n    </tr>\n    <tr>\n      <th>data engineering</th>\n      <td>0.02</td>\n      <td>0.01</td>\n      <td>0.01</td>\n      <td>0.00</td>\n    </tr>\n    <tr>\n      <th>project management</th>\n      <td>0.01</td>\n      <td>0.03</td>\n      <td>0.03</td>\n      <td>0.05</td>\n    </tr>\n    <tr>\n      <th>software engineering</th>\n      <td>0.00</td>\n      <td>0.00</td>\n      <td>0.00</td>\n      <td>0.10</td>\n    </tr>\n  </tbody>\n</table>\n</div>"
          },
          "metadata": {}
        }
      ]
    },
    {
      "metadata": {
        "_uuid": "fe1b9e3a8e1505b4c7ef01a20db43259c8a80b73"
      },
      "cell_type": "markdown",
      "source": "### Scaled Online Job Listings"
    },
    {
      "metadata": {
        "_uuid": "8ede3b7668e4fd5bb86e3942793ad1c641a2705d"
      },
      "cell_type": "markdown",
      "source": "Let's make a combined score for the large sites by taking the mean of the LinkedIn, Indeed, and SimplyHired scores."
    },
    {
      "metadata": {
        "trusted": true,
        "_uuid": "baa1aea58b86a16029686d22706e73dc15339ffa"
      },
      "cell_type": "code",
      "source": "scaled_df['big_sites'] = scaled_df[[\"LinkedIn\", \"Indeed\", \"SimplyHired\", \"Monster\"]].mean(axis = 1)\nscaled_df.sort_values(by = 'big_sites', ascending = False)",
      "execution_count": 46,
      "outputs": [
        {
          "output_type": "execute_result",
          "execution_count": 46,
          "data": {
            "text/plain": "                      LinkedIn  Indeed  SimplyHired  Monster  big_sites\nKeyword                                                                \nanalysis                  0.90    1.00         1.00     1.00       0.97\nmachine learning          1.00    0.98         0.96     0.69       0.91\nstatistics                0.85    0.84         0.85     0.71       0.81\ncomputer science          0.78    0.76         0.76     0.55       0.71\ncommunication             0.57    0.64         0.64     0.60       0.61\nmathematics               0.41    0.52         0.52     0.52       0.49\nvisualization             0.28    0.35         0.37     0.32       0.33\nAI                        0.22    0.26         0.23     0.16       0.22\ndeep learning             0.17    0.21         0.18     0.13       0.17\nNLP                       0.15    0.19         0.17     0.12       0.16\nsoftware development      0.06    0.10         0.10     0.19       0.11\nneural networks           0.05    0.06         0.07     0.03       0.05\nproject management        0.01    0.03         0.03     0.05       0.03\nsoftware engineering      0.00    0.00         0.00     0.10       0.03\ndata engineering          0.02    0.01         0.01     0.00       0.01",
            "text/html": "<div>\n<style scoped>\n    .dataframe tbody tr th:only-of-type {\n        vertical-align: middle;\n    }\n\n    .dataframe tbody tr th {\n        vertical-align: top;\n    }\n\n    .dataframe thead th {\n        text-align: right;\n    }\n</style>\n<table border=\"1\" class=\"dataframe\">\n  <thead>\n    <tr style=\"text-align: right;\">\n      <th></th>\n      <th>LinkedIn</th>\n      <th>Indeed</th>\n      <th>SimplyHired</th>\n      <th>Monster</th>\n      <th>big_sites</th>\n    </tr>\n    <tr>\n      <th>Keyword</th>\n      <th></th>\n      <th></th>\n      <th></th>\n      <th></th>\n      <th></th>\n    </tr>\n  </thead>\n  <tbody>\n    <tr>\n      <th>analysis</th>\n      <td>0.90</td>\n      <td>1.00</td>\n      <td>1.00</td>\n      <td>1.00</td>\n      <td>0.97</td>\n    </tr>\n    <tr>\n      <th>machine learning</th>\n      <td>1.00</td>\n      <td>0.98</td>\n      <td>0.96</td>\n      <td>0.69</td>\n      <td>0.91</td>\n    </tr>\n    <tr>\n      <th>statistics</th>\n      <td>0.85</td>\n      <td>0.84</td>\n      <td>0.85</td>\n      <td>0.71</td>\n      <td>0.81</td>\n    </tr>\n    <tr>\n      <th>computer science</th>\n      <td>0.78</td>\n      <td>0.76</td>\n      <td>0.76</td>\n      <td>0.55</td>\n      <td>0.71</td>\n    </tr>\n    <tr>\n      <th>communication</th>\n      <td>0.57</td>\n      <td>0.64</td>\n      <td>0.64</td>\n      <td>0.60</td>\n      <td>0.61</td>\n    </tr>\n    <tr>\n      <th>mathematics</th>\n      <td>0.41</td>\n      <td>0.52</td>\n      <td>0.52</td>\n      <td>0.52</td>\n      <td>0.49</td>\n    </tr>\n    <tr>\n      <th>visualization</th>\n      <td>0.28</td>\n      <td>0.35</td>\n      <td>0.37</td>\n      <td>0.32</td>\n      <td>0.33</td>\n    </tr>\n    <tr>\n      <th>AI</th>\n      <td>0.22</td>\n      <td>0.26</td>\n      <td>0.23</td>\n      <td>0.16</td>\n      <td>0.22</td>\n    </tr>\n    <tr>\n      <th>deep learning</th>\n      <td>0.17</td>\n      <td>0.21</td>\n      <td>0.18</td>\n      <td>0.13</td>\n      <td>0.17</td>\n    </tr>\n    <tr>\n      <th>NLP</th>\n      <td>0.15</td>\n      <td>0.19</td>\n      <td>0.17</td>\n      <td>0.12</td>\n      <td>0.16</td>\n    </tr>\n    <tr>\n      <th>software development</th>\n      <td>0.06</td>\n      <td>0.10</td>\n      <td>0.10</td>\n      <td>0.19</td>\n      <td>0.11</td>\n    </tr>\n    <tr>\n      <th>neural networks</th>\n      <td>0.05</td>\n      <td>0.06</td>\n      <td>0.07</td>\n      <td>0.03</td>\n      <td>0.05</td>\n    </tr>\n    <tr>\n      <th>project management</th>\n      <td>0.01</td>\n      <td>0.03</td>\n      <td>0.03</td>\n      <td>0.05</td>\n      <td>0.03</td>\n    </tr>\n    <tr>\n      <th>software engineering</th>\n      <td>0.00</td>\n      <td>0.00</td>\n      <td>0.00</td>\n      <td>0.10</td>\n      <td>0.03</td>\n    </tr>\n    <tr>\n      <th>data engineering</th>\n      <td>0.02</td>\n      <td>0.01</td>\n      <td>0.01</td>\n      <td>0.00</td>\n      <td>0.01</td>\n    </tr>\n  </tbody>\n</table>\n</div>"
          },
          "metadata": {}
        }
      ]
    },
    {
      "metadata": {
        "_uuid": "8540a79f02e1d1d438d2c9657ed1bbe2150cad2d"
      },
      "cell_type": "markdown",
      "source": "## Let's look at them by site\n"
    },
    {
      "metadata": {
        "trusted": true,
        "_uuid": "fb1690ccdd183f0266b00b2a82009a596720c819"
      },
      "cell_type": "code",
      "source": "y_linkedin = scaled_df.iloc[:, 0]\ny_indeed = scaled_df.iloc[:, 1]\ny_simply = scaled_df.iloc[:, 2]\ny_monster = scaled_df.iloc[:, 3]\n\ny_linkedin",
      "execution_count": 47,
      "outputs": [
        {
          "output_type": "execute_result",
          "execution_count": 47,
          "data": {
            "text/plain": "Keyword\nmachine learning       1.00\nanalysis               0.90\nstatistics             0.85\ncomputer science       0.78\ncommunication          0.57\nmathematics            0.41\nvisualization          0.28\nAI                     0.22\ndeep learning          0.17\nNLP                    0.15\nsoftware development   0.06\nneural networks        0.05\ndata engineering       0.02\nproject management     0.01\nsoftware engineering   0.00\nName: LinkedIn, dtype: float64"
          },
          "metadata": {}
        }
      ]
    },
    {
      "metadata": {
        "trusted": true,
        "_uuid": "ee746062c4c5a569df351c28fb6359a3fb4b81ff"
      },
      "cell_type": "code",
      "source": "indeed = go.Bar(x=scaled_df.index, y=y_indeed, name = \"Indeed\")\nsimply = go.Bar(x=scaled_df.index, y=y_simply, name=\"SimplyHired\")\nlinked = go.Bar(x=scaled_df.index, y=y_linkedin, name=\"LinkedIn\")\nmonster = go.Bar(x=scaled_df.index, y=y_monster, name=\"Monster\")\n\ndata = [linked, indeed, simply, monster]\n\nlayout = go.Layout(\n    barmode='group',\n    title=\"Data Science Skills in Online Job Listings\",\n    xaxis={'title': 'Skills'},\n    yaxis={'title': \"Scaled Listings\", 'separatethousands': True,\n    }\n)\n\nfig = go.Figure(data=data, layout=layout)\npy.iplot(fig)",
      "execution_count": 48,
      "outputs": [
        {
          "output_type": "display_data",
          "data": {
            "application/vnd.plotly.v1+json": {
              "data": [
                {
                  "name": "LinkedIn",
                  "x": [
                    "machine learning",
                    "analysis",
                    "statistics",
                    "computer science",
                    "communication",
                    "mathematics",
                    "visualization",
                    "AI",
                    "deep learning",
                    "NLP",
                    "software development",
                    "neural networks",
                    "data engineering",
                    "project management",
                    "software engineering"
                  ],
                  "y": [
                    1,
                    0.8992057488653555,
                    0.8472012102874433,
                    0.7760968229954615,
                    0.5656202723146747,
                    0.41452344931921337,
                    0.277231467473525,
                    0.2184190620272315,
                    0.16962934947049924,
                    0.15109682299546146,
                    0.06032526475037821,
                    0.048789712556732215,
                    0.019099848714069598,
                    0.011913767019667176,
                    0
                  ],
                  "type": "bar",
                  "uid": "5bf43b18-d088-11e8-a165-11ced18b9a9b"
                },
                {
                  "name": "Indeed",
                  "x": [
                    "machine learning",
                    "analysis",
                    "statistics",
                    "computer science",
                    "communication",
                    "mathematics",
                    "visualization",
                    "AI",
                    "deep learning",
                    "NLP",
                    "software development",
                    "neural networks",
                    "data engineering",
                    "project management",
                    "software engineering"
                  ],
                  "y": [
                    0.9809672386895476,
                    1,
                    0.8414976599063964,
                    0.7625585023400937,
                    0.6393135725429018,
                    0.5198127925117005,
                    0.34882995319812793,
                    0.25897035881435254,
                    0.21341653666146643,
                    0.1918876755070203,
                    0.10358814352574104,
                    0.059282371294851796,
                    0.013728549141965682,
                    0.031825273010920446,
                    0
                  ],
                  "type": "bar",
                  "uid": "5bf43dc0-d088-11e8-a165-11ced18b9a9b"
                },
                {
                  "name": "SimplyHired",
                  "x": [
                    "machine learning",
                    "analysis",
                    "statistics",
                    "computer science",
                    "communication",
                    "mathematics",
                    "visualization",
                    "AI",
                    "deep learning",
                    "NLP",
                    "software development",
                    "neural networks",
                    "data engineering",
                    "project management",
                    "software engineering"
                  ],
                  "y": [
                    0.955748552522746,
                    1,
                    0.8511166253101737,
                    0.7622001654259719,
                    0.6373035566583954,
                    0.5157154673283706,
                    0.37344913151364767,
                    0.23200992555831265,
                    0.17576509511993385,
                    0.16956162117452442,
                    0.0955334987593052,
                    0.0707196029776675,
                    0.010752688172043001,
                    0.03308519437551696,
                    0
                  ],
                  "type": "bar",
                  "uid": "5bf43ec4-d088-11e8-a165-11ced18b9a9b"
                },
                {
                  "name": "Monster",
                  "x": [
                    "machine learning",
                    "analysis",
                    "statistics",
                    "computer science",
                    "communication",
                    "mathematics",
                    "visualization",
                    "AI",
                    "deep learning",
                    "NLP",
                    "software development",
                    "neural networks",
                    "data engineering",
                    "project management",
                    "software engineering"
                  ],
                  "y": [
                    0.6889890534449452,
                    1,
                    0.7079845460399227,
                    0.5473277527366387,
                    0.5965872504829363,
                    0.5199613650998068,
                    0.32421120412105603,
                    0.1567933032839665,
                    0.13071474565357372,
                    0.12298776561493882,
                    0.18802318094011589,
                    0.03380553766902768,
                    0,
                    0.047649710238248544,
                    0.1004507405022537
                  ],
                  "type": "bar",
                  "uid": "5bf43f82-d088-11e8-a165-11ced18b9a9b"
                }
              ],
              "layout": {
                "barmode": "group",
                "title": "Data Science Skills in Online Job Listings",
                "xaxis": {
                  "title": "Skills"
                },
                "yaxis": {
                  "separatethousands": true,
                  "title": "Scaled Listings"
                }
              }
            },
            "text/html": "<div id=\"0684392a-08c4-41bd-8fae-13b59a63cbc8\" style=\"height: 525px; width: 100%;\" class=\"plotly-graph-div\"></div><script type=\"text/javascript\">require([\"plotly\"], function(Plotly) { window.PLOTLYENV=window.PLOTLYENV || {};window.PLOTLYENV.BASE_URL=\"https://plot.ly\";Plotly.newPlot(\"0684392a-08c4-41bd-8fae-13b59a63cbc8\", [{\"name\": \"LinkedIn\", \"x\": [\"machine learning\", \"analysis\", \"statistics\", \"computer science\", \"communication\", \"mathematics\", \"visualization\", \"AI\", \"deep learning\", \"NLP\", \"software development\", \"neural networks\", \"data engineering\", \"project management\", \"software engineering\"], \"y\": [1.0, 0.8992057488653555, 0.8472012102874433, 0.7760968229954615, 0.5656202723146747, 0.41452344931921337, 0.277231467473525, 0.2184190620272315, 0.16962934947049924, 0.15109682299546146, 0.06032526475037821, 0.048789712556732215, 0.019099848714069598, 0.011913767019667176, 0.0], \"type\": \"bar\", \"uid\": \"5bf43b18-d088-11e8-a165-11ced18b9a9b\"}, {\"name\": \"Indeed\", \"x\": [\"machine learning\", \"analysis\", \"statistics\", \"computer science\", \"communication\", \"mathematics\", \"visualization\", \"AI\", \"deep learning\", \"NLP\", \"software development\", \"neural networks\", \"data engineering\", \"project management\", \"software engineering\"], \"y\": [0.9809672386895476, 1.0, 0.8414976599063964, 0.7625585023400937, 0.6393135725429018, 0.5198127925117005, 0.34882995319812793, 0.25897035881435254, 0.21341653666146643, 0.1918876755070203, 0.10358814352574104, 0.059282371294851796, 0.013728549141965682, 0.031825273010920446, 0.0], \"type\": \"bar\", \"uid\": \"5bf43dc0-d088-11e8-a165-11ced18b9a9b\"}, {\"name\": \"SimplyHired\", \"x\": [\"machine learning\", \"analysis\", \"statistics\", \"computer science\", \"communication\", \"mathematics\", \"visualization\", \"AI\", \"deep learning\", \"NLP\", \"software development\", \"neural networks\", \"data engineering\", \"project management\", \"software engineering\"], \"y\": [0.955748552522746, 1.0, 0.8511166253101737, 0.7622001654259719, 0.6373035566583954, 0.5157154673283706, 0.37344913151364767, 0.23200992555831265, 0.17576509511993385, 0.16956162117452442, 0.0955334987593052, 0.0707196029776675, 0.010752688172043001, 0.03308519437551696, 0.0], \"type\": \"bar\", \"uid\": \"5bf43ec4-d088-11e8-a165-11ced18b9a9b\"}, {\"name\": \"Monster\", \"x\": [\"machine learning\", \"analysis\", \"statistics\", \"computer science\", \"communication\", \"mathematics\", \"visualization\", \"AI\", \"deep learning\", \"NLP\", \"software development\", \"neural networks\", \"data engineering\", \"project management\", \"software engineering\"], \"y\": [0.6889890534449452, 1.0, 0.7079845460399227, 0.5473277527366387, 0.5965872504829363, 0.5199613650998068, 0.32421120412105603, 0.1567933032839665, 0.13071474565357372, 0.12298776561493882, 0.18802318094011589, 0.03380553766902768, 0.0, 0.047649710238248544, 0.1004507405022537], \"type\": \"bar\", \"uid\": \"5bf43f82-d088-11e8-a165-11ced18b9a9b\"}], {\"barmode\": \"group\", \"title\": \"Data Science Skills in Online Job Listings\", \"xaxis\": {\"title\": \"Skills\"}, \"yaxis\": {\"separatethousands\": true, \"title\": \"Scaled Listings\"}}, {\"showLink\": true, \"linkText\": \"Export to plot.ly\"})});</script>",
            "text/vnd.plotly.v1+html": "<div id=\"0684392a-08c4-41bd-8fae-13b59a63cbc8\" style=\"height: 525px; width: 100%;\" class=\"plotly-graph-div\"></div><script type=\"text/javascript\">require([\"plotly\"], function(Plotly) { window.PLOTLYENV=window.PLOTLYENV || {};window.PLOTLYENV.BASE_URL=\"https://plot.ly\";Plotly.newPlot(\"0684392a-08c4-41bd-8fae-13b59a63cbc8\", [{\"name\": \"LinkedIn\", \"x\": [\"machine learning\", \"analysis\", \"statistics\", \"computer science\", \"communication\", \"mathematics\", \"visualization\", \"AI\", \"deep learning\", \"NLP\", \"software development\", \"neural networks\", \"data engineering\", \"project management\", \"software engineering\"], \"y\": [1.0, 0.8992057488653555, 0.8472012102874433, 0.7760968229954615, 0.5656202723146747, 0.41452344931921337, 0.277231467473525, 0.2184190620272315, 0.16962934947049924, 0.15109682299546146, 0.06032526475037821, 0.048789712556732215, 0.019099848714069598, 0.011913767019667176, 0.0], \"type\": \"bar\", \"uid\": \"5bf43b18-d088-11e8-a165-11ced18b9a9b\"}, {\"name\": \"Indeed\", \"x\": [\"machine learning\", \"analysis\", \"statistics\", \"computer science\", \"communication\", \"mathematics\", \"visualization\", \"AI\", \"deep learning\", \"NLP\", \"software development\", \"neural networks\", \"data engineering\", \"project management\", \"software engineering\"], \"y\": [0.9809672386895476, 1.0, 0.8414976599063964, 0.7625585023400937, 0.6393135725429018, 0.5198127925117005, 0.34882995319812793, 0.25897035881435254, 0.21341653666146643, 0.1918876755070203, 0.10358814352574104, 0.059282371294851796, 0.013728549141965682, 0.031825273010920446, 0.0], \"type\": \"bar\", \"uid\": \"5bf43dc0-d088-11e8-a165-11ced18b9a9b\"}, {\"name\": \"SimplyHired\", \"x\": [\"machine learning\", \"analysis\", \"statistics\", \"computer science\", \"communication\", \"mathematics\", \"visualization\", \"AI\", \"deep learning\", \"NLP\", \"software development\", \"neural networks\", \"data engineering\", \"project management\", \"software engineering\"], \"y\": [0.955748552522746, 1.0, 0.8511166253101737, 0.7622001654259719, 0.6373035566583954, 0.5157154673283706, 0.37344913151364767, 0.23200992555831265, 0.17576509511993385, 0.16956162117452442, 0.0955334987593052, 0.0707196029776675, 0.010752688172043001, 0.03308519437551696, 0.0], \"type\": \"bar\", \"uid\": \"5bf43ec4-d088-11e8-a165-11ced18b9a9b\"}, {\"name\": \"Monster\", \"x\": [\"machine learning\", \"analysis\", \"statistics\", \"computer science\", \"communication\", \"mathematics\", \"visualization\", \"AI\", \"deep learning\", \"NLP\", \"software development\", \"neural networks\", \"data engineering\", \"project management\", \"software engineering\"], \"y\": [0.6889890534449452, 1.0, 0.7079845460399227, 0.5473277527366387, 0.5965872504829363, 0.5199613650998068, 0.32421120412105603, 0.1567933032839665, 0.13071474565357372, 0.12298776561493882, 0.18802318094011589, 0.03380553766902768, 0.0, 0.047649710238248544, 0.1004507405022537], \"type\": \"bar\", \"uid\": \"5bf43f82-d088-11e8-a165-11ced18b9a9b\"}], {\"barmode\": \"group\", \"title\": \"Data Science Skills in Online Job Listings\", \"xaxis\": {\"title\": \"Skills\"}, \"yaxis\": {\"separatethousands\": true, \"title\": \"Scaled Listings\"}}, {\"showLink\": true, \"linkText\": \"Export to plot.ly\"})});</script>"
          },
          "metadata": {}
        }
      ]
    },
    {
      "metadata": {
        "_uuid": "c9362466683bae61642b931d7f0f5e9e3970fa5c"
      },
      "cell_type": "markdown",
      "source": "Let's clean things up for publication"
    },
    {
      "metadata": {
        "trusted": true,
        "_uuid": "8ab7f2892c5d52ec3da183bcc023c5675e7dfc42"
      },
      "cell_type": "code",
      "source": "p_s_df = scaled_df * 100\np_s_df = p_s_df.round(2)\np_s_df.columns = ['LinkedIn', 'Indeed', 'SimplyHired', 'Monster', 'Score']\np_s_df = p_s_df.sort_values(by=['Score'], ascending = False)\np_s_df",
      "execution_count": 49,
      "outputs": [
        {
          "output_type": "execute_result",
          "execution_count": 49,
          "data": {
            "text/plain": "                      LinkedIn  Indeed  SimplyHired  Monster  Score\nKeyword                                                            \nanalysis                 89.92  100.00       100.00   100.00  97.48\nmachine learning        100.00   98.10        95.57    68.90  90.64\nstatistics               84.72   84.15        85.11    70.80  81.20\ncomputer science         77.61   76.26        76.22    54.73  71.20\ncommunication            56.56   63.93        63.73    59.66  60.97\nmathematics              41.45   51.98        51.57    52.00  49.25\nvisualization            27.72   34.88        37.34    32.42  33.09\nAI                       21.84   25.90        23.20    15.68  21.65\ndeep learning            16.96   21.34        17.58    13.07  17.24\nNLP                      15.11   19.19        16.96    12.30  15.89\nsoftware development      6.03   10.36         9.55    18.80  11.19\nneural networks           4.88    5.93         7.07     3.38   5.31\nproject management        1.19    3.18         3.31     4.76   3.11\nsoftware engineering      0.00    0.00         0.00    10.05   2.51\ndata engineering          1.91    1.37         1.08     0.00   1.09",
            "text/html": "<div>\n<style scoped>\n    .dataframe tbody tr th:only-of-type {\n        vertical-align: middle;\n    }\n\n    .dataframe tbody tr th {\n        vertical-align: top;\n    }\n\n    .dataframe thead th {\n        text-align: right;\n    }\n</style>\n<table border=\"1\" class=\"dataframe\">\n  <thead>\n    <tr style=\"text-align: right;\">\n      <th></th>\n      <th>LinkedIn</th>\n      <th>Indeed</th>\n      <th>SimplyHired</th>\n      <th>Monster</th>\n      <th>Score</th>\n    </tr>\n    <tr>\n      <th>Keyword</th>\n      <th></th>\n      <th></th>\n      <th></th>\n      <th></th>\n      <th></th>\n    </tr>\n  </thead>\n  <tbody>\n    <tr>\n      <th>analysis</th>\n      <td>89.92</td>\n      <td>100.00</td>\n      <td>100.00</td>\n      <td>100.00</td>\n      <td>97.48</td>\n    </tr>\n    <tr>\n      <th>machine learning</th>\n      <td>100.00</td>\n      <td>98.10</td>\n      <td>95.57</td>\n      <td>68.90</td>\n      <td>90.64</td>\n    </tr>\n    <tr>\n      <th>statistics</th>\n      <td>84.72</td>\n      <td>84.15</td>\n      <td>85.11</td>\n      <td>70.80</td>\n      <td>81.20</td>\n    </tr>\n    <tr>\n      <th>computer science</th>\n      <td>77.61</td>\n      <td>76.26</td>\n      <td>76.22</td>\n      <td>54.73</td>\n      <td>71.20</td>\n    </tr>\n    <tr>\n      <th>communication</th>\n      <td>56.56</td>\n      <td>63.93</td>\n      <td>63.73</td>\n      <td>59.66</td>\n      <td>60.97</td>\n    </tr>\n    <tr>\n      <th>mathematics</th>\n      <td>41.45</td>\n      <td>51.98</td>\n      <td>51.57</td>\n      <td>52.00</td>\n      <td>49.25</td>\n    </tr>\n    <tr>\n      <th>visualization</th>\n      <td>27.72</td>\n      <td>34.88</td>\n      <td>37.34</td>\n      <td>32.42</td>\n      <td>33.09</td>\n    </tr>\n    <tr>\n      <th>AI</th>\n      <td>21.84</td>\n      <td>25.90</td>\n      <td>23.20</td>\n      <td>15.68</td>\n      <td>21.65</td>\n    </tr>\n    <tr>\n      <th>deep learning</th>\n      <td>16.96</td>\n      <td>21.34</td>\n      <td>17.58</td>\n      <td>13.07</td>\n      <td>17.24</td>\n    </tr>\n    <tr>\n      <th>NLP</th>\n      <td>15.11</td>\n      <td>19.19</td>\n      <td>16.96</td>\n      <td>12.30</td>\n      <td>15.89</td>\n    </tr>\n    <tr>\n      <th>software development</th>\n      <td>6.03</td>\n      <td>10.36</td>\n      <td>9.55</td>\n      <td>18.80</td>\n      <td>11.19</td>\n    </tr>\n    <tr>\n      <th>neural networks</th>\n      <td>4.88</td>\n      <td>5.93</td>\n      <td>7.07</td>\n      <td>3.38</td>\n      <td>5.31</td>\n    </tr>\n    <tr>\n      <th>project management</th>\n      <td>1.19</td>\n      <td>3.18</td>\n      <td>3.31</td>\n      <td>4.76</td>\n      <td>3.11</td>\n    </tr>\n    <tr>\n      <th>software engineering</th>\n      <td>0.00</td>\n      <td>0.00</td>\n      <td>0.00</td>\n      <td>10.05</td>\n      <td>2.51</td>\n    </tr>\n    <tr>\n      <th>data engineering</th>\n      <td>1.91</td>\n      <td>1.37</td>\n      <td>1.08</td>\n      <td>0.00</td>\n      <td>1.09</td>\n    </tr>\n  </tbody>\n</table>\n</div>"
          },
          "metadata": {}
        }
      ]
    },
    {
      "metadata": {
        "_uuid": "985e3cd49db389b3991a412c6f446728fcc71090"
      },
      "cell_type": "markdown",
      "source": "## Let's make a bar chart of the combined scores"
    },
    {
      "metadata": {
        "trusted": true,
        "_uuid": "ed464a41471fc84017b3c8eb061b97d11e89adce"
      },
      "cell_type": "code",
      "source": "cmax=200\ncmin=50\ncolor_s = np.linspace(cmin, cmax, 14)\n\ndata = [\n    go.Bar(\n        x=p_s_df.index,          \n        y=p_s_df['Score'],\n        marker=dict(\n            colorscale='Jet',\n            #cauto=True,\n            color=color_s,\n        ),\n        # text=p_s_df['Score'],\n        # textposition='outside',\n        # textfont=dict(size=10)\n    )\n]\n\nlayout = {\n    'title': 'General Skills in Data Scientist Job Listings',\n    'xaxis': {'tickmode': 'linear'},\n    'yaxis': {'title': \"Score\"}\n}\n\nfig = go.Figure(data=data, layout=layout)\npy.iplot(fig)",
      "execution_count": 50,
      "outputs": [
        {
          "output_type": "display_data",
          "data": {
            "application/vnd.plotly.v1+json": {
              "data": [
                {
                  "marker": {
                    "color": [
                      50,
                      61.53846153846154,
                      73.07692307692308,
                      84.61538461538461,
                      96.15384615384616,
                      107.6923076923077,
                      119.23076923076923,
                      130.76923076923077,
                      142.30769230769232,
                      153.84615384615384,
                      165.3846153846154,
                      176.9230769230769,
                      188.46153846153845,
                      200
                    ],
                    "colorscale": "Jet"
                  },
                  "x": [
                    "analysis",
                    "machine learning",
                    "statistics",
                    "computer science",
                    "communication",
                    "mathematics",
                    "visualization",
                    "AI",
                    "deep learning",
                    "NLP",
                    "software development",
                    "neural networks",
                    "project management",
                    "software engineering",
                    "data engineering"
                  ],
                  "y": [
                    97.48,
                    90.64,
                    81.2,
                    71.2,
                    60.97,
                    49.25,
                    33.09,
                    21.65,
                    17.24,
                    15.89,
                    11.19,
                    5.31,
                    3.11,
                    2.51,
                    1.09
                  ],
                  "type": "bar",
                  "uid": "5f82c9e8-d088-11e8-a165-11ced18b9a9b"
                }
              ],
              "layout": {
                "title": "General Skills in Data Scientist Job Listings",
                "xaxis": {
                  "tickmode": "linear"
                },
                "yaxis": {
                  "title": "Score"
                }
              }
            },
            "text/html": "<div id=\"c4e0c387-1cf5-418f-be16-6539e83af749\" style=\"height: 525px; width: 100%;\" class=\"plotly-graph-div\"></div><script type=\"text/javascript\">require([\"plotly\"], function(Plotly) { window.PLOTLYENV=window.PLOTLYENV || {};window.PLOTLYENV.BASE_URL=\"https://plot.ly\";Plotly.newPlot(\"c4e0c387-1cf5-418f-be16-6539e83af749\", [{\"marker\": {\"color\": [50.0, 61.53846153846154, 73.07692307692308, 84.61538461538461, 96.15384615384616, 107.6923076923077, 119.23076923076923, 130.76923076923077, 142.30769230769232, 153.84615384615384, 165.3846153846154, 176.9230769230769, 188.46153846153845, 200.0], \"colorscale\": \"Jet\"}, \"x\": [\"analysis\", \"machine learning\", \"statistics\", \"computer science\", \"communication\", \"mathematics\", \"visualization\", \"AI\", \"deep learning\", \"NLP\", \"software development\", \"neural networks\", \"project management\", \"software engineering\", \"data engineering\"], \"y\": [97.48, 90.64, 81.2, 71.2, 60.97, 49.25, 33.09, 21.65, 17.24, 15.89, 11.19, 5.31, 3.11, 2.51, 1.09], \"type\": \"bar\", \"uid\": \"5f82c9e8-d088-11e8-a165-11ced18b9a9b\"}], {\"title\": \"General Skills in Data Scientist Job Listings\", \"xaxis\": {\"tickmode\": \"linear\"}, \"yaxis\": {\"title\": \"Score\"}}, {\"showLink\": true, \"linkText\": \"Export to plot.ly\"})});</script>",
            "text/vnd.plotly.v1+html": "<div id=\"c4e0c387-1cf5-418f-be16-6539e83af749\" style=\"height: 525px; width: 100%;\" class=\"plotly-graph-div\"></div><script type=\"text/javascript\">require([\"plotly\"], function(Plotly) { window.PLOTLYENV=window.PLOTLYENV || {};window.PLOTLYENV.BASE_URL=\"https://plot.ly\";Plotly.newPlot(\"c4e0c387-1cf5-418f-be16-6539e83af749\", [{\"marker\": {\"color\": [50.0, 61.53846153846154, 73.07692307692308, 84.61538461538461, 96.15384615384616, 107.6923076923077, 119.23076923076923, 130.76923076923077, 142.30769230769232, 153.84615384615384, 165.3846153846154, 176.9230769230769, 188.46153846153845, 200.0], \"colorscale\": \"Jet\"}, \"x\": [\"analysis\", \"machine learning\", \"statistics\", \"computer science\", \"communication\", \"mathematics\", \"visualization\", \"AI\", \"deep learning\", \"NLP\", \"software development\", \"neural networks\", \"project management\", \"software engineering\", \"data engineering\"], \"y\": [97.48, 90.64, 81.2, 71.2, 60.97, 49.25, 33.09, 21.65, 17.24, 15.89, 11.19, 5.31, 3.11, 2.51, 1.09], \"type\": \"bar\", \"uid\": \"5f82c9e8-d088-11e8-a165-11ced18b9a9b\"}], {\"title\": \"General Skills in Data Scientist Job Listings\", \"xaxis\": {\"tickmode\": \"linear\"}, \"yaxis\": {\"title\": \"Score\"}}, {\"showLink\": true, \"linkText\": \"Export to plot.ly\"})});</script>"
          },
          "metadata": {}
        }
      ]
    },
    {
      "metadata": {
        "_uuid": "0cf2baad7d742b0a8ff93cd9f66bd50a11b60ff4"
      },
      "cell_type": "markdown",
      "source": "## Let's look at these general skills by % of occurrence, too."
    },
    {
      "metadata": {
        "trusted": true,
        "_uuid": "74e9932a33f42a2c78bdb4b7c0e24ae6c52d6f8d"
      },
      "cell_type": "code",
      "source": "total_ds = {\n    'LinkedIn': 8610,\n    'Indeed': 5138,\n    'SimplyHired': 3829,\n    'Monster': 3746,\n}",
      "execution_count": 51,
      "outputs": []
    },
    {
      "metadata": {
        "trusted": true,
        "_uuid": "36608d9e7d1592d09c04002a67c2ad13dc06c3ba"
      },
      "cell_type": "code",
      "source": "for key, value in total_ds.items():\n    df_skills[key + \" %\"] = df_skills[key] / value * 100\ndf_skills",
      "execution_count": 52,
      "outputs": [
        {
          "output_type": "execute_result",
          "execution_count": 52,
          "data": {
            "text/plain": "                      LinkedIn  Indeed  SimplyHired  Monster  LinkedIn %  \\\nKeyword                                                                    \nmachine learning          5701    3439         2561     2340       66.21   \nanalysis                  5168    3500         2668     3306       60.02   \nstatistics                4893    2992         2308     2399       56.83   \ncomputer science          4517    2739         2093     1900       52.46   \ncommunication             3404    2344         1791     2053       39.54   \nmathematics               2605    1961         1497     1815       30.26   \nvisualization             1879    1413         1153     1207       21.82   \nAI                        1568    1125          811      687       18.21   \ndeep learning             1310     979          675      606       15.21   \nNLP                       1212     910          660      582       14.08   \nsoftware development       732     627          481      784        8.50   \nneural networks            671     485          421      305        7.79   \ndata engineering           514     339          276      200        5.97   \nproject management         476     397          330      348        5.53   \nsoftware engineering       413     295          250      512        4.80   \n\n                      Indeed %  SimplyHired %  Monster %  \nKeyword                                                   \nmachine learning         66.93          66.88      62.47  \nanalysis                 68.12          69.68      88.25  \nstatistics               58.23          60.28      64.04  \ncomputer science         53.31          54.66      50.72  \ncommunication            45.62          46.77      54.81  \nmathematics              38.17          39.10      48.45  \nvisualization            27.50          30.11      32.22  \nAI                       21.90          21.18      18.34  \ndeep learning            19.05          17.63      16.18  \nNLP                      17.71          17.24      15.54  \nsoftware development     12.20          12.56      20.93  \nneural networks           9.44          11.00       8.14  \ndata engineering          6.60           7.21       5.34  \nproject management        7.73           8.62       9.29  \nsoftware engineering      5.74           6.53      13.67  ",
            "text/html": "<div>\n<style scoped>\n    .dataframe tbody tr th:only-of-type {\n        vertical-align: middle;\n    }\n\n    .dataframe tbody tr th {\n        vertical-align: top;\n    }\n\n    .dataframe thead th {\n        text-align: right;\n    }\n</style>\n<table border=\"1\" class=\"dataframe\">\n  <thead>\n    <tr style=\"text-align: right;\">\n      <th></th>\n      <th>LinkedIn</th>\n      <th>Indeed</th>\n      <th>SimplyHired</th>\n      <th>Monster</th>\n      <th>LinkedIn %</th>\n      <th>Indeed %</th>\n      <th>SimplyHired %</th>\n      <th>Monster %</th>\n    </tr>\n    <tr>\n      <th>Keyword</th>\n      <th></th>\n      <th></th>\n      <th></th>\n      <th></th>\n      <th></th>\n      <th></th>\n      <th></th>\n      <th></th>\n    </tr>\n  </thead>\n  <tbody>\n    <tr>\n      <th>machine learning</th>\n      <td>5701</td>\n      <td>3439</td>\n      <td>2561</td>\n      <td>2340</td>\n      <td>66.21</td>\n      <td>66.93</td>\n      <td>66.88</td>\n      <td>62.47</td>\n    </tr>\n    <tr>\n      <th>analysis</th>\n      <td>5168</td>\n      <td>3500</td>\n      <td>2668</td>\n      <td>3306</td>\n      <td>60.02</td>\n      <td>68.12</td>\n      <td>69.68</td>\n      <td>88.25</td>\n    </tr>\n    <tr>\n      <th>statistics</th>\n      <td>4893</td>\n      <td>2992</td>\n      <td>2308</td>\n      <td>2399</td>\n      <td>56.83</td>\n      <td>58.23</td>\n      <td>60.28</td>\n      <td>64.04</td>\n    </tr>\n    <tr>\n      <th>computer science</th>\n      <td>4517</td>\n      <td>2739</td>\n      <td>2093</td>\n      <td>1900</td>\n      <td>52.46</td>\n      <td>53.31</td>\n      <td>54.66</td>\n      <td>50.72</td>\n    </tr>\n    <tr>\n      <th>communication</th>\n      <td>3404</td>\n      <td>2344</td>\n      <td>1791</td>\n      <td>2053</td>\n      <td>39.54</td>\n      <td>45.62</td>\n      <td>46.77</td>\n      <td>54.81</td>\n    </tr>\n    <tr>\n      <th>mathematics</th>\n      <td>2605</td>\n      <td>1961</td>\n      <td>1497</td>\n      <td>1815</td>\n      <td>30.26</td>\n      <td>38.17</td>\n      <td>39.10</td>\n      <td>48.45</td>\n    </tr>\n    <tr>\n      <th>visualization</th>\n      <td>1879</td>\n      <td>1413</td>\n      <td>1153</td>\n      <td>1207</td>\n      <td>21.82</td>\n      <td>27.50</td>\n      <td>30.11</td>\n      <td>32.22</td>\n    </tr>\n    <tr>\n      <th>AI</th>\n      <td>1568</td>\n      <td>1125</td>\n      <td>811</td>\n      <td>687</td>\n      <td>18.21</td>\n      <td>21.90</td>\n      <td>21.18</td>\n      <td>18.34</td>\n    </tr>\n    <tr>\n      <th>deep learning</th>\n      <td>1310</td>\n      <td>979</td>\n      <td>675</td>\n      <td>606</td>\n      <td>15.21</td>\n      <td>19.05</td>\n      <td>17.63</td>\n      <td>16.18</td>\n    </tr>\n    <tr>\n      <th>NLP</th>\n      <td>1212</td>\n      <td>910</td>\n      <td>660</td>\n      <td>582</td>\n      <td>14.08</td>\n      <td>17.71</td>\n      <td>17.24</td>\n      <td>15.54</td>\n    </tr>\n    <tr>\n      <th>software development</th>\n      <td>732</td>\n      <td>627</td>\n      <td>481</td>\n      <td>784</td>\n      <td>8.50</td>\n      <td>12.20</td>\n      <td>12.56</td>\n      <td>20.93</td>\n    </tr>\n    <tr>\n      <th>neural networks</th>\n      <td>671</td>\n      <td>485</td>\n      <td>421</td>\n      <td>305</td>\n      <td>7.79</td>\n      <td>9.44</td>\n      <td>11.00</td>\n      <td>8.14</td>\n    </tr>\n    <tr>\n      <th>data engineering</th>\n      <td>514</td>\n      <td>339</td>\n      <td>276</td>\n      <td>200</td>\n      <td>5.97</td>\n      <td>6.60</td>\n      <td>7.21</td>\n      <td>5.34</td>\n    </tr>\n    <tr>\n      <th>project management</th>\n      <td>476</td>\n      <td>397</td>\n      <td>330</td>\n      <td>348</td>\n      <td>5.53</td>\n      <td>7.73</td>\n      <td>8.62</td>\n      <td>9.29</td>\n    </tr>\n    <tr>\n      <th>software engineering</th>\n      <td>413</td>\n      <td>295</td>\n      <td>250</td>\n      <td>512</td>\n      <td>4.80</td>\n      <td>5.74</td>\n      <td>6.53</td>\n      <td>13.67</td>\n    </tr>\n  </tbody>\n</table>\n</div>"
          },
          "metadata": {}
        }
      ]
    },
    {
      "metadata": {
        "_uuid": "3a455f8f45ce36943f94961973d1952f83d46a81"
      },
      "cell_type": "markdown",
      "source": "Let's make an average of those % columns."
    },
    {
      "metadata": {
        "trusted": true,
        "_uuid": "1248d1b372ab4656afabc55efd5411a54e2281b8"
      },
      "cell_type": "code",
      "source": "df_skills['avg_percent'] = df_skills.iloc[:,-4:].mean(axis=1)\ndf_skills",
      "execution_count": 53,
      "outputs": [
        {
          "output_type": "execute_result",
          "execution_count": 53,
          "data": {
            "text/plain": "                      LinkedIn  Indeed  SimplyHired  Monster  LinkedIn %  \\\nKeyword                                                                    \nmachine learning          5701    3439         2561     2340       66.21   \nanalysis                  5168    3500         2668     3306       60.02   \nstatistics                4893    2992         2308     2399       56.83   \ncomputer science          4517    2739         2093     1900       52.46   \ncommunication             3404    2344         1791     2053       39.54   \nmathematics               2605    1961         1497     1815       30.26   \nvisualization             1879    1413         1153     1207       21.82   \nAI                        1568    1125          811      687       18.21   \ndeep learning             1310     979          675      606       15.21   \nNLP                       1212     910          660      582       14.08   \nsoftware development       732     627          481      784        8.50   \nneural networks            671     485          421      305        7.79   \ndata engineering           514     339          276      200        5.97   \nproject management         476     397          330      348        5.53   \nsoftware engineering       413     295          250      512        4.80   \n\n                      Indeed %  SimplyHired %  Monster %  avg_percent  \nKeyword                                                                \nmachine learning         66.93          66.88      62.47        65.62  \nanalysis                 68.12          69.68      88.25        71.52  \nstatistics               58.23          60.28      64.04        59.85  \ncomputer science         53.31          54.66      50.72        52.79  \ncommunication            45.62          46.77      54.81        46.68  \nmathematics              38.17          39.10      48.45        38.99  \nvisualization            27.50          30.11      32.22        27.91  \nAI                       21.90          21.18      18.34        19.91  \ndeep learning            19.05          17.63      16.18        17.02  \nNLP                      17.71          17.24      15.54        16.14  \nsoftware development     12.20          12.56      20.93        13.55  \nneural networks           9.44          11.00       8.14         9.09  \ndata engineering          6.60           7.21       5.34         6.28  \nproject management        7.73           8.62       9.29         7.79  \nsoftware engineering      5.74           6.53      13.67         7.68  ",
            "text/html": "<div>\n<style scoped>\n    .dataframe tbody tr th:only-of-type {\n        vertical-align: middle;\n    }\n\n    .dataframe tbody tr th {\n        vertical-align: top;\n    }\n\n    .dataframe thead th {\n        text-align: right;\n    }\n</style>\n<table border=\"1\" class=\"dataframe\">\n  <thead>\n    <tr style=\"text-align: right;\">\n      <th></th>\n      <th>LinkedIn</th>\n      <th>Indeed</th>\n      <th>SimplyHired</th>\n      <th>Monster</th>\n      <th>LinkedIn %</th>\n      <th>Indeed %</th>\n      <th>SimplyHired %</th>\n      <th>Monster %</th>\n      <th>avg_percent</th>\n    </tr>\n    <tr>\n      <th>Keyword</th>\n      <th></th>\n      <th></th>\n      <th></th>\n      <th></th>\n      <th></th>\n      <th></th>\n      <th></th>\n      <th></th>\n      <th></th>\n    </tr>\n  </thead>\n  <tbody>\n    <tr>\n      <th>machine learning</th>\n      <td>5701</td>\n      <td>3439</td>\n      <td>2561</td>\n      <td>2340</td>\n      <td>66.21</td>\n      <td>66.93</td>\n      <td>66.88</td>\n      <td>62.47</td>\n      <td>65.62</td>\n    </tr>\n    <tr>\n      <th>analysis</th>\n      <td>5168</td>\n      <td>3500</td>\n      <td>2668</td>\n      <td>3306</td>\n      <td>60.02</td>\n      <td>68.12</td>\n      <td>69.68</td>\n      <td>88.25</td>\n      <td>71.52</td>\n    </tr>\n    <tr>\n      <th>statistics</th>\n      <td>4893</td>\n      <td>2992</td>\n      <td>2308</td>\n      <td>2399</td>\n      <td>56.83</td>\n      <td>58.23</td>\n      <td>60.28</td>\n      <td>64.04</td>\n      <td>59.85</td>\n    </tr>\n    <tr>\n      <th>computer science</th>\n      <td>4517</td>\n      <td>2739</td>\n      <td>2093</td>\n      <td>1900</td>\n      <td>52.46</td>\n      <td>53.31</td>\n      <td>54.66</td>\n      <td>50.72</td>\n      <td>52.79</td>\n    </tr>\n    <tr>\n      <th>communication</th>\n      <td>3404</td>\n      <td>2344</td>\n      <td>1791</td>\n      <td>2053</td>\n      <td>39.54</td>\n      <td>45.62</td>\n      <td>46.77</td>\n      <td>54.81</td>\n      <td>46.68</td>\n    </tr>\n    <tr>\n      <th>mathematics</th>\n      <td>2605</td>\n      <td>1961</td>\n      <td>1497</td>\n      <td>1815</td>\n      <td>30.26</td>\n      <td>38.17</td>\n      <td>39.10</td>\n      <td>48.45</td>\n      <td>38.99</td>\n    </tr>\n    <tr>\n      <th>visualization</th>\n      <td>1879</td>\n      <td>1413</td>\n      <td>1153</td>\n      <td>1207</td>\n      <td>21.82</td>\n      <td>27.50</td>\n      <td>30.11</td>\n      <td>32.22</td>\n      <td>27.91</td>\n    </tr>\n    <tr>\n      <th>AI</th>\n      <td>1568</td>\n      <td>1125</td>\n      <td>811</td>\n      <td>687</td>\n      <td>18.21</td>\n      <td>21.90</td>\n      <td>21.18</td>\n      <td>18.34</td>\n      <td>19.91</td>\n    </tr>\n    <tr>\n      <th>deep learning</th>\n      <td>1310</td>\n      <td>979</td>\n      <td>675</td>\n      <td>606</td>\n      <td>15.21</td>\n      <td>19.05</td>\n      <td>17.63</td>\n      <td>16.18</td>\n      <td>17.02</td>\n    </tr>\n    <tr>\n      <th>NLP</th>\n      <td>1212</td>\n      <td>910</td>\n      <td>660</td>\n      <td>582</td>\n      <td>14.08</td>\n      <td>17.71</td>\n      <td>17.24</td>\n      <td>15.54</td>\n      <td>16.14</td>\n    </tr>\n    <tr>\n      <th>software development</th>\n      <td>732</td>\n      <td>627</td>\n      <td>481</td>\n      <td>784</td>\n      <td>8.50</td>\n      <td>12.20</td>\n      <td>12.56</td>\n      <td>20.93</td>\n      <td>13.55</td>\n    </tr>\n    <tr>\n      <th>neural networks</th>\n      <td>671</td>\n      <td>485</td>\n      <td>421</td>\n      <td>305</td>\n      <td>7.79</td>\n      <td>9.44</td>\n      <td>11.00</td>\n      <td>8.14</td>\n      <td>9.09</td>\n    </tr>\n    <tr>\n      <th>data engineering</th>\n      <td>514</td>\n      <td>339</td>\n      <td>276</td>\n      <td>200</td>\n      <td>5.97</td>\n      <td>6.60</td>\n      <td>7.21</td>\n      <td>5.34</td>\n      <td>6.28</td>\n    </tr>\n    <tr>\n      <th>project management</th>\n      <td>476</td>\n      <td>397</td>\n      <td>330</td>\n      <td>348</td>\n      <td>5.53</td>\n      <td>7.73</td>\n      <td>8.62</td>\n      <td>9.29</td>\n      <td>7.79</td>\n    </tr>\n    <tr>\n      <th>software engineering</th>\n      <td>413</td>\n      <td>295</td>\n      <td>250</td>\n      <td>512</td>\n      <td>4.80</td>\n      <td>5.74</td>\n      <td>6.53</td>\n      <td>13.67</td>\n      <td>7.68</td>\n    </tr>\n  </tbody>\n</table>\n</div>"
          },
          "metadata": {}
        }
      ]
    },
    {
      "metadata": {
        "trusted": true,
        "_uuid": "9f170997b9b79d46e50d3d7b563e7c7fc2fd0340"
      },
      "cell_type": "code",
      "source": "df_skills = df_skills.sort_values(by=\"avg_percent\", ascending = False)\ndf_skills",
      "execution_count": 54,
      "outputs": [
        {
          "output_type": "execute_result",
          "execution_count": 54,
          "data": {
            "text/plain": "                      LinkedIn  Indeed  SimplyHired  Monster  LinkedIn %  \\\nKeyword                                                                    \nanalysis                  5168    3500         2668     3306       60.02   \nmachine learning          5701    3439         2561     2340       66.21   \nstatistics                4893    2992         2308     2399       56.83   \ncomputer science          4517    2739         2093     1900       52.46   \ncommunication             3404    2344         1791     2053       39.54   \nmathematics               2605    1961         1497     1815       30.26   \nvisualization             1879    1413         1153     1207       21.82   \nAI                        1568    1125          811      687       18.21   \ndeep learning             1310     979          675      606       15.21   \nNLP                       1212     910          660      582       14.08   \nsoftware development       732     627          481      784        8.50   \nneural networks            671     485          421      305        7.79   \nproject management         476     397          330      348        5.53   \nsoftware engineering       413     295          250      512        4.80   \ndata engineering           514     339          276      200        5.97   \n\n                      Indeed %  SimplyHired %  Monster %  avg_percent  \nKeyword                                                                \nanalysis                 68.12          69.68      88.25        71.52  \nmachine learning         66.93          66.88      62.47        65.62  \nstatistics               58.23          60.28      64.04        59.85  \ncomputer science         53.31          54.66      50.72        52.79  \ncommunication            45.62          46.77      54.81        46.68  \nmathematics              38.17          39.10      48.45        38.99  \nvisualization            27.50          30.11      32.22        27.91  \nAI                       21.90          21.18      18.34        19.91  \ndeep learning            19.05          17.63      16.18        17.02  \nNLP                      17.71          17.24      15.54        16.14  \nsoftware development     12.20          12.56      20.93        13.55  \nneural networks           9.44          11.00       8.14         9.09  \nproject management        7.73           8.62       9.29         7.79  \nsoftware engineering      5.74           6.53      13.67         7.68  \ndata engineering          6.60           7.21       5.34         6.28  ",
            "text/html": "<div>\n<style scoped>\n    .dataframe tbody tr th:only-of-type {\n        vertical-align: middle;\n    }\n\n    .dataframe tbody tr th {\n        vertical-align: top;\n    }\n\n    .dataframe thead th {\n        text-align: right;\n    }\n</style>\n<table border=\"1\" class=\"dataframe\">\n  <thead>\n    <tr style=\"text-align: right;\">\n      <th></th>\n      <th>LinkedIn</th>\n      <th>Indeed</th>\n      <th>SimplyHired</th>\n      <th>Monster</th>\n      <th>LinkedIn %</th>\n      <th>Indeed %</th>\n      <th>SimplyHired %</th>\n      <th>Monster %</th>\n      <th>avg_percent</th>\n    </tr>\n    <tr>\n      <th>Keyword</th>\n      <th></th>\n      <th></th>\n      <th></th>\n      <th></th>\n      <th></th>\n      <th></th>\n      <th></th>\n      <th></th>\n      <th></th>\n    </tr>\n  </thead>\n  <tbody>\n    <tr>\n      <th>analysis</th>\n      <td>5168</td>\n      <td>3500</td>\n      <td>2668</td>\n      <td>3306</td>\n      <td>60.02</td>\n      <td>68.12</td>\n      <td>69.68</td>\n      <td>88.25</td>\n      <td>71.52</td>\n    </tr>\n    <tr>\n      <th>machine learning</th>\n      <td>5701</td>\n      <td>3439</td>\n      <td>2561</td>\n      <td>2340</td>\n      <td>66.21</td>\n      <td>66.93</td>\n      <td>66.88</td>\n      <td>62.47</td>\n      <td>65.62</td>\n    </tr>\n    <tr>\n      <th>statistics</th>\n      <td>4893</td>\n      <td>2992</td>\n      <td>2308</td>\n      <td>2399</td>\n      <td>56.83</td>\n      <td>58.23</td>\n      <td>60.28</td>\n      <td>64.04</td>\n      <td>59.85</td>\n    </tr>\n    <tr>\n      <th>computer science</th>\n      <td>4517</td>\n      <td>2739</td>\n      <td>2093</td>\n      <td>1900</td>\n      <td>52.46</td>\n      <td>53.31</td>\n      <td>54.66</td>\n      <td>50.72</td>\n      <td>52.79</td>\n    </tr>\n    <tr>\n      <th>communication</th>\n      <td>3404</td>\n      <td>2344</td>\n      <td>1791</td>\n      <td>2053</td>\n      <td>39.54</td>\n      <td>45.62</td>\n      <td>46.77</td>\n      <td>54.81</td>\n      <td>46.68</td>\n    </tr>\n    <tr>\n      <th>mathematics</th>\n      <td>2605</td>\n      <td>1961</td>\n      <td>1497</td>\n      <td>1815</td>\n      <td>30.26</td>\n      <td>38.17</td>\n      <td>39.10</td>\n      <td>48.45</td>\n      <td>38.99</td>\n    </tr>\n    <tr>\n      <th>visualization</th>\n      <td>1879</td>\n      <td>1413</td>\n      <td>1153</td>\n      <td>1207</td>\n      <td>21.82</td>\n      <td>27.50</td>\n      <td>30.11</td>\n      <td>32.22</td>\n      <td>27.91</td>\n    </tr>\n    <tr>\n      <th>AI</th>\n      <td>1568</td>\n      <td>1125</td>\n      <td>811</td>\n      <td>687</td>\n      <td>18.21</td>\n      <td>21.90</td>\n      <td>21.18</td>\n      <td>18.34</td>\n      <td>19.91</td>\n    </tr>\n    <tr>\n      <th>deep learning</th>\n      <td>1310</td>\n      <td>979</td>\n      <td>675</td>\n      <td>606</td>\n      <td>15.21</td>\n      <td>19.05</td>\n      <td>17.63</td>\n      <td>16.18</td>\n      <td>17.02</td>\n    </tr>\n    <tr>\n      <th>NLP</th>\n      <td>1212</td>\n      <td>910</td>\n      <td>660</td>\n      <td>582</td>\n      <td>14.08</td>\n      <td>17.71</td>\n      <td>17.24</td>\n      <td>15.54</td>\n      <td>16.14</td>\n    </tr>\n    <tr>\n      <th>software development</th>\n      <td>732</td>\n      <td>627</td>\n      <td>481</td>\n      <td>784</td>\n      <td>8.50</td>\n      <td>12.20</td>\n      <td>12.56</td>\n      <td>20.93</td>\n      <td>13.55</td>\n    </tr>\n    <tr>\n      <th>neural networks</th>\n      <td>671</td>\n      <td>485</td>\n      <td>421</td>\n      <td>305</td>\n      <td>7.79</td>\n      <td>9.44</td>\n      <td>11.00</td>\n      <td>8.14</td>\n      <td>9.09</td>\n    </tr>\n    <tr>\n      <th>project management</th>\n      <td>476</td>\n      <td>397</td>\n      <td>330</td>\n      <td>348</td>\n      <td>5.53</td>\n      <td>7.73</td>\n      <td>8.62</td>\n      <td>9.29</td>\n      <td>7.79</td>\n    </tr>\n    <tr>\n      <th>software engineering</th>\n      <td>413</td>\n      <td>295</td>\n      <td>250</td>\n      <td>512</td>\n      <td>4.80</td>\n      <td>5.74</td>\n      <td>6.53</td>\n      <td>13.67</td>\n      <td>7.68</td>\n    </tr>\n    <tr>\n      <th>data engineering</th>\n      <td>514</td>\n      <td>339</td>\n      <td>276</td>\n      <td>200</td>\n      <td>5.97</td>\n      <td>6.60</td>\n      <td>7.21</td>\n      <td>5.34</td>\n      <td>6.28</td>\n    </tr>\n  </tbody>\n</table>\n</div>"
          },
          "metadata": {}
        }
      ]
    },
    {
      "metadata": {
        "_uuid": "fd2fa28eb8b091210db950fa9a611cb2493b531e"
      },
      "cell_type": "markdown",
      "source": "## Let's chart the full list."
    },
    {
      "metadata": {
        "trusted": true,
        "_uuid": "33322b498eec4adf7eb8a9cf1446d8c6e523d52b"
      },
      "cell_type": "code",
      "source": "cmax=200\ncmin=50\ncolor_s = np.linspace(cmin, cmax, 16)\n\ndata = [\n    go.Bar(\n        x=df_skills.index,          \n        y=df_skills['avg_percent'],\n        marker=dict(\n            colorscale='Jet',\n            color=color_s,\n        ),\n    )\n]\n\nlayout = dict(\n    title=\"General Skills in Data Scientist Job Listings\",\n    yaxis=dict(title=\"Average % of Listings\",)\n)\n\nfig = go.Figure(data=data, layout=layout)\npy.iplot(fig)",
      "execution_count": 58,
      "outputs": [
        {
          "output_type": "display_data",
          "data": {
            "application/vnd.plotly.v1+json": {
              "data": [
                {
                  "marker": {
                    "color": [
                      50,
                      60,
                      70,
                      80,
                      90,
                      100,
                      110,
                      120,
                      130,
                      140,
                      150,
                      160,
                      170,
                      180,
                      190,
                      200
                    ],
                    "colorscale": "Jet"
                  },
                  "x": [
                    "analysis",
                    "machine learning",
                    "statistics",
                    "computer science",
                    "communication",
                    "mathematics",
                    "visualization",
                    "AI",
                    "deep learning",
                    "NLP",
                    "software development",
                    "neural networks",
                    "project management",
                    "software engineering",
                    "data engineering"
                  ],
                  "y": [
                    71.51900621524717,
                    65.62432467129769,
                    59.84513069876776,
                    52.78837350623147,
                    46.684007081058674,
                    38.99254255868147,
                    27.914442716596824,
                    19.906772109865837,
                    17.018713122912743,
                    16.140318881818885,
                    13.548987906551027,
                    9.0924475699116,
                    7.790886169631248,
                    7.683828488186371,
                    6.27871930210342
                  ],
                  "type": "bar",
                  "uid": "7b41df8e-d088-11e8-a165-11ced18b9a9b"
                }
              ],
              "layout": {
                "title": "General Skills in Data Scientist Job Listings",
                "yaxis": {
                  "title": "Average % of Listings"
                }
              }
            },
            "text/html": "<div id=\"d6c4462b-2347-497c-b042-ad68acbf9a27\" style=\"height: 525px; width: 100%;\" class=\"plotly-graph-div\"></div><script type=\"text/javascript\">require([\"plotly\"], function(Plotly) { window.PLOTLYENV=window.PLOTLYENV || {};window.PLOTLYENV.BASE_URL=\"https://plot.ly\";Plotly.newPlot(\"d6c4462b-2347-497c-b042-ad68acbf9a27\", [{\"marker\": {\"color\": [50.0, 60.0, 70.0, 80.0, 90.0, 100.0, 110.0, 120.0, 130.0, 140.0, 150.0, 160.0, 170.0, 180.0, 190.0, 200.0], \"colorscale\": \"Jet\"}, \"x\": [\"analysis\", \"machine learning\", \"statistics\", \"computer science\", \"communication\", \"mathematics\", \"visualization\", \"AI\", \"deep learning\", \"NLP\", \"software development\", \"neural networks\", \"project management\", \"software engineering\", \"data engineering\"], \"y\": [71.51900621524717, 65.62432467129769, 59.84513069876776, 52.78837350623147, 46.684007081058674, 38.99254255868147, 27.914442716596824, 19.906772109865837, 17.018713122912743, 16.140318881818885, 13.548987906551027, 9.0924475699116, 7.790886169631248, 7.683828488186371, 6.27871930210342], \"type\": \"bar\", \"uid\": \"7b41df8e-d088-11e8-a165-11ced18b9a9b\"}], {\"title\": \"General Skills in Data Scientist Job Listings\", \"yaxis\": {\"title\": \"Average % of Listings\"}}, {\"showLink\": true, \"linkText\": \"Export to plot.ly\"})});</script>",
            "text/vnd.plotly.v1+html": "<div id=\"d6c4462b-2347-497c-b042-ad68acbf9a27\" style=\"height: 525px; width: 100%;\" class=\"plotly-graph-div\"></div><script type=\"text/javascript\">require([\"plotly\"], function(Plotly) { window.PLOTLYENV=window.PLOTLYENV || {};window.PLOTLYENV.BASE_URL=\"https://plot.ly\";Plotly.newPlot(\"d6c4462b-2347-497c-b042-ad68acbf9a27\", [{\"marker\": {\"color\": [50.0, 60.0, 70.0, 80.0, 90.0, 100.0, 110.0, 120.0, 130.0, 140.0, 150.0, 160.0, 170.0, 180.0, 190.0, 200.0], \"colorscale\": \"Jet\"}, \"x\": [\"analysis\", \"machine learning\", \"statistics\", \"computer science\", \"communication\", \"mathematics\", \"visualization\", \"AI\", \"deep learning\", \"NLP\", \"software development\", \"neural networks\", \"project management\", \"software engineering\", \"data engineering\"], \"y\": [71.51900621524717, 65.62432467129769, 59.84513069876776, 52.78837350623147, 46.684007081058674, 38.99254255868147, 27.914442716596824, 19.906772109865837, 17.018713122912743, 16.140318881818885, 13.548987906551027, 9.0924475699116, 7.790886169631248, 7.683828488186371, 6.27871930210342], \"type\": \"bar\", \"uid\": \"7b41df8e-d088-11e8-a165-11ced18b9a9b\"}], {\"title\": \"General Skills in Data Scientist Job Listings\", \"yaxis\": {\"title\": \"Average % of Listings\"}}, {\"showLink\": true, \"linkText\": \"Export to plot.ly\"})});</script>"
          },
          "metadata": {}
        }
      ]
    },
    {
      "metadata": {
        "_uuid": "2c45fe36ffce483eb36a83dbe9810771b7576c61"
      },
      "cell_type": "markdown",
      "source": "# A few summary stats"
    },
    {
      "metadata": {
        "trusted": true,
        "_uuid": "834cd01a11c15d75f6ec5504f68ae50eb3ef8906"
      },
      "cell_type": "code",
      "source": "ds_results = pd.Series({\n    'LinkedIn': 8610,\n    'Indeed': 5138, \n    'SimplyHired': 3829,\n    'Monster': 3746,\n    'AngelList': 658\n})\nds_results",
      "execution_count": 56,
      "outputs": [
        {
          "output_type": "execute_result",
          "execution_count": 56,
          "data": {
            "text/plain": "LinkedIn       8610\nIndeed         5138\nSimplyHired    3829\nMonster        3746\nAngelList       658\ndtype: int64"
          },
          "metadata": {}
        }
      ]
    },
    {
      "metadata": {
        "trusted": true,
        "_uuid": "033b85b1b3f65abcfbd905a6e93aa9ae706125d3"
      },
      "cell_type": "code",
      "source": "cmax=200\ncmin=50\ncolor_s = np.linspace(cmin, cmax, 5)\n\ndata = [\n    go.Bar(\n        x=ds_results.index,          \n        y=ds_results.values,\n        marker=dict(\n            colorscale='Jet',\n            #cauto=True,\n            color=color_s,\n        ),\n        # text=p_s_df['Score'],\n        # textposition='outside',\n        # textfont=dict(size=10)\n    )\n]\n\nlayout = {\n    'title': \"Data Scientist Job Listings\",\n    'xaxis': {'title': 'Website'},\n    'yaxis': {'title': 'Listings', 'separatethousands': True,}\n}\n\nfig = go.Figure(data=data, layout=layout)\npy.iplot(fig)\n\n",
      "execution_count": 57,
      "outputs": [
        {
          "output_type": "display_data",
          "data": {
            "application/vnd.plotly.v1+json": {
              "data": [
                {
                  "marker": {
                    "color": [
                      50,
                      87.5,
                      125,
                      162.5,
                      200
                    ],
                    "colorscale": "Jet"
                  },
                  "x": [
                    "LinkedIn",
                    "Indeed",
                    "SimplyHired",
                    "Monster",
                    "AngelList"
                  ],
                  "y": [
                    8610,
                    5138,
                    3829,
                    3746,
                    658
                  ],
                  "type": "bar",
                  "uid": "645edaec-d088-11e8-a165-11ced18b9a9b"
                }
              ],
              "layout": {
                "title": "Data Scientist Job Listings",
                "xaxis": {
                  "title": "Website"
                },
                "yaxis": {
                  "separatethousands": true,
                  "title": "Listings"
                }
              }
            },
            "text/html": "<div id=\"a839bcd7-d0b5-4933-b9c7-85ae6fcaacb3\" style=\"height: 525px; width: 100%;\" class=\"plotly-graph-div\"></div><script type=\"text/javascript\">require([\"plotly\"], function(Plotly) { window.PLOTLYENV=window.PLOTLYENV || {};window.PLOTLYENV.BASE_URL=\"https://plot.ly\";Plotly.newPlot(\"a839bcd7-d0b5-4933-b9c7-85ae6fcaacb3\", [{\"marker\": {\"color\": [50.0, 87.5, 125.0, 162.5, 200.0], \"colorscale\": \"Jet\"}, \"x\": [\"LinkedIn\", \"Indeed\", \"SimplyHired\", \"Monster\", \"AngelList\"], \"y\": [8610, 5138, 3829, 3746, 658], \"type\": \"bar\", \"uid\": \"645edaec-d088-11e8-a165-11ced18b9a9b\"}], {\"title\": \"Data Scientist Job Listings\", \"xaxis\": {\"title\": \"Website\"}, \"yaxis\": {\"separatethousands\": true, \"title\": \"Listings\"}}, {\"showLink\": true, \"linkText\": \"Export to plot.ly\"})});</script>",
            "text/vnd.plotly.v1+html": "<div id=\"a839bcd7-d0b5-4933-b9c7-85ae6fcaacb3\" style=\"height: 525px; width: 100%;\" class=\"plotly-graph-div\"></div><script type=\"text/javascript\">require([\"plotly\"], function(Plotly) { window.PLOTLYENV=window.PLOTLYENV || {};window.PLOTLYENV.BASE_URL=\"https://plot.ly\";Plotly.newPlot(\"a839bcd7-d0b5-4933-b9c7-85ae6fcaacb3\", [{\"marker\": {\"color\": [50.0, 87.5, 125.0, 162.5, 200.0], \"colorscale\": \"Jet\"}, \"x\": [\"LinkedIn\", \"Indeed\", \"SimplyHired\", \"Monster\", \"AngelList\"], \"y\": [8610, 5138, 3829, 3746, 658], \"type\": \"bar\", \"uid\": \"645edaec-d088-11e8-a165-11ced18b9a9b\"}], {\"title\": \"Data Scientist Job Listings\", \"xaxis\": {\"title\": \"Website\"}, \"yaxis\": {\"separatethousands\": true, \"title\": \"Listings\"}}, {\"showLink\": true, \"linkText\": \"Export to plot.ly\"})});</script>"
          },
          "metadata": {}
        }
      ]
    },
    {
      "metadata": {
        "_uuid": "f8a4918892b7e26bc6abd91a0009fb640f75f65b"
      },
      "cell_type": "markdown",
      "source": "# Pleave upvote if you found this interesting or informative!"
    },
    {
      "metadata": {
        "_uuid": "b03a4fcfc5f295f307ac757d8901530de0a81d5d"
      },
      "cell_type": "markdown",
      "source": "## Postscript: Configuring Plotly\n\nPlotly is super cool, but setup can be a bit tricky and there is a lot of old documentation mixed in with relevant documentation. Here's how to get up and running.\n\nFollow the instructions on [plotly's site](https://github.com/plotly/plotly.py).\n\nTo install on Mac/Linux from the command line with support for plotly's magic, depending on what you already have installed see the plotly docs. Here's what I had to run with a relatively new conda install:\n\nconda install -c plotly plotly=3.3.0 <br>\nconda install -c conda-forge nodejs <br>\nconda install jupyterlab=0.34 \"ipywidgets>=7.2\" <br>\nexport NODE_OPTIONS=--max-old-space-size=4096 <br>\njupyter labextension install @jupyter-widgets/jupyterlab-manager@0.37 --no-build <br>\njupyter labextension install plotlywidget@0.4.0 --no-build <br>\njupyter labextension install @jupyterlab/plotly-extension@0.17.2 --no-build <br>\njupyter lab build <br>\nunset NODE_OPTIONS <br>"
    },
    {
      "metadata": {
        "trusted": true,
        "_uuid": "803c68a206e88be928468c656111c3b118774100"
      },
      "cell_type": "code",
      "source": "",
      "execution_count": null,
      "outputs": []
    },
    {
      "metadata": {
        "trusted": true,
        "_uuid": "e2af28c49248ea16479605c0b231a7197b7cd00b"
      },
      "cell_type": "code",
      "source": "",
      "execution_count": null,
      "outputs": []
    }
  ],
  "metadata": {
    "kernelspec": {
      "display_name": "Python 3",
      "language": "python",
      "name": "python3"
    },
    "language_info": {
      "name": "python",
      "version": "3.6.6",
      "mimetype": "text/x-python",
      "codemirror_mode": {
        "name": "ipython",
        "version": 3
      },
      "pygments_lexer": "ipython3",
      "nbconvert_exporter": "python",
      "file_extension": ".py"
    }
  },
  "nbformat": 4,
  "nbformat_minor": 1
}